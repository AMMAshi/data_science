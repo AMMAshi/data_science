{
  "nbformat": 4,
  "nbformat_minor": 0,
  "metadata": {
    "colab": {
      "name": "Calculating a Monthly Car Payment",
      "provenance": [],
      "authorship_tag": "ABX9TyM5G1YBYYeR+hXr1HyK+USg",
      "include_colab_link": true
    },
    "kernelspec": {
      "name": "python3",
      "display_name": "Python 3"
    }
  },
  "cells": [
    {
      "cell_type": "markdown",
      "metadata": {
        "id": "view-in-github",
        "colab_type": "text"
      },
      "source": [
        "<a href=\"https://colab.research.google.com/github/daniel-dc-cd/data_science/blob/master/Calculating_a_Monthly_Car_Payment.ipynb\" target=\"_parent\"><img src=\"https://colab.research.google.com/assets/colab-badge.svg\" alt=\"Open In Colab\"/></a>"
      ]
    },
    {
      "cell_type": "markdown",
      "metadata": {
        "id": "TW_sM52M2q3h"
      },
      "source": [
        "\n",
        "\n",
        "Your monthly payment, also called your Equated Monthly Installment (EMI) is defined by Investopedia as a fixed payment amount made by a borrower to a lender at a specified date each calendar month. Equated monthly installments are used to pay off both interest and principal each month, so that over a specified number of years, the loan is paid off in full.\n",
        "\n",
        "A monthly payment can be calculated using an EMI formula similar to the one below.\n",
        "\n",
        "Say I buy want to buy a 2019 Toyota Sienna for $31,115. I am curious how much it will cost me each month if I decide on taking out a loan to buy this new vehicle. A car dealer offers me a fixed interest rate of 7.02% over a 60 month term. How much would a monthly car payment be assuming the sales tax rate is 7.5%?\n"
      ]
    },
    {
      "cell_type": "code",
      "metadata": {
        "id": "NmQWzUxj0hvH",
        "outputId": "c01c2959-8457-49a6-8bce-fd8196b25c33",
        "colab": {
          "base_uri": "https://localhost:8080/",
          "height": 34
        }
      },
      "source": [
        "%matplotlib inline\n",
        "import matplotlib.pyplot as plt\n",
        "import numpy as np\n",
        "import pandas as pd\n",
        "\n",
        "P = 31115 * (1.075)\n",
        "r = 0.0702 / 12\n",
        "n = 60\n",
        "numerator = (r *((1 + r)**(n)) )\n",
        "denominator = ((1 + r)**(n)) - 1\n",
        "emi = P * (numerator / denominator)\n",
        "np.round(emi,2)"
      ],
      "execution_count": 1,
      "outputs": [
        {
          "output_type": "execute_result",
          "data": {
            "text/plain": [
              "662.64"
            ]
          },
          "metadata": {
            "tags": []
          },
          "execution_count": 1
        }
      ]
    },
    {
      "cell_type": "markdown",
      "metadata": {
        "id": "byPqUPuX2vjw"
      },
      "source": [
        "\n",
        "\n",
        "While this is a simplified and relatively accurate calculation (except for the sales tax being an assumption), more accurate calculations require work. Data Analytics/Science is about communicating results. We really do need how to do something more complicated (how much in total interest are we paying, how do we visualize this . This is what we will explore in future lectures.\n",
        "\n"
      ]
    },
    {
      "cell_type": "markdown",
      "metadata": {
        "id": "cFWYoiVn2vx9"
      },
      "source": [
        "\n",
        "**Challenge Question: Calculate Total Interest Paid Over the Course of a Loan**\n",
        "\n",
        "\n",
        "1) The first thing is to calculate how much of the monthly payment will be paid towards interest in a month.\n",
        "\n",
        "\n",
        "**Interest paid**: where r is the interest rate (APR) and P is the principal\n",
        "$$r*P$$\n",
        "\n",
        "\n",
        "\n"
      ]
    },
    {
      "cell_type": "markdown",
      "metadata": {
        "id": "453oRfZq2wBg"
      },
      "source": [
        "2) Each month, some of the monthly payment is paid towards principal and some towards interest. As principal lowers, to work out the interest you pay in the following months, you need to first calculate your new principal. You can see how to calculate this below."
      ]
    },
    {
      "cell_type": "markdown",
      "metadata": {
        "id": "40Q2VGax2wLF"
      },
      "source": [
        "3) Repeat steps 1 and 2 until the principal reaches 0. You can see an example of this in the Python code below."
      ]
    },
    {
      "cell_type": "code",
      "metadata": {
        "id": "T9509M2c2weQ",
        "outputId": "2be690d2-7a6a-4575-95e3-f2f488f4a18c",
        "colab": {
          "base_uri": "https://localhost:8080/",
          "height": 1000
        }
      },
      "source": [
        "term = 63\n",
        "P = 34689.96 #total purchase price with tax\n",
        "\n",
        "def calc_interest(P, emi, interest_rate = 0.0702):\n",
        "  interest_paid = np.floor(((interest_rate/12)*P)*100)/100\n",
        "  principal_paid = np.round(emi-interest_paid, 2)\n",
        "  new_balance = np.round(P - principal_paid, 2)\n",
        "  return(emi, interest_paid, principal_paid, new_balance)\n",
        "\n",
        "payment_list = []\n",
        "\n",
        "for n in range(1, term + 1):\n",
        "  emi, i_paid, p_paid, new_p = calc_interest(P, emi)\n",
        "  payment_list.append([n,P,emi,i_paid,p_paid,new_p])\n",
        "  P = np.round(new_p, 2)    \n",
        "\n",
        "payment_list"
      ],
      "execution_count": 18,
      "outputs": [
        {
          "output_type": "execute_result",
          "data": {
            "text/plain": [
              "[[1, 34689.96, 662.638532377825, 202.93, 459.71, 34230.25],\n",
              " [2, 34230.25, 662.638532377825, 200.24, 462.4, 33767.85],\n",
              " [3, 33767.85, 662.638532377825, 197.54, 465.1, 33302.75],\n",
              " [4, 33302.75, 662.638532377825, 194.82, 467.82, 32834.93],\n",
              " [5, 32834.93, 662.638532377825, 192.08, 470.56, 32364.37],\n",
              " [6, 32364.37, 662.638532377825, 189.33, 473.31, 31891.06],\n",
              " [7, 31891.06, 662.638532377825, 186.56, 476.08, 31414.98],\n",
              " [8, 31414.98, 662.638532377825, 183.77, 478.87, 30936.11],\n",
              " [9, 30936.11, 662.638532377825, 180.97, 481.67, 30454.44],\n",
              " [10, 30454.44, 662.638532377825, 178.15, 484.49, 29969.95],\n",
              " [11, 29969.95, 662.638532377825, 175.32, 487.32, 29482.63],\n",
              " [12, 29482.63, 662.638532377825, 172.47, 490.17, 28992.46],\n",
              " [13, 28992.46, 662.638532377825, 169.6, 493.04, 28499.42],\n",
              " [14, 28499.42, 662.638532377825, 166.72, 495.92, 28003.5],\n",
              " [15, 28003.5, 662.638532377825, 163.82, 498.82, 27504.68],\n",
              " [16, 27504.68, 662.638532377825, 160.9, 501.74, 27002.94],\n",
              " [17, 27002.94, 662.638532377825, 157.96, 504.68, 26498.26],\n",
              " [18, 26498.26, 662.638532377825, 155.01, 507.63, 25990.63],\n",
              " [19, 25990.63, 662.638532377825, 152.04, 510.6, 25480.03],\n",
              " [20, 25480.03, 662.638532377825, 149.05, 513.59, 24966.44],\n",
              " [21, 24966.44, 662.638532377825, 146.05, 516.59, 24449.85],\n",
              " [22, 24449.85, 662.638532377825, 143.03, 519.61, 23930.24],\n",
              " [23, 23930.24, 662.638532377825, 139.99, 522.65, 23407.59],\n",
              " [24, 23407.59, 662.638532377825, 136.93, 525.71, 22881.88],\n",
              " [25, 22881.88, 662.638532377825, 133.85, 528.79, 22353.09],\n",
              " [26, 22353.09, 662.638532377825, 130.76, 531.88, 21821.21],\n",
              " [27, 21821.21, 662.638532377825, 127.65, 534.99, 21286.22],\n",
              " [28, 21286.22, 662.638532377825, 124.52, 538.12, 20748.1],\n",
              " [29, 20748.1, 662.638532377825, 121.37, 541.27, 20206.83],\n",
              " [30, 20206.83, 662.638532377825, 118.2, 544.44, 19662.39],\n",
              " [31, 19662.39, 662.638532377825, 115.02, 547.62, 19114.77],\n",
              " [32, 19114.77, 662.638532377825, 111.82, 550.82, 18563.95],\n",
              " [33, 18563.95, 662.638532377825, 108.59, 554.05, 18009.9],\n",
              " [34, 18009.9, 662.638532377825, 105.35, 557.29, 17452.61],\n",
              " [35, 17452.61, 662.638532377825, 102.09, 560.55, 16892.06],\n",
              " [36, 16892.06, 662.638532377825, 98.81, 563.83, 16328.23],\n",
              " [37, 16328.23, 662.638532377825, 95.52, 567.12, 15761.11],\n",
              " [38, 15761.11, 662.638532377825, 92.2, 570.44, 15190.67],\n",
              " [39, 15190.67, 662.638532377825, 88.86, 573.78, 14616.89],\n",
              " [40, 14616.89, 662.638532377825, 85.5, 577.14, 14039.75],\n",
              " [41, 14039.75, 662.638532377825, 82.13, 580.51, 13459.24],\n",
              " [42, 13459.24, 662.638532377825, 78.73, 583.91, 12875.33],\n",
              " [43, 12875.33, 662.638532377825, 75.32, 587.32, 12288.01],\n",
              " [44, 12288.01, 662.638532377825, 71.88, 590.76, 11697.25],\n",
              " [45, 11697.25, 662.638532377825, 68.42, 594.22, 11103.03],\n",
              " [46, 11103.03, 662.638532377825, 64.95, 597.69, 10505.34],\n",
              " [47, 10505.34, 662.638532377825, 61.45, 601.19, 9904.15],\n",
              " [48, 9904.15, 662.638532377825, 57.93, 604.71, 9299.44],\n",
              " [49, 9299.44, 662.638532377825, 54.4, 608.24, 8691.2],\n",
              " [50, 8691.2, 662.638532377825, 50.84, 611.8, 8079.4],\n",
              " [51, 8079.4, 662.638532377825, 47.26, 615.38, 7464.02],\n",
              " [52, 7464.02, 662.638532377825, 43.66, 618.98, 6845.04],\n",
              " [53, 6845.04, 662.638532377825, 40.04, 622.6, 6222.44],\n",
              " [54, 6222.44, 662.638532377825, 36.4, 626.24, 5596.2],\n",
              " [55, 5596.2, 662.638532377825, 32.73, 629.91, 4966.29],\n",
              " [56, 4966.29, 662.638532377825, 29.05, 633.59, 4332.7],\n",
              " [57, 4332.7, 662.638532377825, 25.34, 637.3, 3695.4],\n",
              " [58, 3695.4, 662.638532377825, 21.61, 641.03, 3054.37],\n",
              " [59, 3054.37, 662.638532377825, 17.86, 644.78, 2409.59],\n",
              " [60, 2409.59, 662.638532377825, 14.09, 648.55, 1761.04],\n",
              " [61, 1761.04, 662.638532377825, 10.3, 652.34, 1108.7],\n",
              " [62, 1108.7, 662.638532377825, 6.48, 656.16, 452.54],\n",
              " [63, 452.54, 662.638532377825, 2.64, 660.0, -207.46]]"
            ]
          },
          "metadata": {
            "tags": []
          },
          "execution_count": 18
        }
      ]
    },
    {
      "cell_type": "code",
      "metadata": {
        "id": "-jrQIQ1I2wkX"
      },
      "source": [
        "c_names = ['Month','Starting Balance','Repayment','Interest Paid','Principal Paid','New Balance']\n",
        "payment_table = pd.DataFrame(payment_list, columns = c_names)"
      ],
      "execution_count": 19,
      "outputs": []
    },
    {
      "cell_type": "code",
      "metadata": {
        "id": "sE_0-iJU7HHq",
        "outputId": "fe944f06-7f62-4a48-a024-5cdb71ba025c",
        "colab": {
          "base_uri": "https://localhost:8080/",
          "height": 206
        }
      },
      "source": [
        "payment_table.tail()"
      ],
      "execution_count": 20,
      "outputs": [
        {
          "output_type": "execute_result",
          "data": {
            "text/html": [
              "<div>\n",
              "<style scoped>\n",
              "    .dataframe tbody tr th:only-of-type {\n",
              "        vertical-align: middle;\n",
              "    }\n",
              "\n",
              "    .dataframe tbody tr th {\n",
              "        vertical-align: top;\n",
              "    }\n",
              "\n",
              "    .dataframe thead th {\n",
              "        text-align: right;\n",
              "    }\n",
              "</style>\n",
              "<table border=\"1\" class=\"dataframe\">\n",
              "  <thead>\n",
              "    <tr style=\"text-align: right;\">\n",
              "      <th></th>\n",
              "      <th>Month</th>\n",
              "      <th>Starting Balance</th>\n",
              "      <th>Repayment</th>\n",
              "      <th>Interest Paid</th>\n",
              "      <th>Principal Paid</th>\n",
              "      <th>New Balance</th>\n",
              "    </tr>\n",
              "  </thead>\n",
              "  <tbody>\n",
              "    <tr>\n",
              "      <th>58</th>\n",
              "      <td>59</td>\n",
              "      <td>3054.37</td>\n",
              "      <td>662.638532</td>\n",
              "      <td>17.86</td>\n",
              "      <td>644.78</td>\n",
              "      <td>2409.59</td>\n",
              "    </tr>\n",
              "    <tr>\n",
              "      <th>59</th>\n",
              "      <td>60</td>\n",
              "      <td>2409.59</td>\n",
              "      <td>662.638532</td>\n",
              "      <td>14.09</td>\n",
              "      <td>648.55</td>\n",
              "      <td>1761.04</td>\n",
              "    </tr>\n",
              "    <tr>\n",
              "      <th>60</th>\n",
              "      <td>61</td>\n",
              "      <td>1761.04</td>\n",
              "      <td>662.638532</td>\n",
              "      <td>10.30</td>\n",
              "      <td>652.34</td>\n",
              "      <td>1108.70</td>\n",
              "    </tr>\n",
              "    <tr>\n",
              "      <th>61</th>\n",
              "      <td>62</td>\n",
              "      <td>1108.70</td>\n",
              "      <td>662.638532</td>\n",
              "      <td>6.48</td>\n",
              "      <td>656.16</td>\n",
              "      <td>452.54</td>\n",
              "    </tr>\n",
              "    <tr>\n",
              "      <th>62</th>\n",
              "      <td>63</td>\n",
              "      <td>452.54</td>\n",
              "      <td>662.638532</td>\n",
              "      <td>2.64</td>\n",
              "      <td>660.00</td>\n",
              "      <td>-207.46</td>\n",
              "    </tr>\n",
              "  </tbody>\n",
              "</table>\n",
              "</div>"
            ],
            "text/plain": [
              "    Month  Starting Balance  ...  Principal Paid  New Balance\n",
              "58     59           3054.37  ...          644.78      2409.59\n",
              "59     60           2409.59  ...          648.55      1761.04\n",
              "60     61           1761.04  ...          652.34      1108.70\n",
              "61     62           1108.70  ...          656.16       452.54\n",
              "62     63            452.54  ...          660.00      -207.46\n",
              "\n",
              "[5 rows x 6 columns]"
            ]
          },
          "metadata": {
            "tags": []
          },
          "execution_count": 20
        }
      ]
    },
    {
      "cell_type": "code",
      "metadata": {
        "id": "CH3OX9Zo7Kia",
        "outputId": "8629a6c1-fc35-4f64-8d1c-94c997d670e2",
        "colab": {
          "base_uri": "https://localhost:8080/",
          "height": 34
        }
      },
      "source": [
        "np.round(payment_table['Interest Paid'].sum(), 2)"
      ],
      "execution_count": 14,
      "outputs": [
        {
          "output_type": "execute_result",
          "data": {
            "text/plain": [
              "6829.48"
            ]
          },
          "metadata": {
            "tags": []
          },
          "execution_count": 14
        }
      ]
    },
    {
      "cell_type": "code",
      "metadata": {
        "id": "tYjz6eqw7maK",
        "outputId": "954e9e74-2158-4c9e-bfb7-a2fe2f8ad53f",
        "colab": {
          "base_uri": "https://localhost:8080/",
          "height": 369
        }
      },
      "source": [
        "\n",
        "\n",
        "fig, axes = plt.subplots(nrows = 1, ncols = 1, figsize=(10, 5) )\n",
        "axes.plot(payment_table['Month'], payment_table['Principal Paid'], c = 'b', label = 'Principal');\n",
        "axes.plot(payment_table['Month'], payment_table['Interest Paid'], c = 'k', label = 'Interest');\n",
        "\n",
        "axes.set_xlim((1, 60));\n",
        "axes.set_xticks([1, 10, 20, 30, 40, 50, 60])\n",
        "axes.set_ylim((0, 700));\n",
        "axes.set_ylabel('Dollars', fontsize = 22);\n",
        "axes.set_xlabel('Month', fontsize = 22);\n",
        "\n",
        "plt.xticks(fontsize = 20)\n",
        "plt.yticks(fontsize = 20)\n",
        "axes.set_title('Interest and Principal Paid Each Month', fontsize = 24)\n",
        "\n",
        "plt.legend(bbox_to_anchor=(1.02,0), loc=\"lower left\", borderaxespad=0, fontsize = 20)\n",
        "plt.tight_layout()\n",
        "plt.grid(axis = 'both')\n",
        "#plt.savefig('Interest_Principal.png', dpi = 1000)\n",
        "\n"
      ],
      "execution_count": 15,
      "outputs": [
        {
          "output_type": "display_data",
          "data": {
            "image/png": "[encoded data removed]",
            "text/plain": [
              "<Figure size 720x360 with 1 Axes>"
            ]
          },
          "metadata": {
            "tags": [],
            "needs_background": "light"
          }
        }
      ]
    },
    {
      "cell_type": "code",
      "metadata": {
        "id": "vQFYhj7s75s_"
      },
      "source": [
        ""
      ],
      "execution_count": null,
      "outputs": []
    }
  ]
}