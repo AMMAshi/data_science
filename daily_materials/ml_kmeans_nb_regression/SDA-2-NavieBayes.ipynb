{
 "cells": [
  {
   "cell_type": "markdown",
   "metadata": {
    "colab_type": "text",
    "collapsed": true,
    "id": "AKGfyxWhAJui"
   },
   "source": [
    "# Naive Bayes\n",
    "\n",
    "In contrast to *k*-means clustering, Naive Bayes is a supervised machine-learning (ML) algorithm. It provides good speed and good accuracy and is often used in aspects of natural-language processing such text classification or, in our case in this section, spam detection.\n",
    "\n",
    "Spam emails are more than just a nuisance. As recently as 2008, spam constituted an apocalyptic 97.8 percent of all email traffic according to a [Statistica](https://www.statista.com/statistics/420391/spam-email-traffic-share/). That tide has thankfully turned and, as of November 2020, spam makes up only about **~54 percent of email traffic** — thanks, in no small part, to Naive Bayes spam filters.\n",
    "\n",
    "Naive Bayes is a convenient algorithm for spam detection because it does not require encoding complex rules. All it needs is training examples, of which there are plenty when it comes to email spam. Naive Bayes does all this through the use of [conditional probability](https://en.wikipedia.org/wiki/Conditional_probability).\n",
    "\n",
    "> **Learning objective:** By the end of this section, you should have a basic understanding of how naive Bayes works and some of the reasons for its popularity.\n",
    "\n",
    "## Conditional probability\n",
    "\n",
    "Ordinary probability deals with the likelihood of isolated events occurring. For example, rolling a 6 on a fair six-sided die will occur, on average, on one out of six rolls. Mathematicians express this probability as $P({\\rm die}=6)=\\frac{1}{6}$.\n",
    "\n",
    "Conditional probability concerns itself with the contingencies of interconnected events: what is the probability of event $A$ happening if event $B$ occurs. Mathematicians denote this as $P(A|B)$, or \"the probability of $A$ given $B$.\"\n",
    "\n",
    "In order to compute the probability of conditional events, we use the following equation:\n",
    "\n",
    "$P(A \\mid B)=\\cfrac{P(A \\cap B)}{P(B)}$\n",
    "\n",
    "This equation is nice, but it assumes that we know the joint probability $P(A\\cap B)$, which we often don't. Instead, we often need to know something about $A$ but all we can directly observe is $B$. For instance, when we want to infer whether an email is spam only by knowing the words it contains. For this, we need Bayes' law.\n",
    "\n",
    "## Bayes' law\n",
    "\n",
    "Bayes' law takes its name from the eighteenth-century English statistician and philosopher Thomas Bayes, who described the probability of an event based solely on prior knowledge of conditions that might be related to that event thus:\n",
    "\n",
    "$P(A \\mid B)=\\cfrac{P(B \\mid A)P(A)}{P(B)}$\n",
    "\n",
    "In words, Bayes' Law says that if I know the prior probabilities $P(A)$ and $P(B)$, in addition to the likelihood (even just an assumed likelihood) $P(B \\mid A)$, I can compute the posterior probability $P(A \\mid B)$. Let's apply this to spam.\n",
    "\n",
    "<img align=\"center\" style=\"padding-right:10px;\" src=\"Images/spam.png\" border=\"5\">\n",
    "\n",
    "In order to use Bayesian probability on spam email messages like this one, consider it (and all other emails, spam or ham) to be bags of words. We don't care about word order or even word meaning. We just want to count the frequency of certain words in spam messages versus the frequency of those same words in valid email messages.\n",
    "\n",
    "Let's say that, after having counted the words in hundreds of emails that we have received, we determine the probability of the word \"debt\" appearing in any kind of email message (spam or ham) to be 0.157, with the probability of \"debt\" appearing in spam messages being 0.309. Further more, let's say that we assume that there is a 50 percent chance that any given email message we receive is spam (for this example, we don't know either way what type of email it might be, so it's a coin flip). Mathematically, we could thus say:\n",
    " - Probability that a given message is spam: $P({\\rm S})=0.5$\n",
    " - Probability that “debt” appears in a given message: $P({\\rm debt})=0.157$\n",
    " - Probability that “debt” appears in a spam message: $P({\\rm debt} \\mid {\\rm S})=0.309$\n",
    "\n",
    "Plugging this in to Bayes' law, we get the following probability that an email message containing the word \"debt\" is spam:\n",
    "\n",
    "$P({\\rm S} \\mid {\\rm debt})=\\cfrac{P({\\rm debt} \\mid {\\rm S})P({\\rm S})}{P({\\rm debt})}=\\cfrac{(0.309)(0.5)}{0.157}=\\cfrac{0.1545}{0.157}=0.984$\n",
    "\n",
    "Thus if an email contains the word \"debt,\" we calculate that it is 98.4 percent likely to be spam.\n",
    "\n",
    "## What makes it naive?\n",
    "\n",
    "Our above calculation is great for looking at individual words, but emails contain several words that can give us clues to an email's relative likelihood of being spam or ham. For example, say we wanted to determine whether an email is spam given that it contains the words \"debt\" and \"bills.\" We can begin by reasoning that the probability that an email containing \"debt\" and \"bills\" is spam is, if not equal, at least proportional to the probability of \"debt\" and \"bills\" appearing in known spam messages times the probability of any given message being spam:\n",
    "\n",
    "$P({\\rm S} \\mid {\\rm debt, bills}) \\propto P({\\rm debt, bills} \\mid {\\rm S})P({\\rm S})$\n",
    "\n",
    "(**Mathematical note:** The symbol ∝ represents proportionality rather than equality.)\n",
    "\n",
    "Now if we assume that the occurrence of the words \"debt\" and \"bills\" are independent events, we can extend this proportionality:\n",
    "\n",
    "$P({\\rm S} \\mid {\\rm debt, bills}) \\propto P({\\rm debt} \\mid {\\rm S})P({\\rm bills} \\mid {\\rm S})P({\\rm S})$\n",
    "\n",
    "We should state here that this assumption of independence is generally not true. Just look at the example spam message above. The probability that \"bills\" will appears in a spam message containing \"debt\" is probably quite high. However, assuming that the probabilities of words occurring in our email messages are independent is useful and works surprising well. This assumption of independence is the naive part of the Baysian probabilities that we will use in this section; expressed mathematically, the working assumption that will underpin the ML in this section is that for any collection of $n$ words:\n",
    "\n",
    "$P({\\rm S}\\mid {\\rm word_1}, {\\rm word_2},\\ldots, {\\rm word}_n)=P({\\rm S})P({\\rm word_1}\\mid {\\rm S})P({\\rm word_2}\\mid {\\rm S})\\cdots P({\\rm word}_n\\mid {\\rm S})$\n",
    "\n",
    "> **Key takeaway:** We cannot emphasize enough that this chain rule expressed in the equation above—that the probability of a message being spam based on the words in it is equal to the product of the likelihoods of those individual words appearing in messages known to be spam is ***not*** true. But it gets good results and, in the world of data science, fast and good enough always trump mathematical fidelity."
   ]
  },
  {
   "cell_type": "markdown",
   "metadata": {
    "colab_type": "text",
    "id": "Rn-ySwNfU234"
   },
   "source": [
    "## Import the dataset\n",
    "\n",
    "In this section, we'll use the [SMS Spam Collection dataset](https://archive.ics.uci.edu/ml/datasets/SMS+Spam+Collection). It contains 5,574 messages collected for SMS spam research and tagged as \"spam\" or \"ham.\" The dataset files contain one message per line with each line being composed of the tag and the raw text of the SMS message. For example:\n",
    "\n",
    "| Class | Message                       |\n",
    "|:------|:------------------------------|\n",
    "| ham   | What you doing?how are you?   |\n",
    "| ham   | Ok lar... Joking wif u oni... |\n",
    "\n",
    "Let’s now import pandas and load the dataset. (Note that the path name is case sensitive.)"
   ]
  },
  {
   "cell_type": "code",
   "execution_count": null,
   "metadata": {
    "colab": {},
    "colab_type": "code",
    "id": "DOOEodQVAJuz"
   },
   "outputs": [],
   "source": [
    "import pandas as pd \n",
    "df = pd.read_csv('Data/SMSSpamCollection', sep='\\t', names=['Class', 'Message'])"
   ]
  },
  {
   "cell_type": "markdown",
   "metadata": {},
   "source": [
    "> **Question**\n",
    ">\n",
    "> What do the `sep` and `names` parameters do in the code cell above? (**Hint:** If you are unsure, you can refer to the built-in Help documentation using `pd.read_csv?` in the code cell below.)"
   ]
  },
  {
   "cell_type": "code",
   "execution_count": null,
   "metadata": {},
   "outputs": [],
   "source": []
  },
  {
   "cell_type": "markdown",
   "metadata": {},
   "source": [
    "Let's take an initial look at what's in the dataset."
   ]
  },
  {
   "cell_type": "code",
   "execution_count": null,
   "metadata": {
    "colab": {
     "base_uri": "https://localhost:8080/",
     "height": 202
    },
    "colab_type": "code",
    "id": "6j8BELX6AJu4",
    "outputId": "ab88082e-d6d5-419d-d20b-1f5dc2db1b6e"
   },
   "outputs": [],
   "source": [
    "df.head()"
   ]
  },
  {
   "cell_type": "markdown",
   "metadata": {
    "colab_type": "text",
    "id": "t7jxNfreWkrj"
   },
   "source": [
    "Note that several entries in the `Message` column are truncated. We can use the `set_option()` function to set pandas to display the maximum width of each entry. "
   ]
  },
  {
   "cell_type": "code",
   "execution_count": null,
   "metadata": {
    "colab": {
     "base_uri": "https://localhost:8080/",
     "height": 202
    },
    "colab_type": "code",
    "id": "gB50lS3vVgoY",
    "outputId": "29a66a1b-7bc7-47ce-aeb0-15de4f35f392"
   },
   "outputs": [],
   "source": [
    "pd.set_option('display.max_colwidth', -1)\n",
    "df.head()"
   ]
  },
  {
   "cell_type": "markdown",
   "metadata": {
    "colab_type": "text",
    "id": "IdfsM1iQXGV6"
   },
   "source": [
    "> **Question**\n",
    ">\n",
    "> What do you think the purpose of the `-1` parameter passed to `pd.set_option()` is in the code cell above?  \n",
    "\n",
    "Alternatively, we can dig into individual messages."
   ]
  },
  {
   "cell_type": "code",
   "execution_count": null,
   "metadata": {
    "colab": {
     "base_uri": "https://localhost:8080/",
     "height": 54
    },
    "colab_type": "code",
    "id": "Iu9QH5WgW_kh",
    "outputId": "3fac377e-a55b-4a4e-94cc-934e7c814e8b"
   },
   "outputs": [],
   "source": [
    "df['Message'][13]"
   ]
  },
  {
   "cell_type": "markdown",
   "metadata": {
    "colab_type": "text",
    "id": "L0dtTJlf055l"
   },
   "source": [
    "## Explore the data\n",
    "\n",
    "Now that we have an idea of some of the individual entries in the dataset, let's get a better sense of the dataset as a whole."
   ]
  },
  {
   "cell_type": "code",
   "execution_count": null,
   "metadata": {
    "colab": {
     "base_uri": "https://localhost:8080/",
     "height": 138
    },
    "colab_type": "code",
    "id": "VyPlozWXAJvB",
    "outputId": "66461b0a-795c-4eb7-ca1f-619a78a199b2"
   },
   "outputs": [],
   "source": [
    "df.info()"
   ]
  },
  {
   "cell_type": "markdown",
   "metadata": {},
   "source": [
    "> **Exercise**\n",
    ">\n",
    "> Now run the `describe()` method on `df`. Does it provide much useful information about this dataset? If not, why not?"
   ]
  },
  {
   "cell_type": "code",
   "execution_count": null,
   "metadata": {},
   "outputs": [],
   "source": []
  },
  {
   "cell_type": "markdown",
   "metadata": {},
   "source": [
    "We can also visualize the dataset to graphically see the mix of spam to ham. (Note that we need to include the `%matplotlib inline` magic command in order to actually see the bar chart here in the notebook.)"
   ]
  },
  {
   "cell_type": "code",
   "execution_count": null,
   "metadata": {
    "colab": {
     "base_uri": "https://localhost:8080/",
     "height": 317
    },
    "colab_type": "code",
    "id": "TiplFkJIXqBj",
    "outputId": "8c346b5c-1466-4d00-c67d-a1ae7d32491e"
   },
   "outputs": [],
   "source": [
    "%matplotlib inline\n",
    "df.groupby('Class').count().plot(kind='bar')"
   ]
  },
  {
   "cell_type": "markdown",
   "metadata": {
    "colab_type": "text",
    "id": "vfYFhiy5zsJl"
   },
   "source": [
    "> **Key takeaway:** Notice that here an in previous sections we have stuck together several methods to run on a `DataFrame`. This kind of additive method-stacking is part of what makes Python and pandas such a power combination for the rough-and-ready data exploration that is a crucial part of data science.\n",
    "\n",
    "## Explore the data using word clouds\n",
    "\n",
    "Because our data is largely not numeric, you might have noticed that some of our go-to data exploration tools (such as bar charts and the `describe()` method) have been of limited use in exploring this data. Instead, word clouds can be a powerful way of getting a quick glance at what's represented in text data as a whole."
   ]
  },
  {
   "cell_type": "code",
   "execution_count": null,
   "metadata": {},
   "outputs": [],
   "source": [
    "!pip install wordcloud"
   ]
  },
  {
   "cell_type": "markdown",
   "metadata": {},
   "source": [
    "We will have to supply a number of parameters to the `WordCloud()` function and to matplotlib in order to render the word clouds, so we will save ourselves some redundant work by writing a short function to handle it. Parameters for `WordCloud()` will include the stop words we want to ignore and font size for the words in the cloud. For matplotlib, these parameters will include instructions for rendering the word cloud."
   ]
  },
  {
   "cell_type": "code",
   "execution_count": null,
   "metadata": {
    "colab": {},
    "colab_type": "code",
    "id": "fBszilkex2DR"
   },
   "outputs": [],
   "source": [
    "from wordcloud import WordCloud, STOPWORDS\n",
    "import matplotlib.pyplot as plt\n",
    "\n",
    "def get_wordcloud(text_data,title):\n",
    "  wordcloud = WordCloud(background_color='black',\n",
    "                        stopwords=set(STOPWORDS),\n",
    "                        max_font_size=40, \n",
    "                        relative_scaling=1.0,\n",
    "                        random_state=1\n",
    "  ).generate(str(text_data))\n",
    "\n",
    "  fig = plt.figure(1, figsize=(12, 12))\n",
    "  plt.axis('off')\n",
    "  plt.title(title)\n",
    "  plt.imshow(wordcloud)\n",
    "  plt.show()"
   ]
  },
  {
   "cell_type": "markdown",
   "metadata": {},
   "source": [
    "Now it is time to plot the word clouds."
   ]
  },
  {
   "cell_type": "code",
   "execution_count": null,
   "metadata": {
    "colab": {
     "base_uri": "https://localhost:8080/",
     "height": 782
    },
    "colab_type": "code",
    "id": "yrBK9Sa93Sko",
    "outputId": "bd8ce0a6-e2ec-47a6-afd0-61bdbed3752d"
   },
   "outputs": [],
   "source": [
    "spam_msg = df.loc[df['Class']=='spam']['Message']\n",
    "get_wordcloud(spam_msg,'Spam Cloud')\n",
    "ham_msg = df.loc[df['Class']=='ham']['Message']\n",
    "get_wordcloud(ham_msg,'Ham Cloud')"
   ]
  },
  {
   "cell_type": "markdown",
   "metadata": {
    "colab_type": "text",
    "id": "16QKWJcH4xWz"
   },
   "source": [
    "Looking at the two word clouds, it is immediately apparent that the frequency of the most common words is different between our spam and our ham messages, which will form the primary basis of our spam detection.\n",
    "\n",
    "## Explore the data numerically\n",
    "\n",
    "Just because the data does not naturally lend itself to numerical analysis \"out of the box\" does not mean that we can't do so. We can also analyze the average length of spam and ham messages to see if there are differences. For this, we need to create a new column. "
   ]
  },
  {
   "cell_type": "code",
   "execution_count": null,
   "metadata": {
    "colab": {
     "base_uri": "https://localhost:8080/",
     "height": 202
    },
    "colab_type": "code",
    "id": "RNdBk6FY54B5",
    "outputId": "70d5e8cf-7877-4a31-d937-2bfd6ad1e90a"
   },
   "outputs": [],
   "source": [
    "df['Length_of_msg'] = df['Message'].apply(len)\n",
    "df.head()"
   ]
  },
  {
   "cell_type": "markdown",
   "metadata": {},
   "source": [
    "> **Question**\n",
    ">\n",
    "> What does the `apply()` method do in the code cell above? (**Hint:** If you are unsure, you can refer to [this page](https://pandas.pydata.org/pandas-docs/stable/reference/api/pandas.DataFrame.apply.html).)\n",
    "\n",
    "Now that we have the length of each message, we can visualize those message lengths using a histogram."
   ]
  },
  {
   "cell_type": "code",
   "execution_count": null,
   "metadata": {
    "colab": {
     "base_uri": "https://localhost:8080/",
     "height": 338
    },
    "colab_type": "code",
    "id": "B2Z5qyR36Wmi",
    "outputId": "dedecd52-e973-42b2-c52f-74c42286b50e"
   },
   "outputs": [],
   "source": [
    "df.groupby('Class')['Length_of_msg'].plot(kind='hist', bins=50)"
   ]
  },
  {
   "cell_type": "markdown",
   "metadata": {
    "colab_type": "text",
    "id": "YysPkl9C_Ie3"
   },
   "source": [
    "The orange histogram is the spam messages. Because there are so many more ham messages than spam, let's break these out separately to see the details more clearly."
   ]
  },
  {
   "cell_type": "code",
   "execution_count": null,
   "metadata": {
    "colab": {
     "base_uri": "https://localhost:8080/",
     "height": 341
    },
    "colab_type": "code",
    "id": "e8-yMAck9HcF",
    "outputId": "6fa17b14-f40a-48a7-cb14-b3de203adbc4"
   },
   "outputs": [],
   "source": [
    "df.hist(bins=50,by='Class', column='Length_of_msg')"
   ]
  },
  {
   "cell_type": "markdown",
   "metadata": {},
   "source": [
    "Spam messages skew much longer than ham messages.\n",
    "\n",
    "> **Question**\n",
    ">\n",
    "> Why does it appear in the details histograms that there is almost no overlap between the lengths of ham and spam text messages? What do the differences in scale tell us (and what could they inadvertently obscure)?\n",
    "\n",
    "Let's look at the differences in length of the two classes of message numerically."
   ]
  },
  {
   "cell_type": "code",
   "execution_count": null,
   "metadata": {
    "colab": {
     "base_uri": "https://localhost:8080/",
     "height": 141
    },
    "colab_type": "code",
    "id": "Ahszzxkj9v8i",
    "outputId": "392f2cd3-0311-4b6b-aaf6-a6d74b05ba97"
   },
   "outputs": [],
   "source": [
    "df.groupby('Class').mean()"
   ]
  },
  {
   "cell_type": "markdown",
   "metadata": {
    "colab_type": "text",
    "id": "SlxBSNPh-WzJ"
   },
   "source": [
    "These numbers accord with what we saw in the histograms.\n",
    "\n",
    "Now, let's get to the actual modeling and spam detection."
   ]
  },
  {
   "cell_type": "markdown",
   "metadata": {
    "colab_type": "text",
    "id": "-b09i3ZU_viQ"
   },
   "source": [
    "## Prepare the data for modeling\n",
    "\n",
    "One of the great strengths of naive Bayes analysis is that we don't have to go too deep into text processing in order to develop robust spam detection. However, the text is raw and it does require a certain amount of cleaning. To do this, we will use one of the most commonly used text-analytics libraries in Python, the Natural Language Toolkit (NLTK). However, before we can import it, we will need to first install it. "
   ]
  },
  {
   "cell_type": "code",
   "execution_count": null,
   "metadata": {
    "colab": {
     "base_uri": "https://localhost:8080/",
     "height": 52
    },
    "colab_type": "code",
    "id": "w4D4vg0vFc-i",
    "outputId": "3c9d7cfb-1998-4c57-e14d-355ac489def2"
   },
   "outputs": [],
   "source": [
    "!pip install nltk"
   ]
  },
  {
   "cell_type": "markdown",
   "metadata": {},
   "source": [
    "We can now import NLTK, in addition to the native Python string library to help with our text manipulation. We will also download the latest list of stop words (such as 'the', 'is', and 'are') for NLTK."
   ]
  },
  {
   "cell_type": "code",
   "execution_count": null,
   "metadata": {
    "colab": {
     "base_uri": "https://localhost:8080/",
     "height": 69
    },
    "colab_type": "code",
    "id": "V4s7jcVMFwDn",
    "outputId": "ad7a10c1-76df-4b4e-aa1f-f6f01ed46ec9"
   },
   "outputs": [],
   "source": [
    "import string\n",
    "import nltk\n",
    "nltk.download('stopwords')\n",
    "from nltk.corpus import stopwords"
   ]
  },
  {
   "cell_type": "markdown",
   "metadata": {
    "colab_type": "text",
    "id": "WqcfZ4zWSwHG"
   },
   "source": [
    "Part of our data preparation will be *vectorizing* the text data. Recall that earlier in the section when we first introduced naive Bayes analysis, we stated that we wanted to treat our messages as \"bags of words\" rather than as English-language messages. Vectorization is the process by which we convert our collection of text messages to a matrix of word counts.\n",
    "\n",
    "Part of the vectorization process will be for us to remove punctuation from the messages and exclude stop words from our analysis. We will write a function to perform those tasks here, because we will want to access those actions later on."
   ]
  },
  {
   "cell_type": "code",
   "execution_count": null,
   "metadata": {
    "colab": {},
    "colab_type": "code",
    "id": "pMLY0MR7DCmn"
   },
   "outputs": [],
   "source": [
    "def txt_preprocess(text):\n",
    "   \n",
    "    #Remove punctuation \n",
    "    temp = [w for w in text if w not in string.punctuation]\n",
    "    temp = ''.join(temp)\n",
    "    \n",
    "    #Exclude stopwords\n",
    "    processedtext = [w for w in temp.split() if w.lower() not in stopwords.words('english')]\n",
    "    return processedtext"
   ]
  },
  {
   "cell_type": "markdown",
   "metadata": {
    "colab_type": "text",
    "id": "rxMogwVEeQGQ"
   },
   "source": [
    "Scikit-learn provides a count-vectorizer function. We will now import it and then use the `txt_preprocess()` function we just wrote as a custom analyzer for it."
   ]
  },
  {
   "cell_type": "code",
   "execution_count": null,
   "metadata": {
    "colab": {},
    "colab_type": "code",
    "id": "Shw3GmFe-mh-"
   },
   "outputs": [],
   "source": [
    "from sklearn.feature_extraction.text import CountVectorizer\n",
    "\n",
    "X = df['Message']\n",
    "y = df['Class']\n",
    "\n",
    "CountVect = CountVectorizer(analyzer=txt_preprocess).fit(X)"
   ]
  },
  {
   "cell_type": "markdown",
   "metadata": {
    "colab_type": "text",
    "id": "F2IzaX-SUqY-"
   },
   "source": [
    "> **Technical note:** The convention of using an upper-case `X` to represent the independent variables (the predictors) and a lower-case `y` to represent the dependent variable (the response) comes from statistics and is commonly used by data scientists.\n",
    "\n",
    "In order to see how the vectorizer transformed the words, let's check it against a common English word like \"go.\""
   ]
  },
  {
   "cell_type": "code",
   "execution_count": null,
   "metadata": {
    "colab": {
     "base_uri": "https://localhost:8080/",
     "height": 34
    },
    "colab_type": "code",
    "id": "ZQzl0gqIKBSx",
    "outputId": "68b4ef4a-2a9e-4448-e220-80ed37020f80"
   },
   "outputs": [],
   "source": [
    "print(CountVect.vocabulary_.get('go'))"
   ]
  },
  {
   "cell_type": "markdown",
   "metadata": {
    "colab_type": "text",
    "id": "KrcmMuVZVBYq"
   },
   "source": [
    "So \"go\" appears 6,864 times in our dataset.\n",
    "\n",
    "Now, before we transform the entire dataset and train the model, we have the final preparatory step of splitting our data into training and test data to perform."
   ]
  },
  {
   "cell_type": "code",
   "execution_count": null,
   "metadata": {
    "colab": {},
    "colab_type": "code",
    "id": "xZfa9xSZe80l"
   },
   "outputs": [],
   "source": [
    "from sklearn.model_selection import train_test_split\n",
    "\n",
    "X_train, X_test, y_train, y_test = train_test_split(X, y, test_size=0.30, random_state=50)"
   ]
  },
  {
   "cell_type": "markdown",
   "metadata": {},
   "source": [
    "Finally, we will transform our training messages into a [document-term matrix](https://en.wikipedia.org/wiki/Document-term_matrix). \"Document\" might sound a little grandiose in this case as it refers to individual text messages, but it is a term of art for text analysis."
   ]
  },
  {
   "cell_type": "code",
   "execution_count": null,
   "metadata": {
    "colab": {},
    "colab_type": "code",
    "id": "_PlppjOHgM29"
   },
   "outputs": [],
   "source": [
    "X_train_data = CountVect.transform(X_train)"
   ]
  },
  {
   "cell_type": "markdown",
   "metadata": {
    "colab_type": "text",
    "id": "DNipADIdV8MK"
   },
   "source": [
    "This can be a tricky concept, so let's look at the training-text matrix directly."
   ]
  },
  {
   "cell_type": "code",
   "execution_count": null,
   "metadata": {
    "colab": {
     "base_uri": "https://localhost:8080/",
     "height": 901
    },
    "colab_type": "code",
    "id": "gE9dK247Oywp",
    "outputId": "4bd1d547-ed09-4187-f935-46560cc8362e"
   },
   "outputs": [],
   "source": [
    "print(X_train_data)"
   ]
  },
  {
   "cell_type": "code",
   "execution_count": null,
   "metadata": {
    "colab": {
     "base_uri": "https://localhost:8080/",
     "height": 34
    },
    "colab_type": "code",
    "id": "8PXoU8jAMpH7",
    "outputId": "53932f19-0a7e-4cf4-dfb8-127e1b63a52e"
   },
   "outputs": [],
   "source": [
    "X_train_data.shape"
   ]
  },
  {
   "cell_type": "markdown",
   "metadata": {},
   "source": [
    "`X_train_data` is now a 3900x11425 matrix, where each of the 3,900 rows represents a text (\"document\") from the training dataset and each column is a specific word (11,425 of them in this case).\n",
    "\n",
    "> **Key takeaway:** Putting our bag of words into a document-term matrix like this is a standard tool of natural-language processing and text analysis, and it is used in contexts beyond naive Bayes analysis in which word-frequency is important, such as [term frequency–inverse document frequency (TF-IDF)](https://en.wikipedia.org/wiki/Tf%E2%80%93idf)."
   ]
  },
  {
   "cell_type": "markdown",
   "metadata": {},
   "source": [
    "## Train the model\n",
    "\n",
    "Now it is time to train our naive Bayes model. For our model, we will use the multinomial naive Bayes classifier. \"Multinomial\" in this case derives from our assumption that, for our bag of $n$ words, $P({\\rm S}\\mid {\\rm word_1}, {\\rm word_2},\\ldots, {\\rm word}_n)=P({\\rm S})P({\\rm word_1}\\mid {\\rm S})P({\\rm word_2}\\mid {\\rm S})\\cdots P({\\rm word}_n\\mid {\\rm S})$ and that we don't assume that our word likelihoods follow a normal distribution."
   ]
  },
  {
   "cell_type": "code",
   "execution_count": null,
   "metadata": {
    "colab": {},
    "colab_type": "code",
    "id": "RpnhqNNzg18q"
   },
   "outputs": [],
   "source": [
    "from sklearn.naive_bayes import MultinomialNB"
   ]
  },
  {
   "cell_type": "code",
   "execution_count": null,
   "metadata": {
    "colab": {
     "base_uri": "https://localhost:8080/",
     "height": 34
    },
    "colab_type": "code",
    "id": "INtPpg9NWlIs",
    "outputId": "ff7304d6-321b-4bbc-b314-54a7faf044d8"
   },
   "outputs": [],
   "source": [
    "naivebayes_model = MultinomialNB()\n",
    "naivebayes_model.fit(X_train_data,y_train)"
   ]
  },
  {
   "cell_type": "markdown",
   "metadata": {
    "colab_type": "text",
    "id": "t72QOLCJW-td"
   },
   "source": [
    "Our model is now fitted. However, before we run our predictions on all of our test data, let's see what our model says about some artificial data in order to get a better sense of what our model will do with all of the messages in our test dat. From the word clouds we constructed earlier, we can see that \"call\" and \"free\" are both prominent words among our spam messages, so let's create our own spam message and see how our model classifies it."
   ]
  },
  {
   "cell_type": "code",
   "execution_count": null,
   "metadata": {
    "colab": {},
    "colab_type": "code",
    "id": "jG1xRH5WZHmc"
   },
   "outputs": [],
   "source": [
    "pred = naivebayes_model.predict(CountVect.transform(['Call for a free offer!']))\n",
    "pred"
   ]
  },
  {
   "cell_type": "markdown",
   "metadata": {
    "colab_type": "text",
    "id": "Ae42o56MZ3Xw"
   },
   "source": [
    "As we expected, our model correctly classified this message as spam. \n",
    "\n",
    "> **Exercise**\n",
    ">\n",
    "> Review the ham word cloud above, construct a ham message, and then run it against the model to see how it is classified."
   ]
  },
  {
   "cell_type": "code",
   "execution_count": null,
   "metadata": {},
   "outputs": [],
   "source": []
  },
  {
   "cell_type": "markdown",
   "metadata": {},
   "source": [
    "Now let's run our test data through the model. First, we need to transform it to a document-term matrix."
   ]
  },
  {
   "cell_type": "code",
   "execution_count": null,
   "metadata": {
    "colab": {},
    "colab_type": "code",
    "id": "UyQ930-pWp6B"
   },
   "outputs": [],
   "source": [
    "X_test_data = CountVect.transform(X_test)\n",
    "X_test_data.shape"
   ]
  },
  {
   "cell_type": "markdown",
   "metadata": {},
   "source": [
    "> **Exercise**\n",
    ">\n",
    "> Run the predictions for the test data."
   ]
  },
  {
   "cell_type": "code",
   "execution_count": null,
   "metadata": {},
   "outputs": [],
   "source": []
  },
  {
   "cell_type": "markdown",
   "metadata": {},
   "source": [
    "> **Exercise solution**"
   ]
  },
  {
   "cell_type": "markdown",
   "metadata": {
    "colab_type": "text",
    "id": "jgSq8jKHaOxt"
   },
   "source": [
    "Now it's time to evaluate our model's performance."
   ]
  },
  {
   "cell_type": "code",
   "execution_count": null,
   "metadata": {
    "colab": {
     "base_uri": "https://localhost:8080/",
     "height": 173
    },
    "colab_type": "code",
    "id": "lUYcIykDndpe",
    "outputId": "be124dac-38c2-43fd-be32-47a6ddf461be"
   },
   "outputs": [],
   "source": [
    "from sklearn.metrics import classification_report, confusion_matrix\n",
    "\n",
    "print(classification_report(predictions, y_test))"
   ]
  },
  {
   "cell_type": "markdown",
   "metadata": {
    "colab_type": "text",
    "id": "lh3xo51bbjGc"
   },
   "source": [
    "> **Exercise**\n",
    ">\n",
    "> Overall, our model is  good for spam detection, but our recall score (the proportion of actual positives that were identified correctly) is surprisingly low. Why might this be? What implications does it have for spam detection? (**Hint:** Use the scikit-learn `confusion_matrix()` function to better understand the specific performance of the model. For help interpreting the confusion matrix, see [this page](https://en.wikipedia.org/wiki/Confusion_matrix).)"
   ]
  },
  {
   "cell_type": "code",
   "execution_count": null,
   "metadata": {},
   "outputs": [],
   "source": []
  },
  {
   "cell_type": "markdown",
   "metadata": {},
   "source": [
    "**Takeaway**\n",
    "\n",
    "The performance of our naive Bayes model helps underscore the algorithm's popularity, particularly for spam detection. Even untuned, we got good performance, performance that would only continue to improve in production as users submitted more examples of spam messages.\n",
    "\n"
   ]
  },
  {
   "cell_type": "code",
   "execution_count": null,
   "metadata": {},
   "outputs": [],
   "source": []
  }
 ],
 "metadata": {
  "colab": {
   "collapsed_sections": [],
   "name": "block1_nb.ipynb",
   "provenance": [],
   "toc_visible": true,
   "version": "0.3.2"
  },
  "kernelspec": {
   "display_name": "Python 3",
   "language": "python",
   "name": "python3"
  },
  "language_info": {
   "codemirror_mode": {
    "name": "ipython",
    "version": 3
   },
   "file_extension": ".py",
   "mimetype": "text/x-python",
   "name": "python",
   "nbconvert_exporter": "python",
   "pygments_lexer": "ipython3",
   "version": "3.8.3"
  }
 },
 "nbformat": 4,
 "nbformat_minor": 1
}
