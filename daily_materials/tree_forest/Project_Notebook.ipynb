{
 "cells": [
  {
   "cell_type": "markdown",
   "metadata": {},
   "source": [
    "<h2 align=\"center\">Predict Employee Churn with Decision Trees and Random Forests</h2>"
   ]
  },
  {
   "cell_type": "markdown",
   "metadata": {},
   "source": [
    "### Project Structure\n",
    "\n",
    "The hands on project on Predict Employee Churn with Decision Trees and Random Forests is divided into the following tasks:\n",
    "\n",
    "#### Task 1: Introduction and Import Libraries\n",
    "\n",
    "- Introduction to the data set and the problem overview.\n",
    "- See a demo of the final product you will build by the end of this project.\n",
    "- Import essential modules and helper functions from NumPy, Matplotlib, and scikit-learn.\n",
    "\n",
    "#### Task 2: Exploratory Data Analysis\n",
    "\n",
    "- Load the employee dataset using pandas\n",
    "- Explore the data visually by graphing various features against the target with Matplotlib.\n",
    "\n",
    "#### Task 3: Encode Categorical Features\n",
    "\n",
    "- The dataset contains two categorical variables: Department and Salary.\n",
    "- Create dummy encoded variables for both categorical variables.\n",
    "\n",
    "#### Task 4: Visualize Class Imbalance\n",
    "\n",
    "- Use Yellowbrick's Class Balance visualizer to create a frequency plot of both classes.\n",
    "- The presence or absence of a class balance problem will inform your sampling strategory while creating training and validation sets.\n",
    "\n",
    "#### Task 5: Create Training and Validation Sets\n",
    "\n",
    "- Split the data into a 80/20 training/validation split.\n",
    "- Use a stratified sampling strategy\n",
    "\n",
    "#### Tasks 6 & 7: Build a Decision Tree Classifier with Interactive Controls\n",
    "\n",
    "- Use the interact function to automatically create UI controls for function arguments.\n",
    "- Build and train a decision tree classifier with scikit-learn.\n",
    "- Calculate the training and validation accuracies.\n",
    "- Display the fitted decision tree graphically.\n",
    "\n",
    "#### Task 8: Build a Random Forest Classifier with Interactive Controls\n",
    "\n",
    "- Use the interact function again to automatically create UI controls for function arguments.\n",
    "- To overcome the variance problem associated with decision trees, build and train a random forests classifier with scikit-learn.\n",
    "- Calculate the training and validation accuracies.\n",
    "- Display a fitted tree graphically.\n",
    "\n",
    "#### Task 9: Feature Importance Plots and Evaluation Metrics\n",
    "\n",
    "- Many model forms describe the underlying impact of features relative to each other.\n",
    "- Decision Tree models and Random Forest in scikit-learn, feature_importances_ attribute when fitted.\n",
    "- Utilize this attribute to rank and plot the features.\n"
   ]
  },
  {
   "cell_type": "markdown",
   "metadata": {},
   "source": [
    " "
   ]
  },
  {
   "cell_type": "markdown",
   "metadata": {},
   "source": [
    "### Task 1: Import Libraries\n",
    "---"
   ]
  },
  {
   "cell_type": "code",
   "execution_count": 1,
   "metadata": {},
   "outputs": [],
   "source": [
    "from __future__ import print_function\n",
    "%matplotlib inline\n",
    "import os\n",
    "import warnings\n",
    "import numpy as np\n",
    "import matplotlib.pyplot as plt\n",
    "import matplotlib.image as image\n",
    "import pandas as pd\n",
    "import pandas_profiling\n",
    "plt.style.use(\"ggplot\")\n",
    "warnings.simplefilter(\"ignore\")"
   ]
  },
  {
   "cell_type": "code",
   "execution_count": 2,
   "metadata": {},
   "outputs": [],
   "source": [
    "plt.rcParams['figure.figsize'] = (12,8)"
   ]
  },
  {
   "cell_type": "markdown",
   "metadata": {},
   "source": [
    " "
   ]
  },
  {
   "cell_type": "markdown",
   "metadata": {},
   "source": [
    "### Task 2: Exploratory Data Analysis\n",
    "---"
   ]
  },
  {
   "cell_type": "code",
   "execution_count": null,
   "metadata": {},
   "outputs": [],
   "source": []
  },
  {
   "cell_type": "code",
   "execution_count": null,
   "metadata": {},
   "outputs": [],
   "source": []
  },
  {
   "cell_type": "markdown",
   "metadata": {},
   "source": [
    " "
   ]
  },
  {
   "cell_type": "markdown",
   "metadata": {},
   "source": [
    "### Task 3: Encode Categorical Features\n",
    "---"
   ]
  },
  {
   "cell_type": "code",
   "execution_count": null,
   "metadata": {},
   "outputs": [],
   "source": []
  },
  {
   "cell_type": "code",
   "execution_count": null,
   "metadata": {},
   "outputs": [],
   "source": []
  },
  {
   "cell_type": "code",
   "execution_count": null,
   "metadata": {},
   "outputs": [],
   "source": []
  },
  {
   "cell_type": "code",
   "execution_count": 10,
   "metadata": {},
   "outputs": [],
   "source": []
  },
  {
   "cell_type": "code",
   "execution_count": null,
   "metadata": {},
   "outputs": [],
   "source": []
  },
  {
   "cell_type": "markdown",
   "metadata": {},
   "source": [
    " "
   ]
  },
  {
   "cell_type": "markdown",
   "metadata": {},
   "source": [
    "### Task 4: Visualize Class Imbalance\n",
    "---"
   ]
  },
  {
   "cell_type": "code",
   "execution_count": 13,
   "metadata": {},
   "outputs": [],
   "source": []
  },
  {
   "cell_type": "code",
   "execution_count": null,
   "metadata": {},
   "outputs": [],
   "source": []
  },
  {
   "cell_type": "markdown",
   "metadata": {},
   "source": [
    "### Task 5: Create Training and Test Sets\n",
    "---"
   ]
  },
  {
   "cell_type": "code",
   "execution_count": 16,
   "metadata": {},
   "outputs": [],
   "source": []
  },
  {
   "cell_type": "code",
   "execution_count": 19,
   "metadata": {},
   "outputs": [],
   "source": []
  },
  {
   "cell_type": "markdown",
   "metadata": {},
   "source": [
    " "
   ]
  },
  {
   "cell_type": "markdown",
   "metadata": {},
   "source": [
    "### Task 6 & 7: Build an Interactive Decision Tree Classifier\n",
    "---"
   ]
  },
  {
   "cell_type": "markdown",
   "metadata": {},
   "source": [
    "Supervised learning: \n",
    "- The inputs are random variables $X = X_1, ..., X_p$;\n",
    "- The output is a random variable $Y.$"
   ]
  },
  {
   "cell_type": "markdown",
   "metadata": {},
   "source": [
    "- Data is a finite set $$\\mathbb{L}=\\{(x_i,y_i)|i=0, ..., N-1\\}$$\n",
    "where $x_i \\in X = X_1 \\times ... \\times X_p$ and $y_i \\in y$ are randomly drawn from $P_{X,Y}.$\n",
    "\n",
    "E.g., $(x_i,y_i)=((\\text{salary = low, department = sales, ...}),\\text{quit = 1})$\n",
    "\n",
    "- The goal is to find a model $\\varphi_\\mathbb{L}: X \\mapsto y$ minimizing $$\\text{Err}(\\varphi_\\mathbb{L}) = \\mathbb{E}_{X,Y}\\{L(Y, \\varphi_\\mathbb{L}(X))\\}.$$"
   ]
  },
  {
   "cell_type": "markdown",
   "metadata": {},
   "source": [
    "About:\n",
    " \n",
    " - Decision trees are non-parametric models which can model arbitrarily complex relations between inputs and outputs, without any a priori assumption\n",
    " \n",
    "- Decision trees handle numeric and categorical variables\n",
    "\n",
    "- They implement feature selection, making them robust to noisy features (to an extent)\n",
    "\n",
    "- Robust to outliers or errors in labels\n",
    "\n",
    "- Easily interpretable by even non-ML practioners."
   ]
  },
  {
   "cell_type": "markdown",
   "metadata": {},
   "source": [
    "#### Decision trees: partitioning the feature space:"
   ]
  },
  {
   "cell_type": "markdown",
   "metadata": {},
   "source": [
    "![partition](assets/partition-feature-space.png)\n",
    "\n",
    "- Decision trees generally have low bias but have high variance.\n",
    "- We will solve the high variance problem in Task 8."
   ]
  },
  {
   "cell_type": "code",
   "execution_count": null,
   "metadata": {},
   "outputs": [],
   "source": [
    "from sklearn import tree\n",
    "from sklearn.tree import DecisionTreeClassifier\n",
    "from sklearn.ensemble import RandomForestClassifier\n",
    "from sklearn.metrics import accuracy_score\n",
    "from sklearn.tree import export_graphviz # display the tree within a Jupyter notebook\n",
    "from IPython.display import SVG\n",
    "from graphviz import Source\n",
    "from IPython.display import display\n",
    "from ipywidgets import interactive, IntSlider, FloatSlider, interact\n",
    "import ipywidgets\n",
    "from IPython.display import Image\n",
    "from subprocess import call\n",
    "import matplotlib.image as mpimg"
   ]
  },
  {
   "cell_type": "code",
   "execution_count": null,
   "metadata": {
    "scrolled": false
   },
   "outputs": [],
   "source": [
    "@interact\n",
    "def plot_tree(crit=,\n",
    "              split=,\n",
    "              depth=IntSlider(min=,max=,value=, continuous_update=False),\n",
    "              min_split=IntSlider(min=,max=,value=, continuous_update=False),\n",
    "              min_leaf=IntSlider(min=,max=,value=, continuous_update=False)):\n",
    "    "
   ]
  },
  {
   "cell_type": "markdown",
   "metadata": {},
   "source": [
    "### Task 8: Build an Interactive Random Forest Classifier\n",
    "---"
   ]
  },
  {
   "cell_type": "markdown",
   "metadata": {},
   "source": [
    "Although randomization increases bias, it is possible to get a reduction in variance of the ensemble. Random forests are one of the most robust machine learning algorithms for a variety of problems.\n",
    "\n",
    "- Randomization and averaging lead to a reduction in variance and improve accuracy\n",
    "- The implementations are parallelizable\n",
    "- Memory consumption and training time can be reduced by bootstrapping\n",
    "- Sampling features and not solely sampling examples is crucial to improving accuracy"
   ]
  },
  {
   "cell_type": "code",
   "execution_count": null,
   "metadata": {},
   "outputs": [],
   "source": [
    "@interact\n",
    "def plot_tree_rf(crit=,\n",
    "                 bootstrap=,\n",
    "                 depth=IntSlider(min=,max=,value=, continuous_update=False),\n",
    "                 forests=IntSlider(min=,max=,value=,continuous_update=False),\n",
    "                 min_split=IntSlider(min=,max=,value=, continuous_update=False),\n",
    "                 min_leaf=IntSlider(min=,max=,value=, continuous_update=False)):\n",
    "    \n",
    "    \n",
    "    "
   ]
  },
  {
   "cell_type": "markdown",
   "metadata": {},
   "source": [
    " "
   ]
  },
  {
   "cell_type": "markdown",
   "metadata": {},
   "source": [
    "### Task 9: Feature Importance and Evaluation Metrics\n",
    "---"
   ]
  },
  {
   "cell_type": "code",
   "execution_count": null,
   "metadata": {},
   "outputs": [],
   "source": [
    "from yellowbrick.model_selection import FeatureImportances\n",
    "plt.rcParams['figure.figsize'] = (12,8)\n",
    "plt.style.use(\"ggplot\")"
   ]
  },
  {
   "cell_type": "code",
   "execution_count": null,
   "metadata": {},
   "outputs": [],
   "source": []
  },
  {
   "cell_type": "code",
   "execution_count": null,
   "metadata": {},
   "outputs": [],
   "source": []
  },
  {
   "cell_type": "code",
   "execution_count": null,
   "metadata": {},
   "outputs": [],
   "source": []
  },
  {
   "cell_type": "markdown",
   "metadata": {},
   "source": [
    " "
   ]
  }
 ],
 "metadata": {
  "kernelspec": {
   "display_name": "Python 3",
   "language": "python",
   "name": "python3"
  },
  "language_info": {
   "codemirror_mode": {
    "name": "ipython",
    "version": 3
   },
   "file_extension": ".py",
   "mimetype": "text/x-python",
   "name": "python",
   "nbconvert_exporter": "python",
   "pygments_lexer": "ipython3",
   "version": "3.8.5"
  }
 },
 "nbformat": 4,
 "nbformat_minor": 2
}
