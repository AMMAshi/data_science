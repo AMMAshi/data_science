{
 "cells": [
  {
   "cell_type": "markdown",
   "metadata": {
    "colab_type": "text",
    "id": "4i3o06fhS01j"
   },
   "source": [
    "<h1>Subplots</h1>\n",
    "<b>Objectives</b>\n",
    "\n",
    "<ul>\n",
    "<li>Task</li>\n",
    "<li>Mount data</li>\n",
    "<li>Import libraries</li>\n",
    "<li>Load the dataset</li>\n",
    "<li>Subplots</li>\n",
    "</ul>"
   ]
  },
  {
   "cell_type": "markdown",
   "metadata": {
    "colab_type": "text",
    "id": "3Hgz3W3Pqmf3"
   },
   "source": [
    "<h2>Task</h2>\n",
    "This section utilizes a dataset that contains 4 columns. It contains information you would normally get from linear regression models. In this case, there is a linear regression model that was fit with an intercept and another model that was fit without an intercept. You can find which rows are part of which model from the intercept column. There is also the feature column. You can think of this as the data used to make a prediction. The actual column is what a linear regression model should have predicted. The predicted column is what the model predicted.\n",
    "\n",
    "In order to make learning about subplots more interesting, the model with the intercept will be graphed on the left subplot and the model without an intercept will be graphed on the right. Each subplot will have the line of best fit in red (feature and predicted column) and a scatter plot of black points using information from the feature and actual column. Each subplot will contain a title which will show which graph is which. "
   ]
  },
  {
   "cell_type": "markdown",
   "metadata": {
    "colab_type": "text",
    "id": "PRyiTnO5UJ5C"
   },
   "source": [
    "<h2>Mount data</h2>"
   ]
  },
  {
   "cell_type": "code",
   "execution_count": 3,
   "metadata": {
    "colab": {
     "base_uri": "https://localhost:8080/",
     "height": 35
    },
    "colab_type": "code",
    "executionInfo": {
     "elapsed": 572,
     "status": "ok",
     "timestamp": 1599367958082,
     "user": {
      "displayName": "Good Student",
      "photoUrl": "",
      "userId": "15405652371175931493"
     },
     "user_tz": 420
    },
    "id": "ucSDepMeUIWE",
    "outputId": "e99d6dd8-cd8a-4121-fb49-a77d531e6f8d"
   },
   "outputs": [],
   "source": [
    "#from google.colab import drive\n",
    "#drive.mount('/content/drive')"
   ]
  },
  {
   "cell_type": "markdown",
   "metadata": {
    "colab_type": "text",
    "id": "gjBB2PgkSR6a"
   },
   "source": [
    "<h2>Import libraries</h2>"
   ]
  },
  {
   "cell_type": "code",
   "execution_count": 4,
   "metadata": {
    "colab": {},
    "colab_type": "code",
    "executionInfo": {
     "elapsed": 536,
     "status": "ok",
     "timestamp": 1599367958370,
     "user": {
      "displayName": "Good Student",
      "photoUrl": "",
      "userId": "15405652371175931493"
     },
     "user_tz": 420
    },
    "id": "PSktQK3tRyij"
   },
   "outputs": [],
   "source": [
    "import matplotlib.pyplot as plt\n",
    "import pandas as pd\n",
    "import numpy as np"
   ]
  },
  {
   "cell_type": "markdown",
   "metadata": {
    "colab_type": "text",
    "id": "Evohd-nSSA8z"
   },
   "source": [
    "<h2>Load the dataset</h2>"
   ]
  },
  {
   "cell_type": "code",
   "execution_count": 8,
   "metadata": {
    "colab": {
     "base_uri": "https://localhost:8080/",
     "height": 206
    },
    "colab_type": "code",
    "executionInfo": {
     "elapsed": 1154,
     "status": "ok",
     "timestamp": 1599367959320,
     "user": {
      "displayName": "Good Student",
      "photoUrl": "",
      "userId": "15405652371175931493"
     },
     "user_tz": 420
    },
    "id": "kTdLrVO5Ryiy",
    "outputId": "d32cd32e-a6a6-4adb-fecc-51ebc4e5c7bf"
   },
   "outputs": [
    {
     "data": {
      "text/html": [
       "<div>\n",
       "<style scoped>\n",
       "    .dataframe tbody tr th:only-of-type {\n",
       "        vertical-align: middle;\n",
       "    }\n",
       "\n",
       "    .dataframe tbody tr th {\n",
       "        vertical-align: top;\n",
       "    }\n",
       "\n",
       "    .dataframe thead th {\n",
       "        text-align: right;\n",
       "    }\n",
       "</style>\n",
       "<table border=\"1\" class=\"dataframe\">\n",
       "  <thead>\n",
       "    <tr style=\"text-align: right;\">\n",
       "      <th></th>\n",
       "      <th>feature</th>\n",
       "      <th>actual</th>\n",
       "      <th>predicted</th>\n",
       "      <th>intercept</th>\n",
       "    </tr>\n",
       "  </thead>\n",
       "  <tbody>\n",
       "    <tr>\n",
       "      <th>0</th>\n",
       "      <td>0.000000</td>\n",
       "      <td>-51.000000</td>\n",
       "      <td>-50.991193</td>\n",
       "      <td>True</td>\n",
       "    </tr>\n",
       "    <tr>\n",
       "      <th>1</th>\n",
       "      <td>25.000000</td>\n",
       "      <td>-12.000000</td>\n",
       "      <td>-11.399052</td>\n",
       "      <td>True</td>\n",
       "    </tr>\n",
       "    <tr>\n",
       "      <th>2</th>\n",
       "      <td>117.583220</td>\n",
       "      <td>134.907414</td>\n",
       "      <td>135.223663</td>\n",
       "      <td>True</td>\n",
       "    </tr>\n",
       "    <tr>\n",
       "      <th>3</th>\n",
       "      <td>108.922466</td>\n",
       "      <td>134.085179</td>\n",
       "      <td>121.507752</td>\n",
       "      <td>True</td>\n",
       "    </tr>\n",
       "    <tr>\n",
       "      <th>4</th>\n",
       "      <td>96.839983</td>\n",
       "      <td>114.530638</td>\n",
       "      <td>102.372896</td>\n",
       "      <td>True</td>\n",
       "    </tr>\n",
       "  </tbody>\n",
       "</table>\n",
       "</div>"
      ],
      "text/plain": [
       "      feature      actual   predicted  intercept\n",
       "0    0.000000  -51.000000  -50.991193       True\n",
       "1   25.000000  -12.000000  -11.399052       True\n",
       "2  117.583220  134.907414  135.223663       True\n",
       "3  108.922466  134.085179  121.507752       True\n",
       "4   96.839983  114.530638  102.372896       True"
      ]
     },
     "execution_count": 8,
     "metadata": {},
     "output_type": "execute_result"
    }
   ],
   "source": [
    "# Keep in mind that the filename will likely be different on your computer (especially later in course)\n",
    "filename = 'data/linearWithWithout.csv'\n",
    "df = pd.read_csv(filename)\n",
    "df.head()"
   ]
  },
  {
   "cell_type": "code",
   "execution_count": 9,
   "metadata": {
    "colab": {},
    "colab_type": "code",
    "executionInfo": {
     "elapsed": 797,
     "status": "ok",
     "timestamp": 1599367959321,
     "user": {
      "displayName": "Good Student",
      "photoUrl": "",
      "userId": "15405652371175931493"
     },
     "user_tz": 420
    },
    "id": "MMtMPp7bs5yL"
   },
   "outputs": [],
   "source": [
    "# Create filter for model with intercept\n",
    "interceptFilter = df['intercept'] == True\n",
    "\n",
    "df_intercept = df.loc[interceptFilter, :]\n",
    "df_nointercept = df.loc[~interceptFilter, :]"
   ]
  },
  {
   "cell_type": "markdown",
   "metadata": {
    "colab_type": "text",
    "id": "eboK5397RyjA"
   },
   "source": [
    "<h2>Subplots</h2>\n",
    "It is often useful to compare different subsets of your data side by side. To demonstrate this, we are going to visualize images side by side."
   ]
  },
  {
   "cell_type": "markdown",
   "metadata": {
    "colab_type": "text",
    "id": "2HfToJB4sGE9"
   },
   "source": [
    "<b>MATLAB-style</b>"
   ]
  },
  {
   "cell_type": "code",
   "execution_count": 10,
   "metadata": {
    "colab": {
     "base_uri": "https://localhost:8080/",
     "height": 281
    },
    "colab_type": "code",
    "executionInfo": {
     "elapsed": 970,
     "status": "ok",
     "timestamp": 1599367961398,
     "user": {
      "displayName": "Good Student",
      "photoUrl": "",
      "userId": "15405652371175931493"
     },
     "user_tz": 420
    },
    "id": "7O-PParTuO3k",
    "outputId": "12931d73-0bdc-45b7-84e0-3462e0988f30"
   },
   "outputs": [
    {
     "data": {
      "image/png": "[encoded data removed]",
      "text/plain": [
       "<Figure size 576x288 with 2 Axes>"
      ]
     },
     "metadata": {
      "needs_background": "light"
     },
     "output_type": "display_data"
    }
   ],
   "source": [
    "# Play with this code and see what happens!\n",
    "\n",
    "# Adjust size of figure\n",
    "plt.figure(figsize=(8,4))\n",
    "\n",
    "# Subplot 1 \n",
    "plt.subplot(1, 2, 1);\n",
    "plt.plot(df_intercept['feature'].values, df_intercept['predicted'].values, c = 'r');\n",
    "plt.scatter(df_intercept['feature'].values, df_intercept['actual'].values, c= 'k');\n",
    "plt.title('intercept', fontsize = 12);\n",
    "\n",
    "# Subplot 2\n",
    "plt.subplot(1, 2, 2);\n",
    "plt.plot(df_nointercept['feature'].values, df_nointercept['predicted'].values, c = 'r');\n",
    "plt.scatter(df_nointercept['feature'].values, df_nointercept['actual'].values, c= 'k');\n",
    "plt.title('no intercept', fontsize = 12);"
   ]
  },
  {
   "cell_type": "markdown",
   "metadata": {
    "colab_type": "text",
    "id": "sZkuul7iuPVK"
   },
   "source": [
    "<b>Object-oriented</b>"
   ]
  },
  {
   "cell_type": "code",
   "execution_count": 11,
   "metadata": {
    "colab": {
     "base_uri": "https://localhost:8080/",
     "height": 281
    },
    "colab_type": "code",
    "executionInfo": {
     "elapsed": 767,
     "status": "ok",
     "timestamp": 1599368339022,
     "user": {
      "displayName": "Good Student",
      "photoUrl": "",
      "userId": "15405652371175931493"
     },
     "user_tz": 420
    },
    "id": "rGQCGM570aYs",
    "outputId": "701198c0-c26e-49df-eb22-c7c6b508b84a"
   },
   "outputs": [
    {
     "data": {
      "image/png": "[encoded data removed]",
      "text/plain": [
       "<Figure size 576x288 with 2 Axes>"
      ]
     },
     "metadata": {
      "needs_background": "light"
     },
     "output_type": "display_data"
    }
   ],
   "source": [
    "# Play with this code and see what happens!\n",
    "\n",
    "# Adjust size of figure and create subplots\n",
    "fig, axes = plt.subplots(nrows = 1, ncols = 2, figsize=(8,4));\n",
    "\n",
    "# Subplot 1 \n",
    "axes[0].plot(df_intercept['feature'].values, df_intercept['predicted'].values, c = 'r');\n",
    "axes[0].scatter(df_intercept['feature'].values, df_intercept['actual'].values, c= 'k');\n",
    "axes[0].set_title('intercept', fontsize = 12);\n",
    "\n",
    "# Subplot 2\n",
    "axes[1].plot(df_nointercept['feature'].values, df_nointercept['predicted'].values, c = 'r');\n",
    "axes[1].scatter(df_nointercept['feature'].values, df_nointercept['actual'].values, c= 'k');\n",
    "axes[1].set_title('no intercept', fontsize = 12);"
   ]
  },
  {
   "cell_type": "code",
   "execution_count": null,
   "metadata": {},
   "outputs": [],
   "source": []
  }
 ],
 "metadata": {
  "anaconda-cloud": {},
  "colab": {
   "collapsed_sections": [],
   "name": "Subplots.ipynb",
   "provenance": []
  },
  "kernelspec": {
   "display_name": "Python 3",
   "language": "python",
   "name": "python3"
  },
  "language_info": {
   "codemirror_mode": {
    "name": "ipython",
    "version": 3
   },
   "file_extension": ".py",
   "mimetype": "text/x-python",
   "name": "python",
   "nbconvert_exporter": "python",
   "pygments_lexer": "ipython3",
   "version": "3.7.4"
  }
 },
 "nbformat": 4,
 "nbformat_minor": 1
}
