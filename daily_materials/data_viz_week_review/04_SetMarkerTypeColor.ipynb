{
 "cells": [
  {
   "cell_type": "markdown",
   "metadata": {
    "colab_type": "text",
    "id": "4i3o06fhS01j"
   },
   "source": [
    "<h1>Set marker type and color</h1>\n",
    "<b>Objectives</b>\n",
    "\n",
    "<ul>\n",
    "<li>Task</li>\n",
    "<li>Mount data</li>\n",
    "<li>Import libraries</li>\n",
    "<li>Load the dataset</li>\n",
    "<li>Get number of olympians per year</li>\n",
    "<li>Set marker type and color</li>\n",
    "</ul>"
   ]
  },
  {
   "cell_type": "markdown",
   "metadata": {
    "colab_type": "text",
    "id": "88vI3kEo1s8d"
   },
   "source": [
    "<h2>Task</h2>"
   ]
  },
  {
   "cell_type": "markdown",
   "metadata": {
    "colab_type": "text",
    "id": "I8dbtFUL1tqV"
   },
   "source": [
    "Graph the number of olympians per year in the dataset and change the marker type and colors for the graph"
   ]
  },
  {
   "cell_type": "markdown",
   "metadata": {
    "colab_type": "text",
    "id": "PRyiTnO5UJ5C"
   },
   "source": [
    "<h2>Mount data</h2>"
   ]
  },
  {
   "cell_type": "code",
   "execution_count": 1,
   "metadata": {
    "colab": {
     "base_uri": "https://localhost:8080/",
     "height": 35
    },
    "colab_type": "code",
    "executionInfo": {
     "elapsed": 362,
     "status": "ok",
     "timestamp": 1599168152397,
     "user": {
      "displayName": "Good Student",
      "photoUrl": "",
      "userId": "15405652371175931493"
     },
     "user_tz": 420
    },
    "id": "ucSDepMeUIWE",
    "outputId": "af358357-44a4-463a-987d-74aca49a695d"
   },
   "outputs": [],
   "source": [
    "#from google.colab import drive\n",
    "#drive.mount('/content/drive')"
   ]
  },
  {
   "cell_type": "markdown",
   "metadata": {
    "colab_type": "text",
    "id": "gjBB2PgkSR6a"
   },
   "source": [
    "<h2>Import libraries</h2>"
   ]
  },
  {
   "cell_type": "code",
   "execution_count": 2,
   "metadata": {
    "colab": {},
    "colab_type": "code",
    "executionInfo": {
     "elapsed": 407,
     "status": "ok",
     "timestamp": 1599168153585,
     "user": {
      "displayName": "Good Student",
      "photoUrl": "",
      "userId": "15405652371175931493"
     },
     "user_tz": 420
    },
    "id": "PSktQK3tRyij"
   },
   "outputs": [],
   "source": [
    "import matplotlib.pyplot as plt\n",
    "import pandas as pd\n",
    "import numpy as np"
   ]
  },
  {
   "cell_type": "markdown",
   "metadata": {
    "colab_type": "text",
    "id": "Evohd-nSSA8z"
   },
   "source": [
    "<h2>Load the dataset</h2>\n",
    "This is a subset of the <a href=\"https://www.kaggle.com/heesoo37/120-years-of-olympic-history-athletes-and-results\">120 years of Olympic history dataset</a> on Kaggle. "
   ]
  },
  {
   "cell_type": "code",
   "execution_count": 3,
   "metadata": {
    "colab": {
     "base_uri": "https://localhost:8080/",
     "height": 206
    },
    "colab_type": "code",
    "executionInfo": {
     "elapsed": 339,
     "status": "ok",
     "timestamp": 1599168861819,
     "user": {
      "displayName": "Good Student",
      "photoUrl": "",
      "userId": "15405652371175931493"
     },
     "user_tz": 420
    },
    "id": "kTdLrVO5Ryiy",
    "outputId": "0ade0ad4-e369-4722-fbf8-7a4679486ff2"
   },
   "outputs": [
    {
     "data": {
      "text/html": [
       "<div>\n",
       "<style scoped>\n",
       "    .dataframe tbody tr th:only-of-type {\n",
       "        vertical-align: middle;\n",
       "    }\n",
       "\n",
       "    .dataframe tbody tr th {\n",
       "        vertical-align: top;\n",
       "    }\n",
       "\n",
       "    .dataframe thead th {\n",
       "        text-align: right;\n",
       "    }\n",
       "</style>\n",
       "<table border=\"1\" class=\"dataframe\">\n",
       "  <thead>\n",
       "    <tr style=\"text-align: right;\">\n",
       "      <th></th>\n",
       "      <th>ID</th>\n",
       "      <th>Age</th>\n",
       "      <th>Height</th>\n",
       "      <th>Team</th>\n",
       "      <th>NOC</th>\n",
       "      <th>Games</th>\n",
       "      <th>Year</th>\n",
       "      <th>Season</th>\n",
       "      <th>City</th>\n",
       "      <th>Sport</th>\n",
       "      <th>Event</th>\n",
       "      <th>Medal</th>\n",
       "    </tr>\n",
       "  </thead>\n",
       "  <tbody>\n",
       "    <tr>\n",
       "      <th>0</th>\n",
       "      <td>5</td>\n",
       "      <td>21.0</td>\n",
       "      <td>185.0</td>\n",
       "      <td>Netherlands</td>\n",
       "      <td>NED</td>\n",
       "      <td>1988 Winter</td>\n",
       "      <td>1988</td>\n",
       "      <td>Winter</td>\n",
       "      <td>Calgary</td>\n",
       "      <td>Speed Skating</td>\n",
       "      <td>Speed Skating Women's 500 metres</td>\n",
       "      <td>NaN</td>\n",
       "    </tr>\n",
       "    <tr>\n",
       "      <th>1</th>\n",
       "      <td>5</td>\n",
       "      <td>21.0</td>\n",
       "      <td>185.0</td>\n",
       "      <td>Netherlands</td>\n",
       "      <td>NED</td>\n",
       "      <td>1988 Winter</td>\n",
       "      <td>1988</td>\n",
       "      <td>Winter</td>\n",
       "      <td>Calgary</td>\n",
       "      <td>Speed Skating</td>\n",
       "      <td>Speed Skating Women's 1,000 metres</td>\n",
       "      <td>NaN</td>\n",
       "    </tr>\n",
       "    <tr>\n",
       "      <th>2</th>\n",
       "      <td>5</td>\n",
       "      <td>25.0</td>\n",
       "      <td>185.0</td>\n",
       "      <td>Netherlands</td>\n",
       "      <td>NED</td>\n",
       "      <td>1992 Winter</td>\n",
       "      <td>1992</td>\n",
       "      <td>Winter</td>\n",
       "      <td>Albertville</td>\n",
       "      <td>Speed Skating</td>\n",
       "      <td>Speed Skating Women's 500 metres</td>\n",
       "      <td>NaN</td>\n",
       "    </tr>\n",
       "    <tr>\n",
       "      <th>3</th>\n",
       "      <td>5</td>\n",
       "      <td>25.0</td>\n",
       "      <td>185.0</td>\n",
       "      <td>Netherlands</td>\n",
       "      <td>NED</td>\n",
       "      <td>1992 Winter</td>\n",
       "      <td>1992</td>\n",
       "      <td>Winter</td>\n",
       "      <td>Albertville</td>\n",
       "      <td>Speed Skating</td>\n",
       "      <td>Speed Skating Women's 1,000 metres</td>\n",
       "      <td>NaN</td>\n",
       "    </tr>\n",
       "    <tr>\n",
       "      <th>4</th>\n",
       "      <td>5</td>\n",
       "      <td>27.0</td>\n",
       "      <td>185.0</td>\n",
       "      <td>Netherlands</td>\n",
       "      <td>NED</td>\n",
       "      <td>1994 Winter</td>\n",
       "      <td>1994</td>\n",
       "      <td>Winter</td>\n",
       "      <td>Lillehammer</td>\n",
       "      <td>Speed Skating</td>\n",
       "      <td>Speed Skating Women's 500 metres</td>\n",
       "      <td>NaN</td>\n",
       "    </tr>\n",
       "  </tbody>\n",
       "</table>\n",
       "</div>"
      ],
      "text/plain": [
       "   ID   Age  Height         Team  NOC        Games  Year  Season         City  \\\n",
       "0   5  21.0   185.0  Netherlands  NED  1988 Winter  1988  Winter      Calgary   \n",
       "1   5  21.0   185.0  Netherlands  NED  1988 Winter  1988  Winter      Calgary   \n",
       "2   5  25.0   185.0  Netherlands  NED  1992 Winter  1992  Winter  Albertville   \n",
       "3   5  25.0   185.0  Netherlands  NED  1992 Winter  1992  Winter  Albertville   \n",
       "4   5  27.0   185.0  Netherlands  NED  1994 Winter  1994  Winter  Lillehammer   \n",
       "\n",
       "           Sport                               Event Medal  \n",
       "0  Speed Skating    Speed Skating Women's 500 metres   NaN  \n",
       "1  Speed Skating  Speed Skating Women's 1,000 metres   NaN  \n",
       "2  Speed Skating    Speed Skating Women's 500 metres   NaN  \n",
       "3  Speed Skating  Speed Skating Women's 1,000 metres   NaN  \n",
       "4  Speed Skating    Speed Skating Women's 500 metres   NaN  "
      ]
     },
     "execution_count": 3,
     "metadata": {},
     "output_type": "execute_result"
    }
   ],
   "source": [
    "# Keep in mind that the filename will likely be different on your computer (especially later in course)\n",
    "filename = 'data/athleteEventsNoPersonal.csv'\n",
    "df = pd.read_csv(filename)\n",
    "df.head()"
   ]
  },
  {
   "cell_type": "markdown",
   "metadata": {
    "colab_type": "text",
    "id": "L1oEBhtb5Tbp"
   },
   "source": [
    "<h2>Get number of olympians per year</h2>\n",
    "\n",
    "Before changing marker type and color, you need to transform the data into an organized form suitable for matplotlib. This can mean transforming your data into a python list or NumPy array. "
   ]
  },
  {
   "cell_type": "code",
   "execution_count": 4,
   "metadata": {
    "colab": {},
    "colab_type": "code",
    "executionInfo": {
     "elapsed": 545,
     "status": "ok",
     "timestamp": 1599169166852,
     "user": {
      "displayName": "Good Student",
      "photoUrl": "",
      "userId": "15405652371175931493"
     },
     "user_tz": 420
    },
    "id": "wIf4tfTr5e2M"
   },
   "outputs": [],
   "source": [
    "# get number of olympians per year\n",
    "numberUniqueYear = df.groupby(['Year'])['ID'].nunique()"
   ]
  },
  {
   "cell_type": "code",
   "execution_count": 5,
   "metadata": {
    "colab": {
     "base_uri": "https://localhost:8080/",
     "height": 676
    },
    "colab_type": "code",
    "executionInfo": {
     "elapsed": 346,
     "status": "ok",
     "timestamp": 1599170145075,
     "user": {
      "displayName": "Good Student",
      "photoUrl": "",
      "userId": "15405652371175931493"
     },
     "user_tz": 420
    },
    "id": "V-ArbMUa9-UZ",
    "outputId": "aed5bedc-9ed3-4efe-f8e5-98f3684f79b4"
   },
   "outputs": [
    {
     "data": {
      "text/plain": [
       "Year\n",
       "1896      26\n",
       "1900     178\n",
       "1904      91\n",
       "1906     125\n",
       "1908     312\n",
       "1912     347\n",
       "1920     392\n",
       "1924     537\n",
       "1928     550\n",
       "1932     336\n",
       "1936     771\n",
       "1948     756\n",
       "1952     877\n",
       "1956     595\n",
       "1960     901\n",
       "1964     885\n",
       "1968     973\n",
       "1972    1210\n",
       "1976    1086\n",
       "1980     968\n",
       "1984    1190\n",
       "1988    1527\n",
       "1992    1693\n",
       "1994     290\n",
       "1996    1512\n",
       "1998     343\n",
       "2000    1611\n",
       "2002     369\n",
       "2004    1598\n",
       "2006     376\n",
       "2008    1672\n",
       "2010     374\n",
       "2012    1597\n",
       "2014     429\n",
       "2016    1692\n",
       "Name: ID, dtype: int64"
      ]
     },
     "execution_count": 5,
     "metadata": {},
     "output_type": "execute_result"
    }
   ],
   "source": [
    "# this is a pandas Series\n",
    "numberUniqueYear"
   ]
  },
  {
   "cell_type": "markdown",
   "metadata": {
    "colab_type": "text",
    "id": "eHzeozES6V6v"
   },
   "source": [
    "What if you didn't know the nunique command? This is actually super reasonable. When you are learning a programming language, you often dont know methods. Here is a recommendation. Try different aggregation functions and see what happens. You can also google and go on stackoverflow and see if others have had the same or similar question. "
   ]
  },
  {
   "cell_type": "code",
   "execution_count": 6,
   "metadata": {
    "colab": {
     "base_uri": "https://localhost:8080/",
     "height": 640
    },
    "colab_type": "code",
    "executionInfo": {
     "elapsed": 323,
     "status": "ok",
     "timestamp": 1599170153100,
     "user": {
      "displayName": "Good Student",
      "photoUrl": "",
      "userId": "15405652371175931493"
     },
     "user_tz": 420
    },
    "id": "gg-injzN6KP3",
    "outputId": "632df4f6-b48b-4da3-d03d-2b0db18e6d47"
   },
   "outputs": [
    {
     "data": {
      "text/plain": [
       "[1896,\n",
       " 1900,\n",
       " 1904,\n",
       " 1906,\n",
       " 1908,\n",
       " 1912,\n",
       " 1920,\n",
       " 1924,\n",
       " 1928,\n",
       " 1932,\n",
       " 1936,\n",
       " 1948,\n",
       " 1952,\n",
       " 1956,\n",
       " 1960,\n",
       " 1964,\n",
       " 1968,\n",
       " 1972,\n",
       " 1976,\n",
       " 1980,\n",
       " 1984,\n",
       " 1988,\n",
       " 1992,\n",
       " 1994,\n",
       " 1996,\n",
       " 1998,\n",
       " 2000,\n",
       " 2002,\n",
       " 2004,\n",
       " 2006,\n",
       " 2008,\n",
       " 2010,\n",
       " 2012,\n",
       " 2014,\n",
       " 2016]"
      ]
     },
     "execution_count": 6,
     "metadata": {},
     "output_type": "execute_result"
    }
   ],
   "source": [
    "uniqueYears = list(numberUniqueYear.index)\n",
    "uniqueYears"
   ]
  },
  {
   "cell_type": "code",
   "execution_count": 7,
   "metadata": {
    "colab": {
     "base_uri": "https://localhost:8080/",
     "height": 640
    },
    "colab_type": "code",
    "executionInfo": {
     "elapsed": 331,
     "status": "ok",
     "timestamp": 1599170155607,
     "user": {
      "displayName": "Good Student",
      "photoUrl": "",
      "userId": "15405652371175931493"
     },
     "user_tz": 420
    },
    "id": "8iE_S5yo6Kpo",
    "outputId": "37a70b56-38fa-40f3-ca77-db6b0b4fbbd8"
   },
   "outputs": [
    {
     "data": {
      "text/plain": [
       "[26,\n",
       " 178,\n",
       " 91,\n",
       " 125,\n",
       " 312,\n",
       " 347,\n",
       " 392,\n",
       " 537,\n",
       " 550,\n",
       " 336,\n",
       " 771,\n",
       " 756,\n",
       " 877,\n",
       " 595,\n",
       " 901,\n",
       " 885,\n",
       " 973,\n",
       " 1210,\n",
       " 1086,\n",
       " 968,\n",
       " 1190,\n",
       " 1527,\n",
       " 1693,\n",
       " 290,\n",
       " 1512,\n",
       " 343,\n",
       " 1611,\n",
       " 369,\n",
       " 1598,\n",
       " 376,\n",
       " 1672,\n",
       " 374,\n",
       " 1597,\n",
       " 429,\n",
       " 1692]"
      ]
     },
     "execution_count": 7,
     "metadata": {},
     "output_type": "execute_result"
    }
   ],
   "source": [
    "numOlympian = list(numberUniqueYear.values)\n",
    "numOlympian"
   ]
  },
  {
   "cell_type": "markdown",
   "metadata": {
    "colab_type": "text",
    "id": "eboK5397RyjA"
   },
   "source": [
    "<h2>Set marker type and color</h2>\n",
    "\n",
    "Let's start by creating a basic graph where uniqueYears is on the x axis and numOlympian is on the y axis."
   ]
  },
  {
   "cell_type": "code",
   "execution_count": 8,
   "metadata": {
    "colab": {
     "base_uri": "https://localhost:8080/",
     "height": 365
    },
    "colab_type": "code",
    "executionInfo": {
     "elapsed": 499,
     "status": "ok",
     "timestamp": 1599170340205,
     "user": {
      "displayName": "Good Student",
      "photoUrl": "",
      "userId": "15405652371175931493"
     },
     "user_tz": 420
    },
    "id": "SYObqUaCRyjL",
    "outputId": "7a3e0a08-d106-4fab-e0d1-d29b5f9fd54d"
   },
   "outputs": [
    {
     "data": {
      "text/plain": [
       "[<matplotlib.lines.Line2D at 0x11af2abd0>]"
      ]
     },
     "execution_count": 8,
     "metadata": {},
     "output_type": "execute_result"
    },
    {
     "data": {
      "image/png": "[encoded data removed]",
      "text/plain": [
       "<Figure size 576x396 with 1 Axes>"
      ]
     },
     "metadata": {},
     "output_type": "display_data"
    }
   ],
   "source": [
    "plt.style.use('seaborn')\n",
    "plt.plot(uniqueYears, numOlympian)"
   ]
  },
  {
   "cell_type": "markdown",
   "metadata": {
    "colab_type": "text",
    "id": "6UE9FhxN-jn5"
   },
   "source": [
    "<b> Marker Type</b>\n",
    "\n",
    "Here are a couple common marker types. \n",
    "\n",
    "<table>\n",
    "  <colgroup span=\"4\"></colgroup>\n",
    "  <tbody><tr>\n",
    "    <th>string</th>\n",
    "    <th>description</th>\n",
    "  </tr>\n",
    "  <tr>\n",
    "    <td>'.'</td>\n",
    "    <td>point marker</td>\n",
    "  </tr>\n",
    "  <tr>\n",
    "    <td>','</td>\n",
    "    <td>pixel marker</td>\n",
    "  </tr>    \n",
    "  <tr>\n",
    "    <td>'o'</td>\n",
    "    <td>circle marker</td>\n",
    "  </tr>\n",
    "  <tr>\n",
    "    <td>'v'</td>\n",
    "    <td>triangle_down marker</td>\n",
    "  </tr>\n",
    "  <tr>\n",
    "    <td>'^'</td>\n",
    "    <td>triangle_up marker</td>\n",
    "  </tr>\n",
    "  <tr>\n",
    "    <td>'<'</td>\n",
    "    <td>triangle_left marker</td>\n",
    "  </tr>\n",
    "    <tr>\n",
    "    <td>'>'</td>\n",
    "    <td>triangle_right marker</td>\n",
    "  </tr>\n",
    "  <tr>\n",
    "    <td>'s'</td>\n",
    "    <td>square marker</td>\n",
    "  </tr>\n",
    "    <tr>\n",
    "    <td>'\\*'</td>\n",
    "    <td>star marker</td>\n",
    "  </tr>\n",
    "      <tr>\n",
    "    <td>'+'</td>\n",
    "    <td>plus marker</td>\n",
    "  </tr>\n",
    "  <tr>\n",
    "    <td>'x'</td>\n",
    "    <td>x marker</td>\n",
    "  </tr>\n",
    "    </tbody>\n",
    "</table>"
   ]
  },
  {
   "cell_type": "code",
   "execution_count": 9,
   "metadata": {
    "colab": {
     "base_uri": "https://localhost:8080/",
     "height": 365
    },
    "colab_type": "code",
    "executionInfo": {
     "elapsed": 520,
     "status": "ok",
     "timestamp": 1599170346298,
     "user": {
      "displayName": "Good Student",
      "photoUrl": "",
      "userId": "15405652371175931493"
     },
     "user_tz": 420
    },
    "id": "WGFqOZ2A3rij",
    "outputId": "663e5fc7-174b-4936-aadf-73b6cd3e47d5"
   },
   "outputs": [
    {
     "data": {
      "text/plain": [
       "[<matplotlib.lines.Line2D at 0x1084fddd0>]"
      ]
     },
     "execution_count": 9,
     "metadata": {},
     "output_type": "execute_result"
    },
    {
     "data": {
      "image/png": "[encoded data removed]",
      "text/plain": [
       "<Figure size 576x396 with 1 Axes>"
      ]
     },
     "metadata": {},
     "output_type": "display_data"
    }
   ],
   "source": [
    "plt.plot(uniqueYears, numOlympian, marker = '.', markersize = 10)"
   ]
  },
  {
   "cell_type": "markdown",
   "metadata": {
    "colab_type": "text",
    "id": "v_72wscA-07s"
   },
   "source": [
    "<b> Change Color</b>\n",
    "\n",
    "The `c` parameter accepts strings.\n",
    "\n",
    "<table>\n",
    "  <colgroup span=\"4\"></colgroup>\n",
    "  <tbody><tr>\n",
    "    <th>string</th>\n",
    "    <th>color</th>\n",
    "  </tr>\n",
    "  <tr>\n",
    "    <td>'b' </td>\n",
    "    <td>blue</td>\n",
    "  </tr>\n",
    "  <tr>\n",
    "    <td>'blue'</td>\n",
    "    <td>blue</td>\n",
    "  </tr>    \n",
    "  <tr>\n",
    "    <td>'g'</td>\n",
    "    <td>green</td>\n",
    "  </tr>\n",
    "  <tr>\n",
    "    <td>'r'</td>\n",
    "    <td>red</td>\n",
    "  </tr>\n",
    "  <tr>\n",
    "    <td>'c'</td>\n",
    "    <td>cyan</td>\n",
    "  </tr>\n",
    "  <tr>\n",
    "    <td>'cyan'</td>\n",
    "    <td>cyan</td>\n",
    "  </tr>\n",
    "    <tr>\n",
    "    <td>'m'</td>\n",
    "    <td>magenta</td>\n",
    "  </tr>\n",
    "  <tr>\n",
    "    <td>'magenta'</td>\n",
    "    <td>magenta</td>\n",
    "  </tr>\n",
    "    <tr>\n",
    "    <td>'y'</td>\n",
    "    <td>yellow</td>\n",
    "  </tr>\n",
    "      <tr>\n",
    "    <td>'yellow'</td>\n",
    "    <td>'y'</td>\n",
    "  </tr>\n",
    "  <tr>\n",
    "    <td>'k'</td>\n",
    "    <td>black</td>\n",
    "  </tr>\n",
    "  <tr>\n",
    "    <td>'black'</td>\n",
    "    <td>black</td>\n",
    "  </tr>\n",
    "  <tr>\n",
    "    <td>'w'</td>\n",
    "    <td>white</td>\n",
    "  </tr>\n",
    "  <tr>\n",
    "    <td>'white'</td>\n",
    "    <td>white</td>\n",
    "  </tr>\n",
    "    </tbody>\n",
    "</table>\n",
    "\n",
    "The parameter also accepts hex strings. For instance, green is '#008000'. Additionally you can use rgb tuples. "
   ]
  },
  {
   "cell_type": "code",
   "execution_count": 10,
   "metadata": {
    "colab": {
     "base_uri": "https://localhost:8080/",
     "height": 365
    },
    "colab_type": "code",
    "executionInfo": {
     "elapsed": 535,
     "status": "ok",
     "timestamp": 1599171154478,
     "user": {
      "displayName": "Good Student",
      "photoUrl": "",
      "userId": "15405652371175931493"
     },
     "user_tz": 420
    },
    "id": "HzRG0tnG-0yw",
    "outputId": "686dd8d2-2601-4d96-d3f3-1f98e0db6a94"
   },
   "outputs": [
    {
     "data": {
      "text/plain": [
       "[<matplotlib.lines.Line2D at 0x1084c8990>]"
      ]
     },
     "execution_count": 10,
     "metadata": {},
     "output_type": "execute_result"
    },
    {
     "data": {
      "image/png": "[encoded data removed]",
      "text/plain": [
       "<Figure size 576x396 with 1 Axes>"
      ]
     },
     "metadata": {},
     "output_type": "display_data"
    }
   ],
   "source": [
    "plt.plot(uniqueYears, numOlympian,c = 'magenta', marker = '.', markersize = 10)"
   ]
  },
  {
   "cell_type": "code",
   "execution_count": 11,
   "metadata": {
    "colab": {
     "base_uri": "https://localhost:8080/",
     "height": 365
    },
    "colab_type": "code",
    "executionInfo": {
     "elapsed": 512,
     "status": "ok",
     "timestamp": 1599171210825,
     "user": {
      "displayName": "Good Student",
      "photoUrl": "",
      "userId": "15405652371175931493"
     },
     "user_tz": 420
    },
    "id": "sZ75ZV5a-0pX",
    "outputId": "4b117cf8-fbe2-44a5-e303-80c6ef83eaf1"
   },
   "outputs": [
    {
     "data": {
      "text/plain": [
       "[<matplotlib.lines.Line2D at 0x10843ea50>]"
      ]
     },
     "execution_count": 11,
     "metadata": {},
     "output_type": "execute_result"
    },
    {
     "data": {
      "image/png": "[encoded data removed]",
      "text/plain": [
       "<Figure size 576x396 with 1 Axes>"
      ]
     },
     "metadata": {},
     "output_type": "display_data"
    }
   ],
   "source": [
    "# Using hex strings\n",
    "# '#000000' is black\n",
    "# '#0000FF' is blue\n",
    "plt.plot(uniqueYears, numOlympian,c = '#000000', marker = '.', markersize = 10)"
   ]
  },
  {
   "cell_type": "code",
   "execution_count": 12,
   "metadata": {
    "colab": {
     "base_uri": "https://localhost:8080/",
     "height": 365
    },
    "colab_type": "code",
    "executionInfo": {
     "elapsed": 514,
     "status": "ok",
     "timestamp": 1599171265801,
     "user": {
      "displayName": "Good Student",
      "photoUrl": "",
      "userId": "15405652371175931493"
     },
     "user_tz": 420
    },
    "id": "INiPvXUl3hMT",
    "outputId": "8031df1f-23b4-470f-f672-6d2887abcc48"
   },
   "outputs": [
    {
     "data": {
      "text/plain": [
       "[<matplotlib.lines.Line2D at 0x11b18d810>]"
      ]
     },
     "execution_count": 12,
     "metadata": {},
     "output_type": "execute_result"
    },
    {
     "data": {
      "image/png": "[encoded data removed]",
      "text/plain": [
       "<Figure size 576x396 with 1 Axes>"
      ]
     },
     "metadata": {},
     "output_type": "display_data"
    }
   ],
   "source": [
    "# Using rgb tuples\n",
    "# (0, 0, 0) is black\n",
    "# (0, 0, 1) is blue\n",
    "plt.plot(uniqueYears, numOlympian,c = (0, 0, 0), marker = '.', markersize = 10)"
   ]
  }
 ],
 "metadata": {
  "anaconda-cloud": {},
  "colab": {
   "collapsed_sections": [],
   "name": "SetMarkerTypeColor.ipynb",
   "provenance": []
  },
  "kernelspec": {
   "display_name": "Python 3",
   "language": "python",
   "name": "python3"
  },
  "language_info": {
   "codemirror_mode": {
    "name": "ipython",
    "version": 3
   },
   "file_extension": ".py",
   "mimetype": "text/x-python",
   "name": "python",
   "nbconvert_exporter": "python",
   "pygments_lexer": "ipython3",
   "version": "3.7.4"
  }
 },
 "nbformat": 4,
 "nbformat_minor": 1
}
