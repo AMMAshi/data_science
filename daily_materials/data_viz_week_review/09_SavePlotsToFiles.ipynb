{
 "cells": [
  {
   "cell_type": "markdown",
   "metadata": {
    "colab_type": "text",
    "id": "4i3o06fhS01j"
   },
   "source": [
    "<h1>Save Plots to Files</h1>\n",
    "<b>Objectives</b>\n",
    "\n",
    "<ul>\n",
    "<li>Mount data</li>\n",
    "<li>Import libraries</li>\n",
    "<li>Load the dataset</li>\n",
    "<li>Save Plots to Files</li>\n",
    "</ul>"
   ]
  },
  {
   "cell_type": "markdown",
   "metadata": {
    "colab_type": "text",
    "id": "PRyiTnO5UJ5C"
   },
   "source": [
    "<h2>Mount data</h2>"
   ]
  },
  {
   "cell_type": "code",
   "execution_count": 9,
   "metadata": {
    "colab": {
     "base_uri": "https://localhost:8080/",
     "height": 124
    },
    "colab_type": "code",
    "executionInfo": {
     "elapsed": 31724,
     "status": "ok",
     "timestamp": 1599355078408,
     "user": {
      "displayName": "Good Student",
      "photoUrl": "",
      "userId": "15405652371175931493"
     },
     "user_tz": 420
    },
    "id": "ucSDepMeUIWE",
    "outputId": "a01f5c74-f4fa-4d0e-f58b-55814f169871"
   },
   "outputs": [],
   "source": [
    "#from google.colab import drive\n",
    "#drive.mount('/content/drive')"
   ]
  },
  {
   "cell_type": "markdown",
   "metadata": {
    "colab_type": "text",
    "id": "gjBB2PgkSR6a"
   },
   "source": [
    "<h2>Import libraries</h2>"
   ]
  },
  {
   "cell_type": "code",
   "execution_count": 10,
   "metadata": {
    "colab": {},
    "colab_type": "code",
    "executionInfo": {
     "elapsed": 478,
     "status": "ok",
     "timestamp": 1599355088084,
     "user": {
      "displayName": "Good Student",
      "photoUrl": "",
      "userId": "15405652371175931493"
     },
     "user_tz": 420
    },
    "id": "PSktQK3tRyij"
   },
   "outputs": [],
   "source": [
    "import matplotlib.pyplot as plt\n",
    "import pandas as pd\n",
    "import numpy as np"
   ]
  },
  {
   "cell_type": "markdown",
   "metadata": {
    "colab_type": "text",
    "id": "Evohd-nSSA8z"
   },
   "source": [
    "<h2>Load the dataset</h2>"
   ]
  },
  {
   "cell_type": "code",
   "execution_count": 11,
   "metadata": {
    "colab": {
     "base_uri": "https://localhost:8080/",
     "height": 206
    },
    "colab_type": "code",
    "executionInfo": {
     "elapsed": 1344,
     "status": "ok",
     "timestamp": 1599355089372,
     "user": {
      "displayName": "Good Student",
      "photoUrl": "",
      "userId": "15405652371175931493"
     },
     "user_tz": 420
    },
    "id": "kTdLrVO5Ryiy",
    "outputId": "fa6c0dc8-cd22-499c-f96e-b26f9a66ad5a"
   },
   "outputs": [
    {
     "data": {
      "text/html": [
       "<div>\n",
       "<style scoped>\n",
       "    .dataframe tbody tr th:only-of-type {\n",
       "        vertical-align: middle;\n",
       "    }\n",
       "\n",
       "    .dataframe tbody tr th {\n",
       "        vertical-align: top;\n",
       "    }\n",
       "\n",
       "    .dataframe thead th {\n",
       "        text-align: right;\n",
       "    }\n",
       "</style>\n",
       "<table border=\"1\" class=\"dataframe\">\n",
       "  <thead>\n",
       "    <tr style=\"text-align: right;\">\n",
       "      <th></th>\n",
       "      <th>feature</th>\n",
       "      <th>actual</th>\n",
       "      <th>predicted</th>\n",
       "    </tr>\n",
       "  </thead>\n",
       "  <tbody>\n",
       "    <tr>\n",
       "      <th>0</th>\n",
       "      <td>0.000000</td>\n",
       "      <td>-51.000000</td>\n",
       "      <td>-50.991193</td>\n",
       "    </tr>\n",
       "    <tr>\n",
       "      <th>1</th>\n",
       "      <td>25.000000</td>\n",
       "      <td>-12.000000</td>\n",
       "      <td>-11.399052</td>\n",
       "    </tr>\n",
       "    <tr>\n",
       "      <th>2</th>\n",
       "      <td>117.583220</td>\n",
       "      <td>134.907414</td>\n",
       "      <td>135.223663</td>\n",
       "    </tr>\n",
       "    <tr>\n",
       "      <th>3</th>\n",
       "      <td>108.922466</td>\n",
       "      <td>134.085179</td>\n",
       "      <td>121.507752</td>\n",
       "    </tr>\n",
       "    <tr>\n",
       "      <th>4</th>\n",
       "      <td>96.839983</td>\n",
       "      <td>114.530638</td>\n",
       "      <td>102.372896</td>\n",
       "    </tr>\n",
       "  </tbody>\n",
       "</table>\n",
       "</div>"
      ],
      "text/plain": [
       "      feature      actual   predicted\n",
       "0    0.000000  -51.000000  -50.991193\n",
       "1   25.000000  -12.000000  -11.399052\n",
       "2  117.583220  134.907414  135.223663\n",
       "3  108.922466  134.085179  121.507752\n",
       "4   96.839983  114.530638  102.372896"
      ]
     },
     "execution_count": 11,
     "metadata": {},
     "output_type": "execute_result"
    }
   ],
   "source": [
    "# Keep in mind that the filename will likely be different on your computer (especially later in course)\n",
    "filename = 'data/linearRegPredicted.csv'\n",
    "df = pd.read_csv(filename)\n",
    "df.head()"
   ]
  },
  {
   "cell_type": "code",
   "execution_count": 12,
   "metadata": {
    "colab": {},
    "colab_type": "code",
    "executionInfo": {
     "elapsed": 1173,
     "status": "ok",
     "timestamp": 1599355089596,
     "user": {
      "displayName": "Good Student",
      "photoUrl": "",
      "userId": "15405652371175931493"
     },
     "user_tz": 420
    },
    "id": "9nvIpoHZZQuT"
   },
   "outputs": [],
   "source": [
    "feature = df['feature'].values\n",
    "actual = df['actual'].values\n",
    "predicted = df['predicted'].values"
   ]
  },
  {
   "cell_type": "markdown",
   "metadata": {
    "colab_type": "text",
    "id": "eboK5397RyjA"
   },
   "source": [
    "## Saving plots to files\n",
    "Saving your visualizations outside your Jupyter or Colab notebook is important as it allows you to show your visualizations to others. Equally important is checking your saved visualization as there is always the possibility the graph doesnt look the same in the notebook as in the image file. Note that this section doesn't cover every way to get around the issue of the entire plotting area not being saved, but the most common approach of using tight_layout. "
   ]
  },
  {
   "cell_type": "markdown",
   "metadata": {
    "colab_type": "text",
    "id": "2HfToJB4sGE9"
   },
   "source": [
    "<b>MATLAB-style</b>"
   ]
  },
  {
   "cell_type": "code",
   "execution_count": 13,
   "metadata": {
    "colab": {
     "base_uri": "https://localhost:8080/",
     "height": 265
    },
    "colab_type": "code",
    "executionInfo": {
     "elapsed": 947,
     "status": "ok",
     "timestamp": 1599355090829,
     "user": {
      "displayName": "Good Student",
      "photoUrl": "",
      "userId": "15405652371175931493"
     },
     "user_tz": 420
    },
    "id": "rGQCGM570aYs",
    "outputId": "e5e0c53a-52bd-4496-8939-e2e055ce65d2"
   },
   "outputs": [
    {
     "data": {
      "image/png": "[encoded data removed]",
      "text/plain": [
       "<Figure size 432x288 with 1 Axes>"
      ]
     },
     "metadata": {
      "needs_background": "light"
     },
     "output_type": "display_data"
    }
   ],
   "source": [
    "# The legend will be cutoff when saved\n",
    "plt.plot(feature, predicted, c = 'r', label = 'Prediction')\n",
    "plt.scatter(feature, actual, c= 'k', label = 'Actual')\n",
    "plt.legend(loc=(1.02,0))\n",
    "\n",
    "plt.savefig('MATLABlegendcutoff.png', dpi = 300)"
   ]
  },
  {
   "cell_type": "code",
   "execution_count": 14,
   "metadata": {
    "colab": {
     "base_uri": "https://localhost:8080/",
     "height": 297
    },
    "colab_type": "code",
    "executionInfo": {
     "elapsed": 1122,
     "status": "ok",
     "timestamp": 1599355091567,
     "user": {
      "displayName": "Good Student",
      "photoUrl": "",
      "userId": "15405652371175931493"
     },
     "user_tz": 420
    },
    "id": "14r8CDxe-KY1",
    "outputId": "6d86316c-0431-4ced-b7ea-ba3726abe040"
   },
   "outputs": [
    {
     "data": {
      "image/png": "[encoded data removed]",
      "text/plain": [
       "<Figure size 432x288 with 1 Axes>"
      ]
     },
     "metadata": {
      "needs_background": "light"
     },
     "output_type": "display_data"
    }
   ],
   "source": [
    "# The legend will be cutoff when saved\n",
    "plt.plot(feature, predicted, c = 'r', label = 'Prediction')\n",
    "plt.scatter(feature, actual, c= 'k', label = 'Actual')\n",
    "plt.legend(loc=(1.02,0))\n",
    "\n",
    "plt.tight_layout()\n",
    "plt.savefig('MATLABSavedPlot.png', dpi = 300)"
   ]
  },
  {
   "cell_type": "markdown",
   "metadata": {
    "colab_type": "text",
    "id": "DzPM-HwR0cxi"
   },
   "source": [
    "<b>Object-oriented</b>"
   ]
  },
  {
   "cell_type": "code",
   "execution_count": 15,
   "metadata": {
    "colab": {
     "base_uri": "https://localhost:8080/",
     "height": 265
    },
    "colab_type": "code",
    "executionInfo": {
     "elapsed": 947,
     "status": "ok",
     "timestamp": 1599355095935,
     "user": {
      "displayName": "Good Student",
      "photoUrl": "",
      "userId": "15405652371175931493"
     },
     "user_tz": 420
    },
    "id": "7g8PCEjT05xS",
    "outputId": "62b734c2-eb72-48eb-d6a8-33c4bee9b7a4"
   },
   "outputs": [
    {
     "data": {
      "image/png": "[encoded data removed]",
      "text/plain": [
       "<Figure size 432x288 with 1 Axes>"
      ]
     },
     "metadata": {
      "needs_background": "light"
     },
     "output_type": "display_data"
    }
   ],
   "source": [
    "# The legend will be cutoff when saved\n",
    "fig, axes = plt.subplots(nrows = 1, ncols = 1);\n",
    "axes.plot(feature, predicted, c = 'r', label = 'Prediction')\n",
    "axes.scatter(feature, actual, c= 'k', label = 'Actual')\n",
    "axes.legend(loc=(1.02,0))\n",
    "\n",
    "plt.savefig('OOPlegendcutoff.png', dpi = 300)"
   ]
  },
  {
   "cell_type": "code",
   "execution_count": 16,
   "metadata": {
    "colab": {
     "base_uri": "https://localhost:8080/",
     "height": 297
    },
    "colab_type": "code",
    "executionInfo": {
     "elapsed": 1030,
     "status": "ok",
     "timestamp": 1599355096517,
     "user": {
      "displayName": "Good Student",
      "photoUrl": "",
      "userId": "15405652371175931493"
     },
     "user_tz": 420
    },
    "id": "SPWvsW-e-PMK",
    "outputId": "04300d47-2599-4dd3-8c21-7e2a81ffa69b"
   },
   "outputs": [
    {
     "data": {
      "image/png": "[encoded data removed]",
      "text/plain": [
       "<Figure size 432x288 with 1 Axes>"
      ]
     },
     "metadata": {
      "needs_background": "light"
     },
     "output_type": "display_data"
    }
   ],
   "source": [
    "# Save image properly\n",
    "fig, axes = plt.subplots(nrows = 1, ncols = 1);\n",
    "axes.plot(feature, predicted, c = 'r', label = 'Prediction')\n",
    "axes.scatter(feature, actual, c= 'k', label = 'Actual')\n",
    "axes.legend(loc=(1.02,0))\n",
    "\n",
    "fig.tight_layout()\n",
    "plt.savefig('OOPSavedPlot.png', dpi = 300)"
   ]
  },
  {
   "cell_type": "code",
   "execution_count": null,
   "metadata": {
    "colab": {},
    "colab_type": "code",
    "id": "eD6Ft9jT-Gu9"
   },
   "outputs": [],
   "source": []
  }
 ],
 "metadata": {
  "anaconda-cloud": {},
  "colab": {
   "collapsed_sections": [],
   "name": "SavePlotsToFiles.ipynb",
   "provenance": []
  },
  "kernelspec": {
   "display_name": "Python 3",
   "language": "python",
   "name": "python3"
  },
  "language_info": {
   "codemirror_mode": {
    "name": "ipython",
    "version": 3
   },
   "file_extension": ".py",
   "mimetype": "text/x-python",
   "name": "python",
   "nbconvert_exporter": "python",
   "pygments_lexer": "ipython3",
   "version": "3.7.4"
  }
 },
 "nbformat": 4,
 "nbformat_minor": 1
}
