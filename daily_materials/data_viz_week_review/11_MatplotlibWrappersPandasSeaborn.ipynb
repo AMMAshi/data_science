{
 "cells": [
  {
   "cell_type": "markdown",
   "metadata": {
    "colab_type": "text",
    "id": "4i3o06fhS01j"
   },
   "source": [
    "<h1>Matplotlib Wrappers Pandas Seaborn</h1>\n",
    "<h2>Objectives</h2>\n",
    "<ul>\n",
    "<li>Task</li>\n",
    "<li>Mount data</li>\n",
    "<li>Import libraries</li>\n",
    "<li>Load the dataset</li>\n",
    "<li>Filtering data</li>\n",
    "<li>Matplotlib wrappers</li>\n",
    "</ul>"
   ]
  },
  {
   "cell_type": "markdown",
   "metadata": {
    "colab_type": "text",
    "id": "3Hgz3W3Pqmf3"
   },
   "source": [
    "<h2>Task</h2>\n",
    "This section utilizes a dataset that is a subset of the 120 years of Olympic history dataset on Kaggle. \n",
    "\n",
    "In order to make learning about matplotlib wrappers pandas and seaborn more interesting, we will create bar graphs for the top 20 average heights of Olympians in 2016 per NOC (National Olympic Committee 3-letter code) using matplotlib, pandas, and seaborn. "
   ]
  },
  {
   "cell_type": "markdown",
   "metadata": {
    "colab_type": "text",
    "id": "PRyiTnO5UJ5C"
   },
   "source": [
    "<h2>Mount data</h2>"
   ]
  },
  {
   "cell_type": "code",
   "execution_count": 1,
   "metadata": {
    "colab": {
     "base_uri": "https://localhost:8080/",
     "height": 35
    },
    "colab_type": "code",
    "executionInfo": {
     "elapsed": 377,
     "status": "ok",
     "timestamp": 1599601184709,
     "user": {
      "displayName": "Good Student",
      "photoUrl": "",
      "userId": "15405652371175931493"
     },
     "user_tz": 420
    },
    "id": "ucSDepMeUIWE",
    "outputId": "0b2e7a79-bb2e-4e00-90d2-a8b89a3687cd"
   },
   "outputs": [],
   "source": [
    "#from google.colab import drive\n",
    "#drive.mount('/content/drive')"
   ]
  },
  {
   "cell_type": "markdown",
   "metadata": {
    "colab_type": "text",
    "id": "gjBB2PgkSR6a"
   },
   "source": [
    "<h2>Import libraries</h2>"
   ]
  },
  {
   "cell_type": "code",
   "execution_count": 2,
   "metadata": {
    "colab": {},
    "colab_type": "code",
    "executionInfo": {
     "elapsed": 302,
     "status": "ok",
     "timestamp": 1599601185116,
     "user": {
      "displayName": "Good Student",
      "photoUrl": "",
      "userId": "15405652371175931493"
     },
     "user_tz": 420
    },
    "id": "PSktQK3tRyij"
   },
   "outputs": [],
   "source": [
    "# Note this notebook is also importing the seaborn lirbary\n",
    "import matplotlib.pyplot as plt\n",
    "import seaborn as sns\n",
    "import pandas as pd\n",
    "import numpy as np"
   ]
  },
  {
   "cell_type": "markdown",
   "metadata": {
    "colab_type": "text",
    "id": "Evohd-nSSA8z"
   },
   "source": [
    "<h2>Load the dataset</h2>"
   ]
  },
  {
   "cell_type": "code",
   "execution_count": 3,
   "metadata": {
    "colab": {
     "base_uri": "https://localhost:8080/",
     "height": 206
    },
    "colab_type": "code",
    "executionInfo": {
     "elapsed": 552,
     "status": "ok",
     "timestamp": 1599601185716,
     "user": {
      "displayName": "Good Student",
      "photoUrl": "",
      "userId": "15405652371175931493"
     },
     "user_tz": 420
    },
    "id": "kTdLrVO5Ryiy",
    "outputId": "75555d70-608e-4006-a7fa-3ca424fee365"
   },
   "outputs": [
    {
     "data": {
      "text/html": [
       "<div>\n",
       "<style scoped>\n",
       "    .dataframe tbody tr th:only-of-type {\n",
       "        vertical-align: middle;\n",
       "    }\n",
       "\n",
       "    .dataframe tbody tr th {\n",
       "        vertical-align: top;\n",
       "    }\n",
       "\n",
       "    .dataframe thead th {\n",
       "        text-align: right;\n",
       "    }\n",
       "</style>\n",
       "<table border=\"1\" class=\"dataframe\">\n",
       "  <thead>\n",
       "    <tr style=\"text-align: right;\">\n",
       "      <th></th>\n",
       "      <th>ID</th>\n",
       "      <th>Age</th>\n",
       "      <th>Height</th>\n",
       "      <th>Team</th>\n",
       "      <th>NOC</th>\n",
       "      <th>Games</th>\n",
       "      <th>Year</th>\n",
       "      <th>Season</th>\n",
       "      <th>City</th>\n",
       "      <th>Sport</th>\n",
       "      <th>Event</th>\n",
       "      <th>Medal</th>\n",
       "    </tr>\n",
       "  </thead>\n",
       "  <tbody>\n",
       "    <tr>\n",
       "      <th>0</th>\n",
       "      <td>5</td>\n",
       "      <td>21.0</td>\n",
       "      <td>185.0</td>\n",
       "      <td>Netherlands</td>\n",
       "      <td>NED</td>\n",
       "      <td>1988 Winter</td>\n",
       "      <td>1988</td>\n",
       "      <td>Winter</td>\n",
       "      <td>Calgary</td>\n",
       "      <td>Speed Skating</td>\n",
       "      <td>Speed Skating Women's 500 metres</td>\n",
       "      <td>NaN</td>\n",
       "    </tr>\n",
       "    <tr>\n",
       "      <th>1</th>\n",
       "      <td>5</td>\n",
       "      <td>21.0</td>\n",
       "      <td>185.0</td>\n",
       "      <td>Netherlands</td>\n",
       "      <td>NED</td>\n",
       "      <td>1988 Winter</td>\n",
       "      <td>1988</td>\n",
       "      <td>Winter</td>\n",
       "      <td>Calgary</td>\n",
       "      <td>Speed Skating</td>\n",
       "      <td>Speed Skating Women's 1,000 metres</td>\n",
       "      <td>NaN</td>\n",
       "    </tr>\n",
       "    <tr>\n",
       "      <th>2</th>\n",
       "      <td>5</td>\n",
       "      <td>25.0</td>\n",
       "      <td>185.0</td>\n",
       "      <td>Netherlands</td>\n",
       "      <td>NED</td>\n",
       "      <td>1992 Winter</td>\n",
       "      <td>1992</td>\n",
       "      <td>Winter</td>\n",
       "      <td>Albertville</td>\n",
       "      <td>Speed Skating</td>\n",
       "      <td>Speed Skating Women's 500 metres</td>\n",
       "      <td>NaN</td>\n",
       "    </tr>\n",
       "    <tr>\n",
       "      <th>3</th>\n",
       "      <td>5</td>\n",
       "      <td>25.0</td>\n",
       "      <td>185.0</td>\n",
       "      <td>Netherlands</td>\n",
       "      <td>NED</td>\n",
       "      <td>1992 Winter</td>\n",
       "      <td>1992</td>\n",
       "      <td>Winter</td>\n",
       "      <td>Albertville</td>\n",
       "      <td>Speed Skating</td>\n",
       "      <td>Speed Skating Women's 1,000 metres</td>\n",
       "      <td>NaN</td>\n",
       "    </tr>\n",
       "    <tr>\n",
       "      <th>4</th>\n",
       "      <td>5</td>\n",
       "      <td>27.0</td>\n",
       "      <td>185.0</td>\n",
       "      <td>Netherlands</td>\n",
       "      <td>NED</td>\n",
       "      <td>1994 Winter</td>\n",
       "      <td>1994</td>\n",
       "      <td>Winter</td>\n",
       "      <td>Lillehammer</td>\n",
       "      <td>Speed Skating</td>\n",
       "      <td>Speed Skating Women's 500 metres</td>\n",
       "      <td>NaN</td>\n",
       "    </tr>\n",
       "  </tbody>\n",
       "</table>\n",
       "</div>"
      ],
      "text/plain": [
       "   ID   Age  Height         Team  NOC        Games  Year  Season         City  \\\n",
       "0   5  21.0   185.0  Netherlands  NED  1988 Winter  1988  Winter      Calgary   \n",
       "1   5  21.0   185.0  Netherlands  NED  1988 Winter  1988  Winter      Calgary   \n",
       "2   5  25.0   185.0  Netherlands  NED  1992 Winter  1992  Winter  Albertville   \n",
       "3   5  25.0   185.0  Netherlands  NED  1992 Winter  1992  Winter  Albertville   \n",
       "4   5  27.0   185.0  Netherlands  NED  1994 Winter  1994  Winter  Lillehammer   \n",
       "\n",
       "           Sport                               Event Medal  \n",
       "0  Speed Skating    Speed Skating Women's 500 metres   NaN  \n",
       "1  Speed Skating  Speed Skating Women's 1,000 metres   NaN  \n",
       "2  Speed Skating    Speed Skating Women's 500 metres   NaN  \n",
       "3  Speed Skating  Speed Skating Women's 1,000 metres   NaN  \n",
       "4  Speed Skating    Speed Skating Women's 500 metres   NaN  "
      ]
     },
     "execution_count": 3,
     "metadata": {},
     "output_type": "execute_result"
    }
   ],
   "source": [
    "# Keep in mind that the filename will likely be different on your computer (especially later in course)\n",
    "filename = 'data/athleteEventsNoPersonal.csv'\n",
    "df = pd.read_csv(filename)\n",
    "df.head()"
   ]
  },
  {
   "cell_type": "markdown",
   "metadata": {
    "colab_type": "text",
    "id": "c9XgW8EUm3n8"
   },
   "source": [
    "<h2>Filtering data</h2>"
   ]
  },
  {
   "cell_type": "code",
   "execution_count": 4,
   "metadata": {
    "colab": {},
    "colab_type": "code",
    "executionInfo": {
     "elapsed": 453,
     "status": "ok",
     "timestamp": 1599601186307,
     "user": {
      "displayName": "Good Student",
      "photoUrl": "",
      "userId": "15405652371175931493"
     },
     "user_tz": 420
    },
    "id": "xgVwiKvfji_T"
   },
   "outputs": [],
   "source": [
    "yearFilter = df['Year'] == 2016"
   ]
  },
  {
   "cell_type": "code",
   "execution_count": 5,
   "metadata": {
    "colab": {},
    "colab_type": "code",
    "executionInfo": {
     "elapsed": 370,
     "status": "ok",
     "timestamp": 1599602194785,
     "user": {
      "displayName": "Good Student",
      "photoUrl": "",
      "userId": "15405652371175931493"
     },
     "user_tz": 420
    },
    "id": "MsmNzcFEkTlC"
   },
   "outputs": [],
   "source": [
    "# If it isn't clear what the code is doing below,\n",
    "# use pieces of the code and see what happens.\n",
    "# Similar code will also be reviewed throughout the course and taught again later. \n",
    "top20Height = df.loc[yearFilter, :].groupby(['NOC'])['Height'].mean().sort_values(ascending = False).head(20)"
   ]
  },
  {
   "cell_type": "code",
   "execution_count": 6,
   "metadata": {
    "colab": {
     "base_uri": "https://localhost:8080/",
     "height": 406
    },
    "colab_type": "code",
    "executionInfo": {
     "elapsed": 323,
     "status": "ok",
     "timestamp": 1599602195478,
     "user": {
      "displayName": "Good Student",
      "photoUrl": "",
      "userId": "15405652371175931493"
     },
     "user_tz": 420
    },
    "id": "fNsJHUcXng9e",
    "outputId": "51145154-3063-4c76-d45b-58c2f264d77d"
   },
   "outputs": [
    {
     "data": {
      "text/plain": [
       "NOC\n",
       "BUR    199.000000\n",
       "BIZ    199.000000\n",
       "BEN    192.000000\n",
       "GAB    190.000000\n",
       "CAY    188.000000\n",
       "CRO    187.125000\n",
       "LAT    187.000000\n",
       "ISL    187.000000\n",
       "VAN    187.000000\n",
       "KOS    187.000000\n",
       "SRB    186.782609\n",
       "LTU    186.600000\n",
       "TGA    186.500000\n",
       "TKM    186.000000\n",
       "BIH    186.000000\n",
       "DJI    185.000000\n",
       "CIV    185.000000\n",
       "BOT    185.000000\n",
       "IRI    184.800000\n",
       "PLW    184.000000\n",
       "Name: Height, dtype: float64"
      ]
     },
     "execution_count": 6,
     "metadata": {},
     "output_type": "execute_result"
    }
   ],
   "source": [
    "top20Height"
   ]
  },
  {
   "cell_type": "markdown",
   "metadata": {
    "colab_type": "text",
    "id": "eboK5397RyjA"
   },
   "source": [
    "<h2>Matplotlib wrappers</h2>\n",
    "Matplotlib is probably the most popular data visualization library. However, it has flaws. The default visualizations are not the most aesthetically pleasing and functional. What this means is that you often need a lot of code to make your visualizations visually appealing and functional. Additionally,  matplotlib currently is not integrated with pandas data structures. This is why when you use matplotlib you often have to convert your pandas dataframes into python lists and NumPy arrays. \n",
    "\n",
    "What you can do to get around these problems is to use the plotting functionality of the pandas library which can function as a wrapper for matplotlib and the python library seaborn which is great for more complicated statistical plots (boxplots, heatmaps, etc). "
   ]
  },
  {
   "cell_type": "markdown",
   "metadata": {
    "colab_type": "text",
    "id": "2HfToJB4sGE9"
   },
   "source": [
    "<b>Bar graph using matplotlib</b>"
   ]
  },
  {
   "cell_type": "code",
   "execution_count": 7,
   "metadata": {
    "colab": {
     "base_uri": "https://localhost:8080/",
     "height": 265
    },
    "colab_type": "code",
    "executionInfo": {
     "elapsed": 523,
     "status": "ok",
     "timestamp": 1599602196681,
     "user": {
      "displayName": "Good Student",
      "photoUrl": "",
      "userId": "15405652371175931493"
     },
     "user_tz": 420
    },
    "id": "9SEdsIQSnt9G",
    "outputId": "6730531e-10a2-48d9-ec58-8fd83c688d4e"
   },
   "outputs": [
    {
     "data": {
      "image/png": "[encoded data removed]",
      "text/plain": [
       "<Figure size 432x288 with 1 Axes>"
      ]
     },
     "metadata": {
      "needs_background": "light"
     },
     "output_type": "display_data"
    }
   ],
   "source": [
    "# Convert data from pandas to plot using matplotlib\n",
    "# Notice it isn't the most readable graph\n",
    "plt.bar(top20Height.index, top20Height.values);"
   ]
  },
  {
   "cell_type": "code",
   "execution_count": 8,
   "metadata": {
    "colab": {
     "base_uri": "https://localhost:8080/",
     "height": 277
    },
    "colab_type": "code",
    "executionInfo": {
     "elapsed": 552,
     "status": "ok",
     "timestamp": 1599602197080,
     "user": {
      "displayName": "Good Student",
      "photoUrl": "",
      "userId": "15405652371175931493"
     },
     "user_tz": 420
    },
    "id": "5eOcXMe6nugE",
    "outputId": "c00b42a1-873a-4581-a759-9428681f507c"
   },
   "outputs": [
    {
     "data": {
      "image/png": "[encoded data removed]",
      "text/plain": [
       "<Figure size 432x288 with 1 Axes>"
      ]
     },
     "metadata": {
      "needs_background": "light"
     },
     "output_type": "display_data"
    }
   ],
   "source": [
    "# More readable\n",
    "plt.bar(top20Height.index, top20Height.values);\n",
    "plt.xticks(rotation = 90);"
   ]
  },
  {
   "cell_type": "markdown",
   "metadata": {
    "colab_type": "text",
    "id": "Z6HYRk1kojoP"
   },
   "source": [
    "<b>Bar graph using pandas</b>\n"
   ]
  },
  {
   "cell_type": "code",
   "execution_count": 9,
   "metadata": {
    "colab": {
     "base_uri": "https://localhost:8080/",
     "height": 291
    },
    "colab_type": "code",
    "executionInfo": {
     "elapsed": 712,
     "status": "ok",
     "timestamp": 1599602198016,
     "user": {
      "displayName": "Good Student",
      "photoUrl": "",
      "userId": "15405652371175931493"
     },
     "user_tz": 420
    },
    "id": "FvrcZhN_okAQ",
    "outputId": "4d84f601-ef07-45c3-f6b1-9e8b811b7d61"
   },
   "outputs": [
    {
     "data": {
      "image/png": "[encoded data removed]",
      "text/plain": [
       "<Figure size 432x288 with 1 Axes>"
      ]
     },
     "metadata": {
      "needs_background": "light"
     },
     "output_type": "display_data"
    }
   ],
   "source": [
    "# No need to convert data from pandas to plot using matplotlib\n",
    "# graph also has readable xticklabels by default\n",
    "top20Height.plot.bar();"
   ]
  },
  {
   "cell_type": "markdown",
   "metadata": {
    "colab_type": "text",
    "id": "kZ_Uv5HYqiz5"
   },
   "source": [
    "Note that sometimes you will find it useful to use matplotlib syntax to adjust the final plot output. While it wasn't necessary here, note that sometimes you will find it useful to use matplotlib syntax to adjust the final plot output (like adding a ylabel)"
   ]
  },
  {
   "cell_type": "code",
   "execution_count": 10,
   "metadata": {
    "colab": {
     "base_uri": "https://localhost:8080/",
     "height": 309
    },
    "colab_type": "code",
    "executionInfo": {
     "elapsed": 513,
     "status": "ok",
     "timestamp": 1599602198730,
     "user": {
      "displayName": "Good Student",
      "photoUrl": "",
      "userId": "15405652371175931493"
     },
     "user_tz": 420
    },
    "id": "BnjCeBd6q5wm",
    "outputId": "29e0fc36-1355-4928-d0ba-f8f62a733e54"
   },
   "outputs": [
    {
     "data": {
      "text/plain": [
       "Text(0, 0.5, 'Average Height (cm)')"
      ]
     },
     "execution_count": 10,
     "metadata": {},
     "output_type": "execute_result"
    },
    {
     "data": {
      "image/png": "[encoded data removed]",
      "text/plain": [
       "<Figure size 432x288 with 1 Axes>"
      ]
     },
     "metadata": {
      "needs_background": "light"
     },
     "output_type": "display_data"
    }
   ],
   "source": [
    "# No need to convert data from pandas to plot using matplotlib\n",
    "# graph also have readable xticklabels by default\n",
    "top20Height.plot.bar();\n",
    "plt.ylabel('Average Height (cm)')"
   ]
  },
  {
   "cell_type": "markdown",
   "metadata": {
    "colab_type": "text",
    "id": "6mPSAscWokO6"
   },
   "source": [
    "<b>Bar graph using seaborn</b>\n",
    "\n",
    "Seaborn can be seen as a wrapper on top of Matplotlib. [Seaborn's website](https://seaborn.pydata.org/introduction.html) lists a bunch of advantages of using Seaborn including\n",
    "\n",
    "* Close integration with pandas data structures\n",
    "* Dataset oriented API for examining relationships between multiple variables.\n",
    "* Specialized support for using categorical variables to show observations or aggregate statistics.\n",
    "* Concise control over matplotlib figure styling with several built-in themes.\n",
    "* Tools for choosing color palettes that faithfully reveal patterns in your data."
   ]
  },
  {
   "cell_type": "code",
   "execution_count": 11,
   "metadata": {
    "colab": {
     "base_uri": "https://localhost:8080/",
     "height": 279
    },
    "colab_type": "code",
    "executionInfo": {
     "elapsed": 606,
     "status": "ok",
     "timestamp": 1599602199655,
     "user": {
      "displayName": "Good Student",
      "photoUrl": "",
      "userId": "15405652371175931493"
     },
     "user_tz": 420
    },
    "id": "yp4JTjKBokee",
    "outputId": "02a07900-49dc-435c-c16d-a1f1f5789972"
   },
   "outputs": [
    {
     "data": {
      "image/png": "[encoded data removed]",
      "text/plain": [
       "<Figure size 432x288 with 1 Axes>"
      ]
     },
     "metadata": {
      "needs_background": "light"
     },
     "output_type": "display_data"
    }
   ],
   "source": [
    "# With seaborn, there is no need to convert data from pandas if you have a dataframe,\n",
    "# however our data is a pandas Series, you need to convert it.\n",
    "# Notice it isn't the most readable graph\n",
    "sns.barplot(x = top20Height.index, y = top20Height.values);"
   ]
  },
  {
   "cell_type": "code",
   "execution_count": 12,
   "metadata": {
    "colab": {
     "base_uri": "https://localhost:8080/",
     "height": 291
    },
    "colab_type": "code",
    "executionInfo": {
     "elapsed": 529,
     "status": "ok",
     "timestamp": 1599602199853,
     "user": {
      "displayName": "Good Student",
      "photoUrl": "",
      "userId": "15405652371175931493"
     },
     "user_tz": 420
    },
    "id": "w2T216tKrwmS",
    "outputId": "1da67568-ac9b-4c57-8e23-87c0c0bd9dbb"
   },
   "outputs": [
    {
     "data": {
      "image/png": "[encoded data removed]",
      "text/plain": [
       "<Figure size 432x288 with 1 Axes>"
      ]
     },
     "metadata": {
      "needs_background": "light"
     },
     "output_type": "display_data"
    }
   ],
   "source": [
    "sns.barplot(x = top20Height.index, y = top20Height.values);\n",
    "plt.xticks(rotation = 90);"
   ]
  },
  {
   "cell_type": "markdown",
   "metadata": {
    "colab_type": "text",
    "id": "debGmH6bq46V"
   },
   "source": [
    "Seaborn is a great library, however it does it's best work with more complicated statistical plots (heatmaps, boxplots, etc). Using seaborn to create a simple bar graph doesnt show many of the libraries strengths. "
   ]
  }
 ],
 "metadata": {
  "anaconda-cloud": {},
  "colab": {
   "collapsed_sections": [],
   "name": "MatplotlibWrappersPandasSeaborn.ipynb",
   "provenance": []
  },
  "kernelspec": {
   "display_name": "Python 3",
   "language": "python",
   "name": "python3"
  },
  "language_info": {
   "codemirror_mode": {
    "name": "ipython",
    "version": 3
   },
   "file_extension": ".py",
   "mimetype": "text/x-python",
   "name": "python",
   "nbconvert_exporter": "python",
   "pygments_lexer": "ipython3",
   "version": "3.7.4"
  }
 },
 "nbformat": 4,
 "nbformat_minor": 1
}
