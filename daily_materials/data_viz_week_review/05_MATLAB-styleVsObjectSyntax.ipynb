{
 "cells": [
  {
   "cell_type": "markdown",
   "metadata": {
    "colab_type": "text",
    "id": "4i3o06fhS01j"
   },
   "source": [
    "<h1>MATLAB-style vs object syntax</h1>\n",
    "\n",
    "<b>Objectives</b>\n",
    "\n",
    "<ul>\n",
    "<li>Mount data</li>\n",
    "<li>Import libraries</li>\n",
    "<li>Load the dataset</li>\n",
    "<li>MATLAB-style vs object syntax</li>\n",
    "</ul>"
   ]
  },
  {
   "cell_type": "markdown",
   "metadata": {
    "colab_type": "text",
    "id": "PRyiTnO5UJ5C"
   },
   "source": [
    "<h2>Mount data</h2>"
   ]
  },
  {
   "cell_type": "code",
   "execution_count": 1,
   "metadata": {
    "colab": {
     "base_uri": "https://localhost:8080/",
     "height": 126
    },
    "colab_type": "code",
    "executionInfo": {
     "elapsed": 25013,
     "status": "ok",
     "timestamp": 1599177027135,
     "user": {
      "displayName": "Good Student",
      "photoUrl": "",
      "userId": "15405652371175931493"
     },
     "user_tz": 420
    },
    "id": "ucSDepMeUIWE",
    "outputId": "a44b7236-4aec-42a5-ba88-6f85fcd09fd0"
   },
   "outputs": [],
   "source": [
    "#from google.colab import drive\n",
    "#drive.mount('/content/drive')"
   ]
  },
  {
   "cell_type": "markdown",
   "metadata": {
    "colab_type": "text",
    "id": "gjBB2PgkSR6a"
   },
   "source": [
    "<h2>Import libraries</h2>"
   ]
  },
  {
   "cell_type": "code",
   "execution_count": 2,
   "metadata": {
    "colab": {},
    "colab_type": "code",
    "id": "PSktQK3tRyij"
   },
   "outputs": [],
   "source": [
    "import matplotlib.pyplot as plt\n",
    "import pandas as pd\n",
    "import numpy as np"
   ]
  },
  {
   "cell_type": "markdown",
   "metadata": {
    "colab_type": "text",
    "id": "Evohd-nSSA8z"
   },
   "source": [
    "<h2>Load the dataset</h2>\n",
    "This is a subset of the <a href=\"https://www.kaggle.com/heesoo37/120-years-of-olympic-history-athletes-and-results\">120 years of Olympic history dataset</a> on Kaggle. "
   ]
  },
  {
   "cell_type": "code",
   "execution_count": 3,
   "metadata": {
    "colab": {
     "base_uri": "https://localhost:8080/",
     "height": 206
    },
    "colab_type": "code",
    "executionInfo": {
     "elapsed": 1206,
     "status": "ok",
     "timestamp": 1599177143759,
     "user": {
      "displayName": "Good Student",
      "photoUrl": "",
      "userId": "15405652371175931493"
     },
     "user_tz": 420
    },
    "id": "kTdLrVO5Ryiy",
    "outputId": "b0256e6b-d47d-40c0-fb92-d5aca4c56312"
   },
   "outputs": [
    {
     "data": {
      "text/html": [
       "<div>\n",
       "<style scoped>\n",
       "    .dataframe tbody tr th:only-of-type {\n",
       "        vertical-align: middle;\n",
       "    }\n",
       "\n",
       "    .dataframe tbody tr th {\n",
       "        vertical-align: top;\n",
       "    }\n",
       "\n",
       "    .dataframe thead th {\n",
       "        text-align: right;\n",
       "    }\n",
       "</style>\n",
       "<table border=\"1\" class=\"dataframe\">\n",
       "  <thead>\n",
       "    <tr style=\"text-align: right;\">\n",
       "      <th></th>\n",
       "      <th>ID</th>\n",
       "      <th>Age</th>\n",
       "      <th>Height</th>\n",
       "      <th>Team</th>\n",
       "      <th>NOC</th>\n",
       "      <th>Games</th>\n",
       "      <th>Year</th>\n",
       "      <th>Season</th>\n",
       "      <th>City</th>\n",
       "      <th>Sport</th>\n",
       "      <th>Event</th>\n",
       "      <th>Medal</th>\n",
       "    </tr>\n",
       "  </thead>\n",
       "  <tbody>\n",
       "    <tr>\n",
       "      <th>0</th>\n",
       "      <td>5</td>\n",
       "      <td>21.0</td>\n",
       "      <td>185.0</td>\n",
       "      <td>Netherlands</td>\n",
       "      <td>NED</td>\n",
       "      <td>1988 Winter</td>\n",
       "      <td>1988</td>\n",
       "      <td>Winter</td>\n",
       "      <td>Calgary</td>\n",
       "      <td>Speed Skating</td>\n",
       "      <td>Speed Skating Women's 500 metres</td>\n",
       "      <td>NaN</td>\n",
       "    </tr>\n",
       "    <tr>\n",
       "      <th>1</th>\n",
       "      <td>5</td>\n",
       "      <td>21.0</td>\n",
       "      <td>185.0</td>\n",
       "      <td>Netherlands</td>\n",
       "      <td>NED</td>\n",
       "      <td>1988 Winter</td>\n",
       "      <td>1988</td>\n",
       "      <td>Winter</td>\n",
       "      <td>Calgary</td>\n",
       "      <td>Speed Skating</td>\n",
       "      <td>Speed Skating Women's 1,000 metres</td>\n",
       "      <td>NaN</td>\n",
       "    </tr>\n",
       "    <tr>\n",
       "      <th>2</th>\n",
       "      <td>5</td>\n",
       "      <td>25.0</td>\n",
       "      <td>185.0</td>\n",
       "      <td>Netherlands</td>\n",
       "      <td>NED</td>\n",
       "      <td>1992 Winter</td>\n",
       "      <td>1992</td>\n",
       "      <td>Winter</td>\n",
       "      <td>Albertville</td>\n",
       "      <td>Speed Skating</td>\n",
       "      <td>Speed Skating Women's 500 metres</td>\n",
       "      <td>NaN</td>\n",
       "    </tr>\n",
       "    <tr>\n",
       "      <th>3</th>\n",
       "      <td>5</td>\n",
       "      <td>25.0</td>\n",
       "      <td>185.0</td>\n",
       "      <td>Netherlands</td>\n",
       "      <td>NED</td>\n",
       "      <td>1992 Winter</td>\n",
       "      <td>1992</td>\n",
       "      <td>Winter</td>\n",
       "      <td>Albertville</td>\n",
       "      <td>Speed Skating</td>\n",
       "      <td>Speed Skating Women's 1,000 metres</td>\n",
       "      <td>NaN</td>\n",
       "    </tr>\n",
       "    <tr>\n",
       "      <th>4</th>\n",
       "      <td>5</td>\n",
       "      <td>27.0</td>\n",
       "      <td>185.0</td>\n",
       "      <td>Netherlands</td>\n",
       "      <td>NED</td>\n",
       "      <td>1994 Winter</td>\n",
       "      <td>1994</td>\n",
       "      <td>Winter</td>\n",
       "      <td>Lillehammer</td>\n",
       "      <td>Speed Skating</td>\n",
       "      <td>Speed Skating Women's 500 metres</td>\n",
       "      <td>NaN</td>\n",
       "    </tr>\n",
       "  </tbody>\n",
       "</table>\n",
       "</div>"
      ],
      "text/plain": [
       "   ID   Age  Height         Team  NOC        Games  Year  Season         City  \\\n",
       "0   5  21.0   185.0  Netherlands  NED  1988 Winter  1988  Winter      Calgary   \n",
       "1   5  21.0   185.0  Netherlands  NED  1988 Winter  1988  Winter      Calgary   \n",
       "2   5  25.0   185.0  Netherlands  NED  1992 Winter  1992  Winter  Albertville   \n",
       "3   5  25.0   185.0  Netherlands  NED  1992 Winter  1992  Winter  Albertville   \n",
       "4   5  27.0   185.0  Netherlands  NED  1994 Winter  1994  Winter  Lillehammer   \n",
       "\n",
       "           Sport                               Event Medal  \n",
       "0  Speed Skating    Speed Skating Women's 500 metres   NaN  \n",
       "1  Speed Skating  Speed Skating Women's 1,000 metres   NaN  \n",
       "2  Speed Skating    Speed Skating Women's 500 metres   NaN  \n",
       "3  Speed Skating  Speed Skating Women's 1,000 metres   NaN  \n",
       "4  Speed Skating    Speed Skating Women's 500 metres   NaN  "
      ]
     },
     "execution_count": 3,
     "metadata": {},
     "output_type": "execute_result"
    }
   ],
   "source": [
    "# Keep in mind that the filename will likely be different on your computer (especially later in course)\n",
    "filename = 'data/athleteEventsNoPersonal.csv'\n",
    "df = pd.read_csv(filename)\n",
    "df.head()"
   ]
  },
  {
   "cell_type": "markdown",
   "metadata": {
    "colab_type": "text",
    "id": "L1oEBhtb5Tbp"
   },
   "source": [
    "Getting data into a form suitable for graphing. This is covered in previous sections. "
   ]
  },
  {
   "cell_type": "code",
   "execution_count": 4,
   "metadata": {
    "colab": {},
    "colab_type": "code",
    "id": "wIf4tfTr5e2M"
   },
   "outputs": [],
   "source": [
    "# get number of olympians per year\n",
    "numberUniqueYear = df.groupby(['Year'])['ID'].nunique()"
   ]
  },
  {
   "cell_type": "code",
   "execution_count": 5,
   "metadata": {
    "colab": {
     "base_uri": "https://localhost:8080/",
     "height": 676
    },
    "colab_type": "code",
    "executionInfo": {
     "elapsed": 237,
     "status": "ok",
     "timestamp": 1599177146420,
     "user": {
      "displayName": "Good Student",
      "photoUrl": "",
      "userId": "15405652371175931493"
     },
     "user_tz": 420
    },
    "id": "V-ArbMUa9-UZ",
    "outputId": "d6f4125c-df7e-4e23-bfa9-e0ebc60b696b"
   },
   "outputs": [
    {
     "data": {
      "text/plain": [
       "Year\n",
       "1896      26\n",
       "1900     178\n",
       "1904      91\n",
       "1906     125\n",
       "1908     312\n",
       "1912     347\n",
       "1920     392\n",
       "1924     537\n",
       "1928     550\n",
       "1932     336\n",
       "1936     771\n",
       "1948     756\n",
       "1952     877\n",
       "1956     595\n",
       "1960     901\n",
       "1964     885\n",
       "1968     973\n",
       "1972    1210\n",
       "1976    1086\n",
       "1980     968\n",
       "1984    1190\n",
       "1988    1527\n",
       "1992    1693\n",
       "1994     290\n",
       "1996    1512\n",
       "1998     343\n",
       "2000    1611\n",
       "2002     369\n",
       "2004    1598\n",
       "2006     376\n",
       "2008    1672\n",
       "2010     374\n",
       "2012    1597\n",
       "2014     429\n",
       "2016    1692\n",
       "Name: ID, dtype: int64"
      ]
     },
     "execution_count": 5,
     "metadata": {},
     "output_type": "execute_result"
    }
   ],
   "source": [
    "# this is a pandas Series\n",
    "numberUniqueYear"
   ]
  },
  {
   "cell_type": "code",
   "execution_count": 6,
   "metadata": {
    "colab": {
     "base_uri": "https://localhost:8080/",
     "height": 88
    },
    "colab_type": "code",
    "executionInfo": {
     "elapsed": 226,
     "status": "ok",
     "timestamp": 1599177171598,
     "user": {
      "displayName": "Good Student",
      "photoUrl": "",
      "userId": "15405652371175931493"
     },
     "user_tz": 420
    },
    "id": "gg-injzN6KP3",
    "outputId": "5fb480b1-7e0f-4e9f-e64e-de37331c55a0"
   },
   "outputs": [
    {
     "data": {
      "text/plain": [
       "array([1896, 1900, 1904, 1906, 1908, 1912, 1920, 1924, 1928, 1932, 1936,\n",
       "       1948, 1952, 1956, 1960, 1964, 1968, 1972, 1976, 1980, 1984, 1988,\n",
       "       1992, 1994, 1996, 1998, 2000, 2002, 2004, 2006, 2008, 2010, 2012,\n",
       "       2014, 2016])"
      ]
     },
     "execution_count": 6,
     "metadata": {},
     "output_type": "execute_result"
    }
   ],
   "source": [
    "# Can convert to NumPy array or list\n",
    "\n",
    "uniqueYears = np.array(numberUniqueYear.index)\n",
    "uniqueYears"
   ]
  },
  {
   "cell_type": "code",
   "execution_count": 7,
   "metadata": {
    "colab": {
     "base_uri": "https://localhost:8080/",
     "height": 88
    },
    "colab_type": "code",
    "executionInfo": {
     "elapsed": 223,
     "status": "ok",
     "timestamp": 1599177178430,
     "user": {
      "displayName": "Good Student",
      "photoUrl": "",
      "userId": "15405652371175931493"
     },
     "user_tz": 420
    },
    "id": "8iE_S5yo6Kpo",
    "outputId": "0da88bf5-10a6-413d-8ad6-1c658c858ce1"
   },
   "outputs": [
    {
     "data": {
      "text/plain": [
       "array([  26,  178,   91,  125,  312,  347,  392,  537,  550,  336,  771,\n",
       "        756,  877,  595,  901,  885,  973, 1210, 1086,  968, 1190, 1527,\n",
       "       1693,  290, 1512,  343, 1611,  369, 1598,  376, 1672,  374, 1597,\n",
       "        429, 1692])"
      ]
     },
     "execution_count": 7,
     "metadata": {},
     "output_type": "execute_result"
    }
   ],
   "source": [
    "numOlympian = np.array(numberUniqueYear.values)\n",
    "numOlympian"
   ]
  },
  {
   "cell_type": "markdown",
   "metadata": {
    "colab_type": "text",
    "id": "eboK5397RyjA"
   },
   "source": [
    "<h2>MATLAB-style vs Object Syntax</h2>\n",
    "\n",
    "Matplotlib has two different types of syntax.\n",
    "\n",
    "<b>MATLAB-style</b>\n",
    "\n",
    "This is a scripted interface designed to feel like MATLAB. Matplotlib maintains a pointer to the current figure and sends commands to it. \n",
    "\n",
    "<b>Object-oriented</b>\n",
    "\n",
    "This is more often used in situations where you want more control over your figure. \n",
    "\n",
    "<b>Important Note</b>\n",
    "\n",
    "You can and often will have plots that will be created through a combination of MATLAB-style and object-oriented syntax. "
   ]
  },
  {
   "cell_type": "markdown",
   "metadata": {
    "colab_type": "text",
    "id": "5UvhhnA-ZFwe"
   },
   "source": [
    "<b>MATLAB-style</b>"
   ]
  },
  {
   "cell_type": "code",
   "execution_count": 8,
   "metadata": {
    "colab": {
     "base_uri": "https://localhost:8080/",
     "height": 365
    },
    "colab_type": "code",
    "executionInfo": {
     "elapsed": 537,
     "status": "ok",
     "timestamp": 1599177399365,
     "user": {
      "displayName": "Good Student",
      "photoUrl": "",
      "userId": "15405652371175931493"
     },
     "user_tz": 420
    },
    "id": "SYObqUaCRyjL",
    "outputId": "95a40f90-dcbc-41c6-d987-4266c8820b64"
   },
   "outputs": [
    {
     "data": {
      "text/plain": [
       "[<matplotlib.lines.Line2D at 0x120414c50>]"
      ]
     },
     "execution_count": 8,
     "metadata": {},
     "output_type": "execute_result"
    },
    {
     "data": {
      "image/png": "[encoded data removed]",
      "text/plain": [
       "<Figure size 576x396 with 1 Axes>"
      ]
     },
     "metadata": {},
     "output_type": "display_data"
    }
   ],
   "source": [
    "plt.style.use('seaborn')\n",
    "\n",
    "plt.plot(uniqueYears, numOlympian, c= 'k')"
   ]
  },
  {
   "cell_type": "markdown",
   "metadata": {
    "colab_type": "text",
    "id": "1LbWO0Q0ZsJG"
   },
   "source": [
    "<b>Object-oriented</b>"
   ]
  },
  {
   "cell_type": "code",
   "execution_count": 9,
   "metadata": {
    "colab": {
     "base_uri": "https://localhost:8080/",
     "height": 347
    },
    "colab_type": "code",
    "executionInfo": {
     "elapsed": 467,
     "status": "ok",
     "timestamp": 1599177470044,
     "user": {
      "displayName": "Good Student",
      "photoUrl": "",
      "userId": "15405652371175931493"
     },
     "user_tz": 420
    },
    "id": "GtDNi0nsZzH8",
    "outputId": "39d48b69-3ed3-413a-e87b-3b4af99c792c"
   },
   "outputs": [
    {
     "data": {
      "image/png": "[encoded data removed]",
      "text/plain": [
       "<Figure size 576x396 with 1 Axes>"
      ]
     },
     "metadata": {},
     "output_type": "display_data"
    }
   ],
   "source": [
    "fig, axes = plt.subplots(nrows = 1, ncols = 1)\n",
    "axes.plot(uniqueYears, numOlympian, c= 'k');"
   ]
  },
  {
   "cell_type": "markdown",
   "metadata": {
    "colab_type": "text",
    "id": "ZAxIH3xeaAq0"
   },
   "source": [
    "<b>Combination</b>\n",
    "\n",
    "You will often see both types of syntax used together. In the case of the code below, axes is the object oriented code and the plt.xticks and plt.yticks commands are the MATLAB style. "
   ]
  },
  {
   "cell_type": "code",
   "execution_count": 10,
   "metadata": {
    "colab": {
     "base_uri": "https://localhost:8080/",
     "height": 402
    },
    "colab_type": "code",
    "executionInfo": {
     "elapsed": 456,
     "status": "ok",
     "timestamp": 1599177685101,
     "user": {
      "displayName": "Good Student",
      "photoUrl": "",
      "userId": "15405652371175931493"
     },
     "user_tz": 420
    },
    "id": "uU7bBJLpaBhb",
    "outputId": "3d590a76-618f-4dff-aadf-a89291a51139"
   },
   "outputs": [
    {
     "data": {
      "image/png": "[encoded data removed]",
      "text/plain": [
       "<Figure size 576x396 with 1 Axes>"
      ]
     },
     "metadata": {},
     "output_type": "display_data"
    }
   ],
   "source": [
    "fig, axes = plt.subplots(nrows = 1, ncols = 1);\n",
    "axes.plot(uniqueYears, numOlympian, c= 'k');\n",
    "plt.xticks(fontsize = 25);\n",
    "plt.yticks(fontsize = 25);"
   ]
  }
 ],
 "metadata": {
  "anaconda-cloud": {},
  "colab": {
   "collapsed_sections": [],
   "name": "MATLAB-style vs object syntax",
   "provenance": []
  },
  "kernelspec": {
   "display_name": "Python 3",
   "language": "python",
   "name": "python3"
  },
  "language_info": {
   "codemirror_mode": {
    "name": "ipython",
    "version": 3
   },
   "file_extension": ".py",
   "mimetype": "text/x-python",
   "name": "python",
   "nbconvert_exporter": "python",
   "pygments_lexer": "ipython3",
   "version": "3.7.4"
  }
 },
 "nbformat": 4,
 "nbformat_minor": 1
}
