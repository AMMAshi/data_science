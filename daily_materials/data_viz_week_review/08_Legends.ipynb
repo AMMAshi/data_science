{
 "cells": [
  {
   "cell_type": "markdown",
   "metadata": {
    "colab_type": "text",
    "id": "4i3o06fhS01j"
   },
   "source": [
    "<h1>Legends</h1>\n",
    "<b>Objectives</b>\n",
    "\n",
    "<ul>\n",
    "<li>Task</li>\n",
    "<li>Mount data</li>\n",
    "<li>Import libraries</li>\n",
    "<li>Load the dataset</li>\n",
    "<li>Legends</li>\n",
    "</ul>"
   ]
  },
  {
   "cell_type": "markdown",
   "metadata": {
    "colab_type": "text",
    "id": "nAKf5icGVG2m"
   },
   "source": [
    "<h2>Task</h2>\n",
    "This section utilizes a dataset that contains 3 columns. It contains information you would normally get from a linear regression model. There is the feature column. You can think of this as the data used to make a prediction. The actual column is what a linear regression model should have predicted. The predicted column is what the model predicted. \n",
    "\n",
    "In order to make learning about legends more interesting, what will be graphed is the line of best fit in red (feature and predicted column) and a scatter plot of black points using information from the feature and actual column. The graph produced will contain a legend which will assist in assigning meaning to various plot elements. Note that the graph produced is not perfect in this section which will be a subject for discussion if you want to discuss during class or office hours. "
   ]
  },
  {
   "cell_type": "markdown",
   "metadata": {
    "colab_type": "text",
    "id": "PRyiTnO5UJ5C"
   },
   "source": [
    "<h2>Mount data</h2>"
   ]
  },
  {
   "cell_type": "code",
   "execution_count": 1,
   "metadata": {
    "colab": {
     "base_uri": "https://localhost:8080/",
     "height": 34
    },
    "colab_type": "code",
    "executionInfo": {
     "elapsed": 545,
     "status": "ok",
     "timestamp": 1599284699518,
     "user": {
      "displayName": "Good Student",
      "photoUrl": "",
      "userId": "15405652371175931493"
     },
     "user_tz": 420
    },
    "id": "ucSDepMeUIWE",
    "outputId": "41df13f2-c143-4c76-cd7d-7f2c3ab9f33e"
   },
   "outputs": [],
   "source": [
    "#from google.colab import drive\n",
    "#drive.mount('/content/drive')"
   ]
  },
  {
   "cell_type": "markdown",
   "metadata": {
    "colab_type": "text",
    "id": "gjBB2PgkSR6a"
   },
   "source": [
    "<h2>Import libraries</h2>"
   ]
  },
  {
   "cell_type": "code",
   "execution_count": 2,
   "metadata": {
    "colab": {},
    "colab_type": "code",
    "executionInfo": {
     "elapsed": 504,
     "status": "ok",
     "timestamp": 1599284700230,
     "user": {
      "displayName": "Good Student",
      "photoUrl": "",
      "userId": "15405652371175931493"
     },
     "user_tz": 420
    },
    "id": "PSktQK3tRyij"
   },
   "outputs": [],
   "source": [
    "import matplotlib.pyplot as plt\n",
    "import pandas as pd\n",
    "import numpy as np"
   ]
  },
  {
   "cell_type": "markdown",
   "metadata": {
    "colab_type": "text",
    "id": "Evohd-nSSA8z"
   },
   "source": [
    "<h2>Load the dataset</h2>"
   ]
  },
  {
   "cell_type": "code",
   "execution_count": 3,
   "metadata": {
    "colab": {
     "base_uri": "https://localhost:8080/",
     "height": 206
    },
    "colab_type": "code",
    "executionInfo": {
     "elapsed": 477,
     "status": "ok",
     "timestamp": 1599284700842,
     "user": {
      "displayName": "Good Student",
      "photoUrl": "",
      "userId": "15405652371175931493"
     },
     "user_tz": 420
    },
    "id": "kTdLrVO5Ryiy",
    "outputId": "c9ca0166-1efa-4d7a-ca23-a762aed41779"
   },
   "outputs": [
    {
     "data": {
      "text/html": [
       "<div>\n",
       "<style scoped>\n",
       "    .dataframe tbody tr th:only-of-type {\n",
       "        vertical-align: middle;\n",
       "    }\n",
       "\n",
       "    .dataframe tbody tr th {\n",
       "        vertical-align: top;\n",
       "    }\n",
       "\n",
       "    .dataframe thead th {\n",
       "        text-align: right;\n",
       "    }\n",
       "</style>\n",
       "<table border=\"1\" class=\"dataframe\">\n",
       "  <thead>\n",
       "    <tr style=\"text-align: right;\">\n",
       "      <th></th>\n",
       "      <th>feature</th>\n",
       "      <th>actual</th>\n",
       "      <th>predicted</th>\n",
       "    </tr>\n",
       "  </thead>\n",
       "  <tbody>\n",
       "    <tr>\n",
       "      <th>0</th>\n",
       "      <td>0.000000</td>\n",
       "      <td>-51.000000</td>\n",
       "      <td>-50.991193</td>\n",
       "    </tr>\n",
       "    <tr>\n",
       "      <th>1</th>\n",
       "      <td>25.000000</td>\n",
       "      <td>-12.000000</td>\n",
       "      <td>-11.399052</td>\n",
       "    </tr>\n",
       "    <tr>\n",
       "      <th>2</th>\n",
       "      <td>117.583220</td>\n",
       "      <td>134.907414</td>\n",
       "      <td>135.223663</td>\n",
       "    </tr>\n",
       "    <tr>\n",
       "      <th>3</th>\n",
       "      <td>108.922466</td>\n",
       "      <td>134.085179</td>\n",
       "      <td>121.507752</td>\n",
       "    </tr>\n",
       "    <tr>\n",
       "      <th>4</th>\n",
       "      <td>96.839983</td>\n",
       "      <td>114.530638</td>\n",
       "      <td>102.372896</td>\n",
       "    </tr>\n",
       "  </tbody>\n",
       "</table>\n",
       "</div>"
      ],
      "text/plain": [
       "      feature      actual   predicted\n",
       "0    0.000000  -51.000000  -50.991193\n",
       "1   25.000000  -12.000000  -11.399052\n",
       "2  117.583220  134.907414  135.223663\n",
       "3  108.922466  134.085179  121.507752\n",
       "4   96.839983  114.530638  102.372896"
      ]
     },
     "execution_count": 3,
     "metadata": {},
     "output_type": "execute_result"
    }
   ],
   "source": [
    "# Keep in mind that the filename will likely be different on your computer (especially later in course)\n",
    "filename = 'data/linearRegPredicted.csv'\n",
    "df = pd.read_csv(filename)\n",
    "df.head()"
   ]
  },
  {
   "cell_type": "code",
   "execution_count": 4,
   "metadata": {
    "colab": {},
    "colab_type": "code",
    "executionInfo": {
     "elapsed": 538,
     "status": "ok",
     "timestamp": 1599284701271,
     "user": {
      "displayName": "Good Student",
      "photoUrl": "",
      "userId": "15405652371175931493"
     },
     "user_tz": 420
    },
    "id": "9nvIpoHZZQuT"
   },
   "outputs": [],
   "source": [
    "feature = df['feature'].values\n",
    "actual = df['actual'].values\n",
    "predicted = df['predicted'].values"
   ]
  },
  {
   "cell_type": "markdown",
   "metadata": {
    "colab_type": "text",
    "id": "eboK5397RyjA"
   },
   "source": [
    "<h2>Legends</h2>\n",
    "Plot legends assist in assigning meaning to your various plot elements. The loc (legend location) parameter accepts strings, ints, and tuples. \n",
    "\n",
    "<table>\n",
    "  <colgroup span=\"4\"></colgroup>\n",
    "  <tbody><tr>\n",
    "    <th>String</th>\n",
    "    <th>int</th>\n",
    "  </tr>\n",
    "  <tr>\n",
    "    <td>'best'</td>\n",
    "    <td>0</td>\n",
    "  </tr>\n",
    "  <tr>\n",
    "    <td>'upper right'</td>\n",
    "    <td>1</td>\n",
    "  </tr>    \n",
    "  <tr>\n",
    "    <td>'lower left'</td>\n",
    "    <td>3</td>\n",
    "  </tr>\n",
    "  <tr>\n",
    "    <td>'lower right'</td>\n",
    "    <td>4</td>\n",
    "  </tr>\n",
    "  <tr>\n",
    "    <td>'right'</td>\n",
    "    <td>5</td>\n",
    "  </tr>\n",
    "  <tr>\n",
    "    <td>'center left'</td>\n",
    "    <td>6</td>\n",
    "  </tr>\n",
    "    <tr>\n",
    "    <td>'center right'</td>\n",
    "    <td>7</td>\n",
    "  </tr>\n",
    "  <tr>\n",
    "    <td>'lower center'</td>\n",
    "    <td>8</td>\n",
    "  </tr>\n",
    "    <tr>\n",
    "    <td>'upper center'</td>\n",
    "    <td>9</td>\n",
    "  </tr>\n",
    "      <tr>\n",
    "    <td>'center'</td>\n",
    "    <td>10</td>\n",
    "  </tr>\n",
    "    </tbody>\n",
    "</table>\n",
    "\n",
    "The parameter accepts a 2 element tuple  ``x, y`` where (0, 0) is the of the lower-leftcorner of the legend in axes coordinates. "
   ]
  },
  {
   "cell_type": "markdown",
   "metadata": {
    "colab_type": "text",
    "id": "2HfToJB4sGE9"
   },
   "source": [
    "<b>MATLAB-style</b>"
   ]
  },
  {
   "cell_type": "code",
   "execution_count": 5,
   "metadata": {
    "colab": {
     "base_uri": "https://localhost:8080/",
     "height": 282
    },
    "colab_type": "code",
    "executionInfo": {
     "elapsed": 816,
     "status": "ok",
     "timestamp": 1599284816483,
     "user": {
      "displayName": "Good Student",
      "photoUrl": "",
      "userId": "15405652371175931493"
     },
     "user_tz": 420
    },
    "id": "qcycHUK3sHRT",
    "outputId": "e0a15354-9e89-4c98-936e-02043a203a2e"
   },
   "outputs": [
    {
     "data": {
      "text/plain": [
       "<matplotlib.legend.Legend at 0x115cc1650>"
      ]
     },
     "execution_count": 5,
     "metadata": {},
     "output_type": "execute_result"
    },
    {
     "data": {
      "image/png": "[encoded data removed]",
      "text/plain": [
       "<Figure size 432x288 with 1 Axes>"
      ]
     },
     "metadata": {
      "needs_background": "light"
     },
     "output_type": "display_data"
    }
   ],
   "source": [
    "# predictions (best fit line)\n",
    "plt.plot(feature, predicted, c = 'r', label = 'Prediction')\n",
    "\n",
    "# actual\n",
    "plt.scatter(feature, actual, c= 'k', label = 'Actual')\n",
    "plt.legend()"
   ]
  },
  {
   "cell_type": "code",
   "execution_count": 6,
   "metadata": {
    "colab": {
     "base_uri": "https://localhost:8080/",
     "height": 282
    },
    "colab_type": "code",
    "executionInfo": {
     "elapsed": 996,
     "status": "ok",
     "timestamp": 1599285061520,
     "user": {
      "displayName": "Good Student",
      "photoUrl": "",
      "userId": "15405652371175931493"
     },
     "user_tz": 420
    },
    "id": "OMqSUtL9sGge",
    "outputId": "b8c9b9e0-f5d5-425e-c9a0-271b003a5bba"
   },
   "outputs": [
    {
     "data": {
      "text/plain": [
       "<matplotlib.legend.Legend at 0x115e96810>"
      ]
     },
     "execution_count": 6,
     "metadata": {},
     "output_type": "execute_result"
    },
    {
     "data": {
      "image/png": "[encoded data removed]",
      "text/plain": [
       "<Figure size 432x288 with 1 Axes>"
      ]
     },
     "metadata": {
      "needs_background": "light"
     },
     "output_type": "display_data"
    }
   ],
   "source": [
    "# predictions (best fit line)\n",
    "plt.plot(feature, predicted, c = 'r', label = 'Prediction')\n",
    "\n",
    "# actual\n",
    "plt.scatter(feature, actual, c= 'k', label = 'Actual')\n",
    "plt.legend(loc=\"center right\")"
   ]
  },
  {
   "cell_type": "code",
   "execution_count": 7,
   "metadata": {
    "colab": {
     "base_uri": "https://localhost:8080/",
     "height": 282
    },
    "colab_type": "code",
    "executionInfo": {
     "elapsed": 492,
     "status": "ok",
     "timestamp": 1599285127684,
     "user": {
      "displayName": "Good Student",
      "photoUrl": "",
      "userId": "15405652371175931493"
     },
     "user_tz": 420
    },
    "id": "rGQCGM570aYs",
    "outputId": "c3601c25-a113-4b01-abdb-6c9a45b31533"
   },
   "outputs": [
    {
     "data": {
      "text/plain": [
       "<matplotlib.legend.Legend at 0x115dc8ad0>"
      ]
     },
     "execution_count": 7,
     "metadata": {},
     "output_type": "execute_result"
    },
    {
     "data": {
      "image/png": "[encoded data removed]",
      "text/plain": [
       "<Figure size 432x288 with 1 Axes>"
      ]
     },
     "metadata": {
      "needs_background": "light"
     },
     "output_type": "display_data"
    }
   ],
   "source": [
    "# You can move the legend outside of the plotting area.\n",
    "\n",
    "# predictions (best fit line)\n",
    "plt.plot(feature, predicted, c = 'r', label = 'Prediction')\n",
    "\n",
    "# actual\n",
    "plt.scatter(feature, actual, c= 'k', label = 'Actual')\n",
    "\n",
    "plt.legend(loc=(1.02,0))"
   ]
  },
  {
   "cell_type": "markdown",
   "metadata": {
    "colab_type": "text",
    "id": "DzPM-HwR0cxi"
   },
   "source": [
    "<b>Object-oriented</b>"
   ]
  },
  {
   "cell_type": "code",
   "execution_count": 8,
   "metadata": {
    "colab": {
     "base_uri": "https://localhost:8080/",
     "height": 282
    },
    "colab_type": "code",
    "executionInfo": {
     "elapsed": 565,
     "status": "ok",
     "timestamp": 1599285197980,
     "user": {
      "displayName": "Good Student",
      "photoUrl": "",
      "userId": "15405652371175931493"
     },
     "user_tz": 420
    },
    "id": "6UqesmXy0dXH",
    "outputId": "f0ff36bb-0911-4693-bc4e-006e218625c5"
   },
   "outputs": [
    {
     "data": {
      "text/plain": [
       "<matplotlib.legend.Legend at 0x115fc46d0>"
      ]
     },
     "execution_count": 8,
     "metadata": {},
     "output_type": "execute_result"
    },
    {
     "data": {
      "image/png": "[encoded data removed]",
      "text/plain": [
       "<Figure size 432x288 with 1 Axes>"
      ]
     },
     "metadata": {
      "needs_background": "light"
     },
     "output_type": "display_data"
    }
   ],
   "source": [
    "fig, axes = plt.subplots(nrows = 1, ncols = 1);\n",
    "\n",
    "# predictions (best fit line)\n",
    "axes.plot(feature, predicted, c = 'r', label = 'Prediction')\n",
    "\n",
    "# actual\n",
    "axes.scatter(feature, actual, c= 'k', label = 'Actual')\n",
    "axes.legend()"
   ]
  },
  {
   "cell_type": "code",
   "execution_count": 9,
   "metadata": {
    "colab": {
     "base_uri": "https://localhost:8080/",
     "height": 282
    },
    "colab_type": "code",
    "executionInfo": {
     "elapsed": 521,
     "status": "ok",
     "timestamp": 1599285336740,
     "user": {
      "displayName": "Good Student",
      "photoUrl": "",
      "userId": "15405652371175931493"
     },
     "user_tz": 420
    },
    "id": "71zycBiI05Us",
    "outputId": "2285a90a-7fb2-4278-dac7-a27dade8870f"
   },
   "outputs": [
    {
     "data": {
      "text/plain": [
       "<matplotlib.legend.Legend at 0x116136690>"
      ]
     },
     "execution_count": 9,
     "metadata": {},
     "output_type": "execute_result"
    },
    {
     "data": {
      "image/png": "[encoded data removed]",
      "text/plain": [
       "<Figure size 432x288 with 1 Axes>"
      ]
     },
     "metadata": {
      "needs_background": "light"
     },
     "output_type": "display_data"
    }
   ],
   "source": [
    "fig, axes = plt.subplots(nrows = 1, ncols = 1);\n",
    "\n",
    "# predictions (best fit line)\n",
    "axes.plot(feature, predicted, c = 'r', label = 'Prediction')\n",
    "\n",
    "# actual\n",
    "axes.scatter(feature, actual, c= 'k', label = 'Actual')\n",
    "axes.legend(loc=\"center right\")"
   ]
  },
  {
   "cell_type": "code",
   "execution_count": 10,
   "metadata": {
    "colab": {
     "base_uri": "https://localhost:8080/",
     "height": 282
    },
    "colab_type": "code",
    "executionInfo": {
     "elapsed": 537,
     "status": "ok",
     "timestamp": 1599285403798,
     "user": {
      "displayName": "Good Student",
      "photoUrl": "",
      "userId": "15405652371175931493"
     },
     "user_tz": 420
    },
    "id": "7g8PCEjT05xS",
    "outputId": "1e18e51f-fe17-40d1-a57b-a34f557ef513"
   },
   "outputs": [
    {
     "data": {
      "text/plain": [
       "<matplotlib.legend.Legend at 0x116257ad0>"
      ]
     },
     "execution_count": 10,
     "metadata": {},
     "output_type": "execute_result"
    },
    {
     "data": {
      "image/png": "[encoded data removed]",
      "text/plain": [
       "<Figure size 432x288 with 1 Axes>"
      ]
     },
     "metadata": {
      "needs_background": "light"
     },
     "output_type": "display_data"
    }
   ],
   "source": [
    "# You can move the legend outside of the plotting area.\n",
    "fig, axes = plt.subplots(nrows = 1, ncols = 1);\n",
    "\n",
    "# predictions (best fit line)\n",
    "axes.plot(feature, predicted, c = 'r', label = 'Prediction')\n",
    "\n",
    "# actual\n",
    "axes.scatter(feature, actual, c= 'k', label = 'Actual')\n",
    "\n",
    "axes.legend(loc=(1.02,0))"
   ]
  },
  {
   "cell_type": "code",
   "execution_count": null,
   "metadata": {},
   "outputs": [],
   "source": []
  }
 ],
 "metadata": {
  "anaconda-cloud": {},
  "colab": {
   "collapsed_sections": [],
   "name": "Legends.ipynb",
   "provenance": []
  },
  "kernelspec": {
   "display_name": "Python 3",
   "language": "python",
   "name": "python3"
  },
  "language_info": {
   "codemirror_mode": {
    "name": "ipython",
    "version": 3
   },
   "file_extension": ".py",
   "mimetype": "text/x-python",
   "name": "python",
   "nbconvert_exporter": "python",
   "pygments_lexer": "ipython3",
   "version": "3.7.4"
  }
 },
 "nbformat": 4,
 "nbformat_minor": 1
}
