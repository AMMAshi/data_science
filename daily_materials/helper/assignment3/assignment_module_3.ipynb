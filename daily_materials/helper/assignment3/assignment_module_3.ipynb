{
  "nbformat": 4,
  "nbformat_minor": 0,
  "metadata": {
    "kernelspec": {
      "display_name": "Python 3",
      "language": "python",
      "name": "python3"
    },
    "language_info": {
      "codemirror_mode": {
        "name": "ipython",
        "version": 3
      },
      "file_extension": ".py",
      "mimetype": "text/x-python",
      "name": "python",
      "nbconvert_exporter": "python",
      "pygments_lexer": "ipython3",
      "version": "3.5.6"
    },
    "colab": {
      "name": "assignment_module_3.ipynb",
      "provenance": [],
      "include_colab_link": true
    }
  },
  "cells": [
    {
      "cell_type": "markdown",
      "metadata": {
        "id": "view-in-github",
        "colab_type": "text"
      },
      "source": [
        "<a href=\"https://colab.research.google.com/github/daniel-dc-cd/data_science/blob/master/assignment_module_3.ipynb\" target=\"_parent\"><img src=\"https://colab.research.google.com/assets/colab-badge.svg\" alt=\"Open In Colab\"/></a>"
      ]
    },
    {
      "cell_type": "markdown",
      "metadata": {
        "id": "6c9fsJpqCC2b"
      },
      "source": [
        "### In each cell complete the task using pandas"
      ]
    },
    {
      "cell_type": "code",
      "metadata": {
        "id": "hg_sIkv_CC2e"
      },
      "source": [
        "import pandas as pd\n",
        "import numpy as np"
      ],
      "execution_count": null,
      "outputs": []
    },
    {
      "cell_type": "markdown",
      "metadata": {
        "id": "BX874lK4CC2s"
      },
      "source": [
        "Read in the titanic.csv file in the `~/data` directory as a pandas dataframe called **df**"
      ]
    },
    {
      "cell_type": "code",
      "metadata": {
        "id": "ojgJ3wqUCC2x"
      },
      "source": [
        ""
      ],
      "execution_count": null,
      "outputs": []
    },
    {
      "cell_type": "markdown",
      "metadata": {
        "id": "R8Oq_qrCCC2-"
      },
      "source": [
        "Display the head of the dataframe"
      ]
    },
    {
      "cell_type": "code",
      "metadata": {
        "id": "bjHBkQRtCC3B"
      },
      "source": [
        ""
      ],
      "execution_count": null,
      "outputs": []
    },
    {
      "cell_type": "markdown",
      "metadata": {
        "id": "ikD3XVZnCC3K"
      },
      "source": [
        "What is the percentage of people who survived? (hint find the mean of the survival column)"
      ]
    },
    {
      "cell_type": "code",
      "metadata": {
        "id": "pd1-RmEtCC3L"
      },
      "source": [
        ""
      ],
      "execution_count": null,
      "outputs": []
    },
    {
      "cell_type": "markdown",
      "metadata": {
        "id": "XSJLBImrCC3T"
      },
      "source": [
        "How many women and how many men survived?"
      ]
    },
    {
      "cell_type": "code",
      "metadata": {
        "id": "klIyvOTvCC3U"
      },
      "source": [
        ""
      ],
      "execution_count": null,
      "outputs": []
    },
    {
      "cell_type": "markdown",
      "metadata": {
        "id": "KufP8fcFCC3c"
      },
      "source": [
        "What is the percentage of people that survied who paid a fare less than 10?"
      ]
    },
    {
      "cell_type": "code",
      "metadata": {
        "id": "Mjv4JOz1CC3f"
      },
      "source": [
        ""
      ],
      "execution_count": null,
      "outputs": []
    },
    {
      "cell_type": "markdown",
      "metadata": {
        "id": "ZjEHLwflCC3m"
      },
      "source": [
        "What is the average age of those who didn't survive?"
      ]
    },
    {
      "cell_type": "code",
      "metadata": {
        "id": "XMSKlPBQCC3n"
      },
      "source": [
        ""
      ],
      "execution_count": null,
      "outputs": []
    },
    {
      "cell_type": "markdown",
      "metadata": {
        "id": "2VSXhYtRCC3s"
      },
      "source": [
        "What is the average age of those who did survive?"
      ]
    },
    {
      "cell_type": "code",
      "metadata": {
        "id": "VBBADfufCC3w"
      },
      "source": [
        ""
      ],
      "execution_count": null,
      "outputs": []
    },
    {
      "cell_type": "markdown",
      "metadata": {
        "id": "KXOFWFyYCC32"
      },
      "source": [
        "What is the average age of those who did and didn't survive grouped by gender?"
      ]
    },
    {
      "cell_type": "code",
      "metadata": {
        "id": "6Iklsz9zCC33"
      },
      "source": [
        ""
      ],
      "execution_count": null,
      "outputs": []
    },
    {
      "cell_type": "markdown",
      "metadata": {
        "id": "vqf5OGCiCC38"
      },
      "source": [
        "## Tidy GDP"
      ]
    },
    {
      "cell_type": "markdown",
      "metadata": {
        "id": "hcUYOSgrCC39"
      },
      "source": [
        "Manipulate the GDP.csv file and make it tidy, the result should be a pandas dataframe with the following columns:\n",
        "* Country Name\n",
        "* Country Code\n",
        "* Year\n",
        "* GDP"
      ]
    },
    {
      "cell_type": "code",
      "metadata": {
        "id": "EKLzmZLmCC3_"
      },
      "source": [
        ""
      ],
      "execution_count": null,
      "outputs": []
    }
  ]
}