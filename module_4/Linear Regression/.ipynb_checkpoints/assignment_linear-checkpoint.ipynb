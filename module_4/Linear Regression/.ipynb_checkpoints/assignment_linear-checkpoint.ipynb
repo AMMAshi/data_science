{
 "cells": [
  {
   "cell_type": "markdown",
   "metadata": {},
   "source": [
    "### Linear Regression\n",
    "Using the same seattle weather data as last chapter develop a linear regression model"
   ]
  },
  {
   "cell_type": "code",
   "execution_count": null,
   "metadata": {},
   "outputs": [],
   "source": [
    "#import the pakcages that we will need\n",
    "import pandas as pd\n",
    "import matplotlib.pyplot as plt\n",
    "import seaborn as sns\n",
    "import numpy as np\n",
    "\n",
    "df = pd.read_csv('~/data/seattle_weather_1948-2017.csv')\n",
    "\n",
    "numrows = 25549 # can be as large as 25549\n",
    "\n",
    "#create an empty dataframe to hold values\n",
    "regression_df = pd.DataFrame({'intercept':[1] * numrows,\n",
    "                             'today':[0.0] * numrows,\n",
    "                             'tomorrow':[0.0] * numrows})\n",
    "\n",
    "#sort columns for convience\n",
    "seq = ['intercept',\n",
    "       'today',\n",
    "       'tomorrow']\n",
    "regression_df = regression_df.reindex(columns=seq)"
   ]
  },
  {
   "cell_type": "code",
   "execution_count": null,
   "metadata": {},
   "outputs": [],
   "source": [
    "for i in range(0 , numrows):\n",
    "    tomorrow = df.iloc[i,1]\n",
    "    today = df.iloc[(i-1),1]\n",
    "    regression_df.iat[i,2] = tomorrow\n",
    "    regression_df.iat[i,1] = today\n",
    "\n",
    "regression_df = regression_df.dropna() #exclude any rows with missing data"
   ]
  },
  {
   "cell_type": "code",
   "execution_count": null,
   "metadata": {},
   "outputs": [],
   "source": [
    "#this makes a simple dataframe with a relationship that we can now plot\n",
    "regression_df.describe"
   ]
  },
  {
   "cell_type": "code",
   "execution_count": null,
   "metadata": {},
   "outputs": [],
   "source": [
    "sns.scatterplot(x='today',y='tomorrow',data=regression_df)"
   ]
  },
  {
   "cell_type": "markdown",
   "metadata": {},
   "source": [
    "Creating a basic linear model to best predict these values. Start with a slope and intercept values of 1 and then iterate through gradient descent."
   ]
  },
  {
   "cell_type": "code",
   "execution_count": null,
   "metadata": {},
   "outputs": [],
   "source": [
    "def gradientDescent(X, y, param, alpha, num_iters):\n",
    "    \"\"\"\n",
    "       Performs gradient descent to learn param\n",
    "    \"\"\"\n",
    "    for i in range(num_iters):\n",
    "        y_hat = np.dot(X, param) # notice we use numpy here to efficently calculate the values\n",
    "        param = param - alpha * np.dot(X.T, y_hat-y)\n",
    "    return param"
   ]
  },
  {
   "cell_type": "markdown",
   "metadata": {},
   "source": [
    "In this fucntion *param* is the initial guess of the values of the linear function and \n",
    "*X* is the vector of data values and y is the realization"
   ]
  },
  {
   "cell_type": "code",
   "execution_count": null,
   "metadata": {},
   "outputs": [],
   "source": [
    "X = regression_df.iloc[0:200:,0:2]\n",
    "y = regression_df.iloc[0:200:,2]\n",
    "param = np.array([1,1])\n",
    "alpha = 0.0001\n",
    "num_iters = 1000\n",
    "\n",
    "solution = gradientDescent(X, y, param, alpha, num_iters)\n",
    "solution"
   ]
  },
  {
   "cell_type": "code",
   "execution_count": null,
   "metadata": {},
   "outputs": [],
   "source": [
    "grid = sns.JointGrid(x=regression_df.today,y=regression_df.tomorrow)\n",
    "grid.plot_joint(plt.scatter, color=\"g\")\n",
    "plt.plot([0, 5], [0.0811, 1.77], linewidth=2)"
   ]
  },
  {
   "cell_type": "markdown",
   "metadata": {},
   "source": [
    "However, building models from scratch is hard! Lucky for us there is a very popular library that trains models for us!"
   ]
  },
  {
   "cell_type": "code",
   "execution_count": null,
   "metadata": {},
   "outputs": [],
   "source": [
    "from sklearn import linear_model\n",
    "#modify the data to work with this library\n",
    "x = regression_df.today.values\n",
    "y = regression_df.tomorrow.values\n",
    "x = x.reshape(regression_df.shape[0], 1)\n",
    "y = y.reshape(regression_df.shape[0], 1)"
   ]
  },
  {
   "cell_type": "code",
   "execution_count": null,
   "metadata": {},
   "outputs": [],
   "source": [
    "mymodel = linear_model.LinearRegression().fit(x,y)"
   ]
  },
  {
   "cell_type": "code",
   "execution_count": null,
   "metadata": {},
   "outputs": [],
   "source": [
    "plt.scatter(x, y,  color='black')\n",
    "plt.plot(x, mymodel.predict(x), color='blue', linewidth=3)\n",
    "plt.xlim(-0.1,2.1)\n",
    "plt.ylim(-0.1,2.1)\n",
    "plt.show()"
   ]
  },
  {
   "cell_type": "code",
   "execution_count": null,
   "metadata": {},
   "outputs": [],
   "source": [
    "# using the r2 (pronounced r squared) value we can get a basic measure of model quality\n",
    "from sklearn.metrics import r2_score\n",
    "r2_score(y,mymodel.predict(x))"
   ]
  },
  {
   "cell_type": "markdown",
   "metadata": {},
   "source": [
    "We can plot the difference between the predictions and the actual values for a visual estimate of performance. A perfect model would result in this being a straight line with a slope of 1. Notice how the model predicts only lower values, meaning that it tends to under predict the actual amount of rain."
   ]
  },
  {
   "cell_type": "code",
   "execution_count": null,
   "metadata": {},
   "outputs": [],
   "source": [
    "plt.scatter(mymodel.predict(x), y,  color='black')\n",
    "plt.xlim(-0.1,2.1) #to keep the same scale as the previous plot\n",
    "plt.ylim(-0.1,2.1) # same reason as xlim\n",
    "plt.show()"
   ]
  },
  {
   "cell_type": "markdown",
   "metadata": {},
   "source": [
    "### From this point modify the scikit-learn linear regression method to use two variables.\n",
    "Hint. Your x values should have the same number of rows but two columns. You will not be able to plot the line (as it will be 3 dimensional) but you can plot the model predictions agains the actual values."
   ]
  },
  {
   "cell_type": "code",
   "execution_count": 97,
   "metadata": {},
   "outputs": [],
   "source": [
    "numrows = 25547 \n",
    "\n",
    "###################### adjust this code to add columns here #########################################\n",
    "regression_df = pd.DataFrame({'today':[0.0]*numrows,\n",
    "                             'tomorrow':[0.0]*numrows})\n",
    "\n",
    "#sort columns for convience\n",
    "seq = ['today',\n",
    "       'tomorrow']\n",
    "\n",
    "regression_df = regression_df.reindex(columns=seq)\n",
    "\n",
    "for i in range(0 , numrows):\n",
    "    tomorrow = df.iloc[i,1]\n",
    "    today = df.iloc[(i-1),1]\n",
    "    regression_df.iat[i,1] = tomorrow\n",
    "    regression_df.iat[i,0] = today\n",
    "\n",
    "regression_df = regression_df.dropna() #exclude any rows with missing data\n",
    "#####################################################################################################"
   ]
  },
  {
   "cell_type": "code",
   "execution_count": null,
   "metadata": {},
   "outputs": [],
   "source": []
  }
 ],
 "metadata": {
  "kernelspec": {
   "display_name": "Python 3",
   "language": "python",
   "name": "python3"
  },
  "language_info": {
   "codemirror_mode": {
    "name": "ipython",
    "version": 3
   },
   "file_extension": ".py",
   "mimetype": "text/x-python",
   "name": "python",
   "nbconvert_exporter": "python",
   "pygments_lexer": "ipython3",
   "version": "3.5.6"
  }
 },
 "nbformat": 4,
 "nbformat_minor": 2
}
