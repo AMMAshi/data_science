{
 "cells": [
  {
   "cell_type": "markdown",
   "metadata": {},
   "source": [
    "### Decision Tree\n",
    "Using the same seattle weather data as last chapter develop a linear regression model"
   ]
  },
  {
   "cell_type": "code",
   "execution_count": null,
   "metadata": {},
   "outputs": [],
   "source": [
    "import pandas as pd\n",
    "import matplotlib.pyplot as plt\n",
    "import seaborn as sns\n",
    "import numpy as np\n",
    "\n",
    "df = pd.read_csv('~/data/seattle_weather_1948-2017.csv')\n",
    "\n",
    "numrows = 25549 \n",
    "\n",
    "decision_tree_df = pd.DataFrame({'today':[0.0]*numrows,\n",
    "                             'tomorrow':[True]*numrows})\n",
    "\n",
    "#sort columns for convience\n",
    "seq = ['today',\n",
    "       'tomorrow']\n",
    "\n",
    "decision_tree_df = decision_tree_df.reindex(columns=seq)\n",
    "\n",
    "for i in range(0 , numrows):\n",
    "    tomorrow = df.iloc[i,1]\n",
    "    today = df.iloc[(i-1),1]\n",
    "    decision_tree_df.iat[i,1] = tomorrow\n",
    "    decision_tree_df.iat[i,0] = today\n",
    "\n",
    "decision_tree_df = decision_tree_df.dropna() #exclude any rows with missing data"
   ]
  },
  {
   "cell_type": "code",
   "execution_count": null,
   "metadata": {},
   "outputs": [],
   "source": [
    "decision_tree_df.head()"
   ]
  },
  {
   "cell_type": "code",
   "execution_count": null,
   "metadata": {},
   "outputs": [],
   "source": [
    "from sklearn import tree\n",
    "#modify the data to work with this model\n",
    "x = decision_tree_df.today.values\n",
    "y = decision_tree_df.tomorrow.values\n",
    "x = x.reshape(decision_tree_df.shape[0], 1)\n",
    "#note that we did not need to reshape the y values as we did with linear regression"
   ]
  },
  {
   "cell_type": "code",
   "execution_count": null,
   "metadata": {},
   "outputs": [],
   "source": [
    "clf = tree.DecisionTreeClassifier(criterion='entropy').fit(x, y)"
   ]
  },
  {
   "cell_type": "code",
   "execution_count": null,
   "metadata": {},
   "outputs": [],
   "source": [
    "#we can calculate the accuarcy using score\n",
    "score = clf.score(x,y)\n",
    "print(score)"
   ]
  },
  {
   "cell_type": "code",
   "execution_count": null,
   "metadata": {},
   "outputs": [],
   "source": [
    "from sklearn import metrics\n",
    "#we can also make a simple confusion matrix\n",
    "predictions = clf.predict(x)\n",
    "cm = metrics.confusion_matrix(y, predictions)\n",
    "print(cm)"
   ]
  },
  {
   "cell_type": "code",
   "execution_count": null,
   "metadata": {},
   "outputs": [],
   "source": [
    "#Here is a bit nicer matrix\n",
    "plt.figure(figsize=(9,9))\n",
    "sns.heatmap(cm, annot=True, fmt=\".3f\", linewidths=.5, square = True, cmap = 'Blues_r');\n",
    "plt.ylabel('Actual label');\n",
    "plt.xlabel('Predicted label');\n",
    "all_sample_title = 'Accuracy Score: {0}'.format(score)\n",
    "plt.title(all_sample_title, size = 15);"
   ]
  },
  {
   "cell_type": "code",
   "execution_count": null,
   "metadata": {},
   "outputs": [],
   "source": [
    "dotfile = open(\"dt.dot\", 'w')\n",
    "tree.export_graphviz(clf, out_file=dotfile)\n",
    "dotfile.close()"
   ]
  },
  {
   "cell_type": "markdown",
   "metadata": {},
   "source": [
    "Open the file and paste the contents into the graph viz tool here: [here:](http://webgraphviz.com/)"
   ]
  }
 ],
 "metadata": {
  "kernelspec": {
   "display_name": "Python 3",
   "language": "python",
   "name": "python3"
  },
  "language_info": {
   "codemirror_mode": {
    "name": "ipython",
    "version": 3
   },
   "file_extension": ".py",
   "mimetype": "text/x-python",
   "name": "python",
   "nbconvert_exporter": "python",
   "pygments_lexer": "ipython3",
   "version": "3.5.6"
  }
 },
 "nbformat": 4,
 "nbformat_minor": 2
}
