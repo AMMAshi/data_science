{
 "cells": [
  {
   "cell_type": "markdown",
   "metadata": {},
   "source": [
    "# Complete Each Exercise"
   ]
  },
  {
   "cell_type": "markdown",
   "metadata": {},
   "source": [
    "This is not graded, but important for learning Python. This is the learn by doing portion of the lecture. It is important to keep in mind that there are several ways to solve each of these exercises."
   ]
  },
  {
   "cell_type": "markdown",
   "metadata": {},
   "source": [
    "## 0) Conditional Logic \n",
    "\n",
    "1. Declare and assign a variable num to an integer value. \n",
    "2. Write a series of if, elif, else statements that will print the num you assigned. But for multiples of three print \"Fizz\" instead of the number and for the multiples of five print \"Buzz\". For numbers which are multiples of both three and five print \"FizzBuzz\"."
   ]
  },
  {
   "cell_type": "code",
   "execution_count": 3,
   "metadata": {},
   "outputs": [
    {
     "name": "stdout",
     "output_type": "stream",
     "text": [
      "Buzz\n"
     ]
    }
   ],
   "source": [
    "num = 5\n",
    "if num % 3 == 0 and num % 5 == 0:\n",
    "    print('FizzBuzz')\n",
    "elif num % 3 == 0:\n",
    "    print('Fizz')\n",
    "elif num % 5 == 0:\n",
    "    print('Buzz')\n",
    "else:\n",
    "    print(num)\n",
    "    "
   ]
  },
  {
   "cell_type": "code",
   "execution_count": 10,
   "metadata": {},
   "outputs": [
    {
     "name": "stdout",
     "output_type": "stream",
     "text": [
      "Fizz\n"
     ]
    }
   ],
   "source": [
    "num1 = 33\n",
    "string = \"\"\n",
    "if num1 % 3 == 0:\n",
    "    string = string + \"Fizz\"\n",
    "if num1 % 5 == 0:\n",
    "    string = string + \"Buzz\"\n",
    "if num1 % 5 != 0 and num1 % 3 != 0:\n",
    "    string = string + str(num1)\n",
    "print(string)\n"
   ]
  },
  {
   "cell_type": "code",
   "execution_count": 16,
   "metadata": {},
   "outputs": [
    {
     "name": "stdout",
     "output_type": "stream",
     "text": [
      "fizz\n",
      "buzz\n",
      "fizzbuzz\n"
     ]
    }
   ],
   "source": [
    "# Yasir\n",
    "num = 15\n",
    "if num % 3 == 0 or num % 5 == 0:\n",
    "    if num % 3 == 0:\n",
    "        print(\"fizz\")\n",
    "    if num % 5 == 0:\n",
    "        print(\"buzz\")\n",
    "    if num % 3 == 0 and num % 5 == 0:\n",
    "        print(\"fizzbuzz\")\n",
    "                "
   ]
  },
  {
   "cell_type": "code",
   "execution_count": 17,
   "metadata": {},
   "outputs": [
    {
     "name": "stdout",
     "output_type": "stream",
     "text": [
      "1\n",
      "2\n",
      "Fizz\n",
      "4\n",
      "Buzz\n",
      "Fizz\n",
      "7\n",
      "8\n",
      "Fizz\n",
      "Buzz\n",
      "11\n",
      "Fizz\n",
      "13\n",
      "14\n",
      "Fizz\n",
      "16\n",
      "17\n",
      "Fizz\n",
      "19\n",
      "Buzz\n"
     ]
    }
   ],
   "source": [
    "# Hutaf\n",
    "for x in range(1,21):\n",
    "  if x % 3 == 0:\n",
    "    print(\"Fizz\")\n",
    "  elif x % 5 == 0:\n",
    "    print(\"Buzz\")\n",
    "  elif x % 3 == 0 and x % 5 == 0:\n",
    "    print(\"FizzBuzz\")\n",
    "  else:\n",
    "    print(x)"
   ]
  },
  {
   "cell_type": "code",
   "execution_count": 22,
   "metadata": {},
   "outputs": [
    {
     "name": "stdout",
     "output_type": "stream",
     "text": [
      "1\n",
      "2\n",
      "fuzz\n",
      "4\n",
      "buzz\n",
      "fuzz\n",
      "7\n",
      "8\n",
      "fuzz\n",
      "buzz\n",
      "11\n",
      "fuzz\n",
      "13\n",
      "14\n",
      "FizzBuzz\n",
      "16\n",
      "17\n",
      "fuzz\n",
      "19\n",
      "buzz\n"
     ]
    }
   ],
   "source": [
    "# Atheer\n",
    "for num in range(1,21):\n",
    "    if num % 3 == 0 and num % 5 != 0:    \n",
    "        print(\"fuzz\")    \n",
    "    if num % 5 == 0 and num % 3 != 0:    \n",
    "        print(\"buzz\")    \n",
    "    if num % 3 == 0 and num % 5 == 0:    \n",
    "        print(\"FizzBuzz\")    \n",
    "    if num % 3 != 0 and num % 5 != 0:    \n",
    "        print(num)"
   ]
  },
  {
   "cell_type": "markdown",
   "metadata": {},
   "source": [
    "## 1). FizzBuzz\n",
    "\n",
    "Write a program that prints the numbers from 1 to 20. But for multiples of three print “Fizz” instead of the number and for the multiples of five print “Buzz”. For numbers which are multiples of both three and five print “FizzBuzz”."
   ]
  },
  {
   "cell_type": "code",
   "execution_count": 12,
   "metadata": {},
   "outputs": [
    {
     "name": "stdout",
     "output_type": "stream",
     "text": [
      "1\n",
      "2\n",
      "Fizz\n",
      "4\n",
      "Buzz\n",
      "Fizz\n",
      "7\n",
      "8\n",
      "Fizz\n",
      "Buzz\n",
      "11\n",
      "Fizz\n",
      "13\n",
      "14\n",
      "FizzBuzz\n",
      "16\n",
      "17\n",
      "Fizz\n",
      "19\n",
      "Buzz\n",
      "Fizz\n",
      "22\n",
      "23\n",
      "Fizz\n",
      "Buzz\n",
      "26\n",
      "Fizz\n",
      "28\n",
      "29\n",
      "FizzBuzz\n",
      "31\n",
      "32\n",
      "Fizz\n",
      "34\n",
      "Buzz\n",
      "Fizz\n",
      "37\n",
      "38\n",
      "Fizz\n",
      "Buzz\n",
      "41\n",
      "Fizz\n",
      "43\n",
      "44\n",
      "FizzBuzz\n",
      "46\n",
      "47\n",
      "Fizz\n",
      "49\n",
      "Buzz\n",
      "Fizz\n",
      "52\n",
      "53\n",
      "Fizz\n",
      "Buzz\n",
      "56\n",
      "Fizz\n",
      "58\n",
      "59\n",
      "FizzBuzz\n",
      "61\n",
      "62\n",
      "Fizz\n",
      "64\n",
      "Buzz\n",
      "Fizz\n",
      "67\n",
      "68\n",
      "Fizz\n",
      "Buzz\n",
      "71\n",
      "Fizz\n",
      "73\n",
      "74\n",
      "FizzBuzz\n",
      "76\n",
      "77\n",
      "Fizz\n",
      "79\n",
      "Buzz\n",
      "Fizz\n",
      "82\n",
      "83\n",
      "Fizz\n",
      "Buzz\n",
      "86\n",
      "Fizz\n",
      "88\n",
      "89\n",
      "FizzBuzz\n",
      "91\n",
      "92\n",
      "Fizz\n",
      "94\n",
      "Buzz\n",
      "Fizz\n",
      "97\n",
      "98\n",
      "Fizz\n",
      "Buzz\n"
     ]
    }
   ],
   "source": [
    "for num in range (1,101):\n",
    "    if num % 3 == 0 and num % 5 == 0:\n",
    "        print('FizzBuzz')\n",
    "    elif num % 3 == 0:\n",
    "        print('Fizz')\n",
    "    elif num % 5 == 0:\n",
    "        print('Buzz')\n",
    "    else:\n",
    "        print(num)"
   ]
  },
  {
   "cell_type": "markdown",
   "metadata": {},
   "source": [
    "## 2). Generate Prime Numbers\n",
    "Write a program to generate a <b>list</b> of all prime numbers less than 20.\n",
    "Before starting it is important to note what a prime number is.\n",
    "1. A prime number has to be a positive integer\n",
    "2. Divisible by exactly 2 integers (1 and itself)\n",
    "3. 1 is not a prime number"
   ]
  },
  {
   "cell_type": "code",
   "execution_count": 26,
   "metadata": {},
   "outputs": [
    {
     "name": "stdout",
     "output_type": "stream",
     "text": [
      "[2, 3, 5, 7, 11, 13, 17, 19, 23, 29, 31, 37, 41, 43, 47, 53, 59, 61, 67, 71, 73, 79, 83, 89, 97, 101]\n"
     ]
    }
   ],
   "source": [
    "# Approach 1 with nested for loops\n",
    "primes = []\n",
    "\n",
    "for possPrime in range(2,102):\n",
    "    isPrime = True\n",
    "    for num in range(2, possPrime):\n",
    "        if possPrime % num == 0:\n",
    "            isPrime = False\n",
    "    if isPrime:\n",
    "        primes.append(possPrime)\n",
    "print(primes)"
   ]
  },
  {
   "cell_type": "code",
   "execution_count": 28,
   "metadata": {},
   "outputs": [
    {
     "name": "stdout",
     "output_type": "stream",
     "text": [
      "[2, 3, 5, 7, 11, 13, 17, 19, 23, 29, 31, 37, 41, 43, 47, 53, 59, 61, 67, 71, 73, 79, 83, 89, 97, 101]\n"
     ]
    }
   ],
   "source": [
    "# Approach 2 with a break, beacuse we exit the loop as soon as we find it's not a prime number\n",
    "primes = []\n",
    "for possPrime in range(2,102):\n",
    "    isPrime = True\n",
    "    for num in range(2, possPrime):\n",
    "        if possPrime % num == 0:\n",
    "            isPrime = False\n",
    "            break\n",
    "    if isPrime:\n",
    "        primes.append(possPrime)\n",
    "print(primes)"
   ]
  },
  {
   "cell_type": "code",
   "execution_count": 32,
   "metadata": {},
   "outputs": [
    {
     "name": "stdout",
     "output_type": "stream",
     "text": [
      "[2, 3, 5, 7, 11, 13, 17, 19, 23, 29, 31, 37, 41, 43, 47, 53, 59, 61, 67, 71, 73, 79, 83, 89, 97, 101]\n"
     ]
    }
   ],
   "source": [
    "# Approach #3 For Loops, Break and Square Root (for even more efficiency)\n",
    "\n",
    "primes = []\n",
    "for possPrime in range(2,102):\n",
    "    isPrime = True\n",
    "    for num in range(2, int(possPrime ** 0.5) + 1):\n",
    "        if possPrime % num == 0:\n",
    "            isPrime = False\n",
    "            break\n",
    "    if isPrime:\n",
    "        primes.append(possPrime)\n",
    "print(primes)\n"
   ]
  },
  {
   "cell_type": "code",
   "execution_count": 31,
   "metadata": {},
   "outputs": [
    {
     "name": "stdout",
     "output_type": "stream",
     "text": [
      "[2, 3, 5, 7, 11, 13, 17, 19, 23, 29, 31, 37, 41, 43, 47]\n"
     ]
    }
   ],
   "source": [
    "# Aziz Humaid \n",
    "\n",
    "lis = [] \n",
    "for i in range(2,50):   \n",
    "    lis.append(i)\n",
    "    for j in range(2,i-1):        \n",
    "         if(i%j==0):             \n",
    "             lis.pop()             \n",
    "             break\n",
    "print(lis)"
   ]
  },
  {
   "cell_type": "markdown",
   "metadata": {},
   "source": [
    "## 3). Fibonacci Sequence"
   ]
  },
  {
   "cell_type": "markdown",
   "metadata": {},
   "source": [
    "Fibonacci sequence is an integer sequence characterized by the fact that every number after the first two is the sum of the two preceding ones. By definition, the first two numbers in the Fibonacci sequence are either 1 and 1 (<b>which is how I like to code it</b>), or 0 and 1, depending on the chosen starting point of the sequence, and each subsequent number is the sum of the previous two."
   ]
  },
  {
   "cell_type": "code",
   "execution_count": 34,
   "metadata": {},
   "outputs": [
    {
     "name": "stdout",
     "output_type": "stream",
     "text": [
      "fib(a): 1 fib(b): 1\n",
      "fib(a): 1 fib(b): 2\n",
      "fib(a): 2 fib(b): 3\n",
      "fib(a): 3 fib(b): 5\n",
      "fib(a): 5 fib(b): 8\n",
      "fib(a): 8 fib(b): 13\n",
      "fib(a): 13 fib(b): 21\n",
      "fib(a): 21 fib(b): 34\n",
      "fib(a): 34 fib(b): 55\n",
      "fib(a): 55 fib(b): 89\n"
     ]
    }
   ],
   "source": [
    "# There are many ways to produce the fib seq.\n",
    "\n",
    "a,b = 1,1\n",
    "for i in range(10):\n",
    "    print(\"fib(a):\", a,\"fib(b):\", b)\n",
    "    a,b = b,a+b\n"
   ]
  },
  {
   "cell_type": "markdown",
   "metadata": {},
   "source": [
    "## 4). Word Count\n",
    "\n",
    "For the text in the variable <b>text</b>, count how many times each word occurs"
   ]
  },
  {
   "cell_type": "code",
   "execution_count": 38,
   "metadata": {},
   "outputs": [],
   "source": [
    "# Multiple line string\n",
    "text=\"\"\"Mr. Collins returned into Hertfordshire soon after it had been quitted by the Gardiners and Jane; but as he took up his abode with the Lucases, his arrival was no great inconvenience to Mrs. Bennet. His marriage was now fast approaching, and she was at length so far resigned as to think it inevitable, and even repeatedly to say, in an ill-natured tone, that she \"wished they might be happy.\" Thursday was to be the wedding day, and on Wednesday Miss Lucas paid her farewell visit; and when she rose to take leave, Elizabeth, ashamed of her mother's ungracious and reluctant good wishes, and sincerely affected herself, accompanied her out of the room. As they went downstairs together, Charlotte said:\"\"\""
   ]
  },
  {
   "cell_type": "code",
   "execution_count": 39,
   "metadata": {},
   "outputs": [
    {
     "name": "stdout",
     "output_type": "stream",
     "text": [
      "Mr. Collins returned into Hertfordshire soon after it had been quitted by the Gardiners and Jane; but as he took up his abode with the Lucases, his arrival was no great inconvenience to Mrs. Bennet. His marriage was now fast approaching, and she was at length so far resigned as to think it inevitable, and even repeatedly to say, in an ill-natured tone, that she \"wished they might be happy.\" Thursday was to be the wedding day, and on Wednesday Miss Lucas paid her farewell visit; and when she rose to take leave, Elizabeth, ashamed of her mother's ungracious and reluctant good wishes, and sincerely affected herself, accompanied her out of the room. As they went downstairs together, Charlotte said:\n"
     ]
    }
   ],
   "source": [
    "print(text)"
   ]
  },
  {
   "cell_type": "code",
   "execution_count": 37,
   "metadata": {},
   "outputs": [
    {
     "data": {
      "text/plain": [
       "'mr collins returned into hertfordshire soon after it had been quitted by the gardiners and jane but as he took up his abode with the lucases his arrival was no great inconvenience to mrs bennet his marriage was now fast approaching and she was at length so far resigned as to think it inevitable and even repeatedly to say in an illnatured tone that she wished they might be happy thursday was to be the wedding day and on wednesday miss lucas paid her farewell visit and when she rose to take leave elizabeth ashamed of her mothers ungracious and reluctant good wishes and sincerely affected herself accompanied her out of the room as they went downstairs together charlotte said'"
      ]
     },
     "execution_count": 37,
     "metadata": {},
     "output_type": "execute_result"
    }
   ],
   "source": [
    "# Manal Almehmadi\n",
    "import string\n",
    "newText = text.translate(text.maketrans('', '', string.punctuation)).lower()\n",
    "newText"
   ]
  },
  {
   "cell_type": "code",
   "execution_count": 40,
   "metadata": {},
   "outputs": [
    {
     "data": {
      "text/plain": [
       "'Mr. Collins returned into Hertfordshire soon after it had been quitted by the Gardiners and Jane; but as he took up his abode with the Lucases, his arrival was no great inconvenience to Mrs. Bennet. His marriage was now fast approaching, and she was at length so far resigned as to think it inevitable, and even repeatedly to say, in an ill-natured tone, that she \"wished they might be happy.\" Thursday was to be the wedding day, and on Wednesday Miss Lucas paid her farewell visit; and when she rose to take leave, Elizabeth, ashamed of her mother\\'s ungracious and reluctant good wishes, and sincerely affected herself, accompanied her out of the room. As they went downstairs together, Charlotte said:'"
      ]
     },
     "execution_count": 40,
     "metadata": {},
     "output_type": "execute_result"
    }
   ],
   "source": [
    "text"
   ]
  },
  {
   "cell_type": "markdown",
   "metadata": {},
   "source": [
    "### Subtasks"
   ]
  },
  {
   "cell_type": "markdown",
   "metadata": {},
   "source": [
    "#### a. String Manipulation: Remove Punctuation, make all text lower()"
   ]
  },
  {
   "cell_type": "code",
   "execution_count": 42,
   "metadata": {},
   "outputs": [
    {
     "data": {
      "text/plain": [
       "\"mr  collins returned into hertfordshire soon after it had been quitted by the gardiners and jane  but as he took up his abode with the lucases  his arrival was no great inconvenience to mrs  bennet  his marriage was now fast approaching  and she was at length so far resigned as to think it inevitable  and even repeatedly to say  in an ill natured tone  that she  wished they might be happy   thursday was to be the wedding day  and on wednesday miss lucas paid her farewell visit  and when she rose to take leave  elizabeth  ashamed of her mother's ungracious and reluctant good wishes  and sincerely affected herself  accompanied her out of the room  as they went downstairs together  charlotte said \""
      ]
     },
     "execution_count": 42,
     "metadata": {},
     "output_type": "execute_result"
    }
   ],
   "source": [
    "for char in ':;-.,\\n\\\"':\n",
    "    text=text.replace(char, ' ')\n",
    "text = text.lower()\n",
    "text"
   ]
  },
  {
   "cell_type": "code",
   "execution_count": 44,
   "metadata": {},
   "outputs": [
    {
     "name": "stdout",
     "output_type": "stream",
     "text": [
      "['mr', 'collins', 'returned', 'into', 'hertfordshire', 'soon', 'after', 'it', 'had', 'been', 'quitted', 'by', 'the', 'gardiners', 'and', 'jane', 'but', 'as', 'he', 'took', 'up', 'his', 'abode', 'with', 'the', 'lucases', 'his', 'arrival', 'was', 'no', 'great', 'inconvenience', 'to', 'mrs', 'bennet', 'his', 'marriage', 'was', 'now', 'fast', 'approaching', 'and', 'she', 'was', 'at', 'length', 'so', 'far', 'resigned', 'as', 'to', 'think', 'it', 'inevitable', 'and', 'even', 'repeatedly', 'to', 'say', 'in', 'an', 'illnatured', 'tone', 'that', 'she', 'wished', 'they', 'might', 'be', 'happy', 'thursday', 'was', 'to', 'be', 'the', 'wedding', 'day', 'and', 'on', 'wednesday', 'miss', 'lucas', 'paid', 'her', 'farewell', 'visit', 'and', 'when', 'she', 'rose', 'to', 'take', 'leave', 'elizabeth', 'ashamed', 'of', 'her', 'mothers', 'ungracious', 'and', 'reluctant', 'good', 'wishes', 'and', 'sincerely', 'affected', 'herself', 'accompanied', 'her', 'out', 'of', 'the', 'room', 'as', 'they', 'went', 'downstairs', 'together', 'charlotte', 'said']\n",
      "[1, 1, 1, 1, 1, 1, 1, 2, 1, 1, 1, 1, 4, 1, 7, 1, 1, 3, 1, 1, 1, 3, 1, 1, 4, 1, 3, 1, 4, 1, 1, 1, 5, 1, 1, 3, 1, 4, 1, 1, 1, 7, 3, 4, 1, 1, 1, 1, 1, 3, 5, 1, 2, 1, 7, 1, 1, 5, 1, 1, 1, 1, 1, 1, 3, 1, 2, 1, 2, 1, 1, 4, 5, 2, 4, 1, 1, 7, 1, 1, 1, 1, 1, 3, 1, 1, 7, 1, 3, 1, 5, 1, 1, 1, 1, 2, 3, 1, 1, 7, 1, 1, 1, 7, 1, 1, 1, 1, 3, 1, 2, 4, 1, 3, 2, 1, 1, 1, 1, 1]\n"
     ]
    }
   ],
   "source": []
  },
  {
   "cell_type": "markdown",
   "metadata": {},
   "source": [
    "#### b. String Manipulation: Split each word into a element in a list"
   ]
  },
  {
   "cell_type": "code",
   "execution_count": 43,
   "metadata": {},
   "outputs": [
    {
     "data": {
      "text/plain": [
       "['mr',\n",
       " 'collins',\n",
       " 'returned',\n",
       " 'into',\n",
       " 'hertfordshire',\n",
       " 'soon',\n",
       " 'after',\n",
       " 'it',\n",
       " 'had',\n",
       " 'been',\n",
       " 'quitted',\n",
       " 'by',\n",
       " 'the',\n",
       " 'gardiners',\n",
       " 'and',\n",
       " 'jane',\n",
       " 'but',\n",
       " 'as',\n",
       " 'he',\n",
       " 'took',\n",
       " 'up',\n",
       " 'his',\n",
       " 'abode',\n",
       " 'with',\n",
       " 'the',\n",
       " 'lucases',\n",
       " 'his',\n",
       " 'arrival',\n",
       " 'was',\n",
       " 'no',\n",
       " 'great',\n",
       " 'inconvenience',\n",
       " 'to',\n",
       " 'mrs',\n",
       " 'bennet',\n",
       " 'his',\n",
       " 'marriage',\n",
       " 'was',\n",
       " 'now',\n",
       " 'fast',\n",
       " 'approaching',\n",
       " 'and',\n",
       " 'she',\n",
       " 'was',\n",
       " 'at',\n",
       " 'length',\n",
       " 'so',\n",
       " 'far',\n",
       " 'resigned',\n",
       " 'as',\n",
       " 'to',\n",
       " 'think',\n",
       " 'it',\n",
       " 'inevitable',\n",
       " 'and',\n",
       " 'even',\n",
       " 'repeatedly',\n",
       " 'to',\n",
       " 'say',\n",
       " 'in',\n",
       " 'an',\n",
       " 'ill',\n",
       " 'natured',\n",
       " 'tone',\n",
       " 'that',\n",
       " 'she',\n",
       " 'wished',\n",
       " 'they',\n",
       " 'might',\n",
       " 'be',\n",
       " 'happy',\n",
       " 'thursday',\n",
       " 'was',\n",
       " 'to',\n",
       " 'be',\n",
       " 'the',\n",
       " 'wedding',\n",
       " 'day',\n",
       " 'and',\n",
       " 'on',\n",
       " 'wednesday',\n",
       " 'miss',\n",
       " 'lucas',\n",
       " 'paid',\n",
       " 'her',\n",
       " 'farewell',\n",
       " 'visit',\n",
       " 'and',\n",
       " 'when',\n",
       " 'she',\n",
       " 'rose',\n",
       " 'to',\n",
       " 'take',\n",
       " 'leave',\n",
       " 'elizabeth',\n",
       " 'ashamed',\n",
       " 'of',\n",
       " 'her',\n",
       " \"mother's\",\n",
       " 'ungracious',\n",
       " 'and',\n",
       " 'reluctant',\n",
       " 'good',\n",
       " 'wishes',\n",
       " 'and',\n",
       " 'sincerely',\n",
       " 'affected',\n",
       " 'herself',\n",
       " 'accompanied',\n",
       " 'her',\n",
       " 'out',\n",
       " 'of',\n",
       " 'the',\n",
       " 'room',\n",
       " 'as',\n",
       " 'they',\n",
       " 'went',\n",
       " 'downstairs',\n",
       " 'together',\n",
       " 'charlotte',\n",
       " 'said']"
      ]
     },
     "execution_count": 43,
     "metadata": {},
     "output_type": "execute_result"
    }
   ],
   "source": [
    "word_list = text.split()\n",
    "word_list"
   ]
  },
  {
   "cell_type": "markdown",
   "metadata": {},
   "source": [
    "#### c. Count how many times each word occurs in a list using a dictionary"
   ]
  },
  {
   "cell_type": "code",
   "execution_count": 45,
   "metadata": {},
   "outputs": [
    {
     "name": "stdout",
     "output_type": "stream",
     "text": [
      "['mr', 'collins', 'returned', 'into', 'hertfordshire', 'soon', 'after', 'it', 'had', 'been', 'quitted', 'by', 'the', 'gardiners', 'and', 'jane', 'but', 'as', 'he', 'took', 'up', 'his', 'abode', 'with', 'the', 'lucases', 'his', 'arrival', 'was', 'no', 'great', 'inconvenience', 'to', 'mrs', 'bennet', 'his', 'marriage', 'was', 'now', 'fast', 'approaching', 'and', 'she', 'was', 'at', 'length', 'so', 'far', 'resigned', 'as', 'to', 'think', 'it', 'inevitable', 'and', 'even', 'repeatedly', 'to', 'say', 'in', 'an', 'illnatured', 'tone', 'that', 'she', 'wished', 'they', 'might', 'be', 'happy', 'thursday', 'was', 'to', 'be', 'the', 'wedding', 'day', 'and', 'on', 'wednesday', 'miss', 'lucas', 'paid', 'her', 'farewell', 'visit', 'and', 'when', 'she', 'rose', 'to', 'take', 'leave', 'elizabeth', 'ashamed', 'of', 'her', 'mothers', 'ungracious', 'and', 'reluctant', 'good', 'wishes', 'and', 'sincerely', 'affected', 'herself', 'accompanied', 'her', 'out', 'of', 'the', 'room', 'as', 'they', 'went', 'downstairs', 'together', 'charlotte', 'said']\n",
      "[1, 1, 1, 1, 1, 1, 1, 2, 1, 1, 1, 1, 4, 1, 7, 1, 1, 3, 1, 1, 1, 3, 1, 1, 4, 1, 3, 1, 4, 1, 1, 1, 5, 1, 1, 3, 1, 4, 1, 1, 1, 7, 3, 4, 1, 1, 1, 1, 1, 3, 5, 1, 2, 1, 7, 1, 1, 5, 1, 1, 1, 1, 1, 1, 3, 1, 2, 1, 2, 1, 1, 4, 5, 2, 4, 1, 1, 7, 1, 1, 1, 1, 1, 3, 1, 1, 7, 1, 3, 1, 5, 1, 1, 1, 1, 2, 3, 1, 1, 7, 1, 1, 1, 7, 1, 1, 1, 1, 3, 1, 2, 4, 1, 3, 2, 1, 1, 1, 1, 1]\n"
     ]
    }
   ],
   "source": [
    "#Hutaf\n",
    "textlist= newText.split()\n",
    "\n",
    "frequency = []\n",
    "for x in textlist:\n",
    "    frequency.append(textlist.count(x))\n",
    "print(textlist)\n",
    "print(frequency)"
   ]
  },
  {
   "cell_type": "code",
   "execution_count": 47,
   "metadata": {},
   "outputs": [
    {
     "data": {
      "text/plain": [
       "{'mr': 1,\n",
       " 'collins': 1,\n",
       " 'returned': 1,\n",
       " 'into': 1,\n",
       " 'hertfordshire': 1,\n",
       " 'soon': 1,\n",
       " 'after': 1,\n",
       " 'it': 2,\n",
       " 'had': 1,\n",
       " 'been': 1,\n",
       " 'quitted': 1,\n",
       " 'by': 1,\n",
       " 'the': 4,\n",
       " 'gardiners': 1,\n",
       " 'and': 7,\n",
       " 'jane': 1,\n",
       " 'but': 1,\n",
       " 'as': 3,\n",
       " 'he': 1,\n",
       " 'took': 1,\n",
       " 'up': 1,\n",
       " 'his': 3,\n",
       " 'abode': 1,\n",
       " 'with': 1,\n",
       " 'lucases': 1,\n",
       " 'arrival': 1,\n",
       " 'was': 4,\n",
       " 'no': 1,\n",
       " 'great': 1,\n",
       " 'inconvenience': 1,\n",
       " 'to': 5,\n",
       " 'mrs': 1,\n",
       " 'bennet': 1,\n",
       " 'marriage': 1,\n",
       " 'now': 1,\n",
       " 'fast': 1,\n",
       " 'approaching': 1,\n",
       " 'she': 3,\n",
       " 'at': 1,\n",
       " 'length': 1,\n",
       " 'so': 1,\n",
       " 'far': 1,\n",
       " 'resigned': 1,\n",
       " 'think': 1,\n",
       " 'inevitable': 1,\n",
       " 'even': 1,\n",
       " 'repeatedly': 1,\n",
       " 'say': 1,\n",
       " 'in': 1,\n",
       " 'an': 1,\n",
       " 'ill': 1,\n",
       " 'natured': 1,\n",
       " 'tone': 1,\n",
       " 'that': 1,\n",
       " 'wished': 1,\n",
       " 'they': 2,\n",
       " 'might': 1,\n",
       " 'be': 2,\n",
       " 'happy': 1,\n",
       " 'thursday': 1,\n",
       " 'wedding': 1,\n",
       " 'day': 1,\n",
       " 'on': 1,\n",
       " 'wednesday': 1,\n",
       " 'miss': 1,\n",
       " 'lucas': 1,\n",
       " 'paid': 1,\n",
       " 'her': 3,\n",
       " 'farewell': 1,\n",
       " 'visit': 1,\n",
       " 'when': 1,\n",
       " 'rose': 1,\n",
       " 'take': 1,\n",
       " 'leave': 1,\n",
       " 'elizabeth': 1,\n",
       " 'ashamed': 1,\n",
       " 'of': 2,\n",
       " \"mother's\": 1,\n",
       " 'ungracious': 1,\n",
       " 'reluctant': 1,\n",
       " 'good': 1,\n",
       " 'wishes': 1,\n",
       " 'sincerely': 1,\n",
       " 'affected': 1,\n",
       " 'herself': 1,\n",
       " 'accompanied': 1,\n",
       " 'out': 1,\n",
       " 'room': 1,\n",
       " 'went': 1,\n",
       " 'downstairs': 1,\n",
       " 'together': 1,\n",
       " 'charlotte': 1,\n",
       " 'said': 1}"
      ]
     },
     "execution_count": 47,
     "metadata": {},
     "output_type": "execute_result"
    }
   ],
   "source": [
    "word_dict = {}\n",
    "for word in word_list:\n",
    "    word_dict[word] = word_dict.get(word, 0) + 1\n",
    "word_dict"
   ]
  },
  {
   "cell_type": "markdown",
   "metadata": {},
   "source": [
    "## 5). Calculating a Monthly Car Payment"
   ]
  },
  {
   "cell_type": "markdown",
   "metadata": {},
   "source": [
    "Your monthly payment, also called your Equated Monthly Installment (EMI) is defined by [Investopedia](https://en.wikipedia.org/wiki/Investopedia) as a fixed payment amount made by a borrower to a lender at a specified date each calendar month. Equated monthly installments are used to pay off both interest and principal each month, so that over a specified number of years, the loan is paid off in full."
   ]
  },
  {
   "cell_type": "markdown",
   "metadata": {},
   "source": [
    "A monthly payment can be calculated using an EMI formula similar to the one below."
   ]
  },
  {
   "cell_type": "markdown",
   "metadata": {},
   "source": [
    "![](images/EMI_formula.png)"
   ]
  },
  {
   "cell_type": "markdown",
   "metadata": {},
   "source": [
    "Say I buy want to buy a 2019 Toyota Sienna for $31,115. I am curious how much it will cost me each month if I decide on taking out a loan to buy this new vehicle. A car dealer offers me a fixed interest rate of 7.02% over a 60 month term. How much would a monthly car payment be assuming the sales tax rate is 7.5%?"
   ]
  },
  {
   "cell_type": "code",
   "execution_count": 48,
   "metadata": {},
   "outputs": [
    {
     "name": "stderr",
     "output_type": "stream",
     "text": [
      "UsageError: Line magic function `%mathplotlib` not found.\n"
     ]
    }
   ],
   "source": [
    "%mathplotlib inline\n",
    "\n",
    "import mathplotlib.pyplot as plt\n",
    "import numpy as np\n",
    "import pandas as pd\n",
    "\n",
    "P = 31115 * (1.075)\n",
    "r = 0.0702/12\n",
    "n = 60\n",
    "\n",
    "numerator = (r * ((1 + r)**n))\n",
    "denominator = ((1 + r)**n -1 )\n",
    "est_monthly_payment = P * (numerator/denominator)\n",
    "\n",
    "print(est_monthly_payment)\n",
    "\n"
   ]
  },
  {
   "cell_type": "markdown",
   "metadata": {},
   "source": [
    "While this is a simplified and relatively accurate calculation (except for the sales tax being an assumption), more accurate calculations require work. Data Analytics/Science is about communicating results. We really do need how to do something more complicated (how much in total interest are we paying, how do we visualize this. This is what we will explore in future lectures)"
   ]
  },
  {
   "cell_type": "markdown",
   "metadata": {},
   "source": [
    "### Challenge Question: Calculate Total Interest Paid Over the Course of a Loan"
   ]
  },
  {
   "cell_type": "markdown",
   "metadata": {},
   "source": [
    "This requires knowing a few things. It is often the case"
   ]
  },
  {
   "cell_type": "markdown",
   "metadata": {},
   "source": [
    "1-) The first thing is to calculate how much of the monthly payment will be paid towards interest in a month."
   ]
  },
  {
   "cell_type": "markdown",
   "metadata": {},
   "source": [
    "Interest paid\n",
    "\n",
    "$$r*P$$ where r/12 is the interest rate (APR) and P is the principal"
   ]
  },
  {
   "cell_type": "code",
   "execution_count": null,
   "metadata": {
    "collapsed": true
   },
   "outputs": [],
   "source": []
  },
  {
   "cell_type": "markdown",
   "metadata": {},
   "source": [
    "2-) Each month, some of the monthly payment is paid towards principal and some towards interest. As principal lowers, to work out the interest you pay in the following months, you need to first calculate your new principal."
   ]
  },
  {
   "cell_type": "code",
   "execution_count": null,
   "metadata": {
    "collapsed": true
   },
   "outputs": [],
   "source": []
  },
  {
   "cell_type": "markdown",
   "metadata": {},
   "source": [
    "3-) Repeat steps 1 and 2 until the principal reaches 0."
   ]
  },
  {
   "cell_type": "code",
   "execution_count": 20,
   "metadata": {},
   "outputs": [],
   "source": []
  }
 ],
 "metadata": {
  "anaconda-cloud": {},
  "kernelspec": {
   "display_name": "Python 3",
   "language": "python",
   "name": "python3"
  },
  "language_info": {
   "codemirror_mode": {
    "name": "ipython",
    "version": 3
   },
   "file_extension": ".py",
   "mimetype": "text/x-python",
   "name": "python",
   "nbconvert_exporter": "python",
   "pygments_lexer": "ipython3",
   "version": "3.7.0"
  }
 },
 "nbformat": 4,
 "nbformat_minor": 1
}
